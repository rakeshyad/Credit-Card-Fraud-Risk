{
 "cells": [
  {
   "cell_type": "markdown",
   "metadata": {
    "id": "0MLqdCZIYyXT"
   },
   "source": [
    "# <h1><font color='red'>Capstone Project - Lending Club"
   ]
  },
  {
   "cell_type": "markdown",
   "metadata": {
    "id": "XCSWDYvUZTpu"
   },
   "source": [
    "<h3><font color='green'>Introduction</font><br></h3>\n",
    "\n",
    "\"LendingClub is a US peer-to-peer lending company, headquartered in San Francisco, California. It was the first peer-to-peer lender to register its offerings as securities with the Securities and Exchange Commission (SEC), and to offer loan trading on a secondary market. LendingClub is the world's largest peer-to-peer lending platform.\"   "
   ]
  },
  {
   "cell_type": "markdown",
   "metadata": {
    "id": "8GHNwQBdassb"
   },
   "source": [
    "<h3><font color='maroon'><b>Problem Statement:</b></font></h3><br>Goal is to try find a better prediction model to prevent investing on '\"bad loans\"."
   ]
  },
  {
   "cell_type": "markdown",
   "metadata": {
    "id": "ji6FgWdoJRfm"
   },
   "source": [
    "# **Loading the required libraries**"
   ]
  },
  {
   "cell_type": "code",
   "execution_count": 1,
   "metadata": {
    "colab": {
     "base_uri": "https://localhost:8080/"
    },
    "id": "MtkFcBz_JVgx",
    "outputId": "c1e1fda1-5b4f-4dc4-d70c-e5c8595aab49"
   },
   "outputs": [],
   "source": [
    "import pandas as pd\n",
    "import numpy as np\n",
    "import seaborn as sns\n",
    "import warnings\n",
    "import matplotlib.pyplot as plt\n",
    "%matplotlib inline\n",
    "\n",
    "# To ignore any warnings\n",
    "import warnings \n",
    "warnings.filterwarnings(\"ignore\")\n"
   ]
  },
  {
   "cell_type": "markdown",
   "metadata": {
    "id": "5MZ2xCDXLZQH"
   },
   "source": [
    "# **Loading the data and creating a dataframe**"
   ]
  },
  {
   "cell_type": "code",
   "execution_count": 2,
   "metadata": {
    "id": "XUSAY00ILaym"
   },
   "outputs": [],
   "source": [
    " # Importing accepted dataset in csv format as the data received is in .txt format and then converted to excel.\n",
    "df = pd.read_csv(r'C:\\Users\\shubh\\OneDrive\\Documents\\Internship\\Technocolabs\\Random_forest\\accepted_2007_to_2018Q4.csv')\n"
   ]
  },
  {
   "cell_type": "markdown",
   "metadata": {
    "id": "wC3CCXaCi_Zq"
   },
   "source": [
    "# **Data Description**"
   ]
  },
  {
   "cell_type": "code",
   "execution_count": 3,
   "metadata": {
    "colab": {
     "base_uri": "https://localhost:8080/"
    },
    "id": "_lW9RdrKjFsR",
    "outputId": "09d1a06c-cfec-44ba-89ae-038a22847a1e"
   },
   "outputs": [
    {
     "data": {
      "text/plain": [
       "(2260701, 151)"
      ]
     },
     "execution_count": 3,
     "metadata": {},
     "output_type": "execute_result"
    }
   ],
   "source": [
    "# Checking the number of observations and number of variables in the dataset\n",
    "df.shape"
   ]
  },
  {
   "cell_type": "code",
   "execution_count": 4,
   "metadata": {
    "id": "a0xEcoUIo5q4"
   },
   "outputs": [],
   "source": [
    "# we want to increase it, because in this case there are a lot of column names\n",
    "pd.options.display.max_rows = 1000"
   ]
  },
  {
   "cell_type": "code",
   "execution_count": 5,
   "metadata": {
    "colab": {
     "base_uri": "https://localhost:8080/",
     "height": 1000
    },
    "id": "esp_DAIxvKFT",
    "outputId": "174d7e2b-aa8f-4df8-8fca-076914302115"
   },
   "outputs": [
    {
     "data": {
      "text/html": [
       "<div>\n",
       "<style scoped>\n",
       "    .dataframe tbody tr th:only-of-type {\n",
       "        vertical-align: middle;\n",
       "    }\n",
       "\n",
       "    .dataframe tbody tr th {\n",
       "        vertical-align: top;\n",
       "    }\n",
       "\n",
       "    .dataframe thead th {\n",
       "        text-align: right;\n",
       "    }\n",
       "</style>\n",
       "<table border=\"1\" class=\"dataframe\">\n",
       "  <thead>\n",
       "    <tr style=\"text-align: right;\">\n",
       "      <th></th>\n",
       "      <th>0</th>\n",
       "      <th>1</th>\n",
       "      <th>2</th>\n",
       "      <th>3</th>\n",
       "      <th>4</th>\n",
       "    </tr>\n",
       "  </thead>\n",
       "  <tbody>\n",
       "    <tr>\n",
       "      <th>id</th>\n",
       "      <td>68407277</td>\n",
       "      <td>68355089</td>\n",
       "      <td>68341763</td>\n",
       "      <td>66310712</td>\n",
       "      <td>68476807</td>\n",
       "    </tr>\n",
       "    <tr>\n",
       "      <th>member_id</th>\n",
       "      <td>NaN</td>\n",
       "      <td>NaN</td>\n",
       "      <td>NaN</td>\n",
       "      <td>NaN</td>\n",
       "      <td>NaN</td>\n",
       "    </tr>\n",
       "    <tr>\n",
       "      <th>loan_amnt</th>\n",
       "      <td>3600.0</td>\n",
       "      <td>24700.0</td>\n",
       "      <td>20000.0</td>\n",
       "      <td>35000.0</td>\n",
       "      <td>10400.0</td>\n",
       "    </tr>\n",
       "    <tr>\n",
       "      <th>funded_amnt</th>\n",
       "      <td>3600.0</td>\n",
       "      <td>24700.0</td>\n",
       "      <td>20000.0</td>\n",
       "      <td>35000.0</td>\n",
       "      <td>10400.0</td>\n",
       "    </tr>\n",
       "    <tr>\n",
       "      <th>funded_amnt_inv</th>\n",
       "      <td>3600.0</td>\n",
       "      <td>24700.0</td>\n",
       "      <td>20000.0</td>\n",
       "      <td>35000.0</td>\n",
       "      <td>10400.0</td>\n",
       "    </tr>\n",
       "    <tr>\n",
       "      <th>term</th>\n",
       "      <td>36 months</td>\n",
       "      <td>36 months</td>\n",
       "      <td>60 months</td>\n",
       "      <td>60 months</td>\n",
       "      <td>60 months</td>\n",
       "    </tr>\n",
       "    <tr>\n",
       "      <th>int_rate</th>\n",
       "      <td>13.99</td>\n",
       "      <td>11.99</td>\n",
       "      <td>10.78</td>\n",
       "      <td>14.85</td>\n",
       "      <td>22.45</td>\n",
       "    </tr>\n",
       "    <tr>\n",
       "      <th>installment</th>\n",
       "      <td>123.03</td>\n",
       "      <td>820.28</td>\n",
       "      <td>432.66</td>\n",
       "      <td>829.9</td>\n",
       "      <td>289.91</td>\n",
       "    </tr>\n",
       "    <tr>\n",
       "      <th>grade</th>\n",
       "      <td>C</td>\n",
       "      <td>C</td>\n",
       "      <td>B</td>\n",
       "      <td>C</td>\n",
       "      <td>F</td>\n",
       "    </tr>\n",
       "    <tr>\n",
       "      <th>sub_grade</th>\n",
       "      <td>C4</td>\n",
       "      <td>C1</td>\n",
       "      <td>B4</td>\n",
       "      <td>C5</td>\n",
       "      <td>F1</td>\n",
       "    </tr>\n",
       "    <tr>\n",
       "      <th>emp_title</th>\n",
       "      <td>leadman</td>\n",
       "      <td>Engineer</td>\n",
       "      <td>truck driver</td>\n",
       "      <td>Information Systems Officer</td>\n",
       "      <td>Contract Specialist</td>\n",
       "    </tr>\n",
       "    <tr>\n",
       "      <th>emp_length</th>\n",
       "      <td>10+ years</td>\n",
       "      <td>10+ years</td>\n",
       "      <td>10+ years</td>\n",
       "      <td>10+ years</td>\n",
       "      <td>3 years</td>\n",
       "    </tr>\n",
       "    <tr>\n",
       "      <th>home_ownership</th>\n",
       "      <td>MORTGAGE</td>\n",
       "      <td>MORTGAGE</td>\n",
       "      <td>MORTGAGE</td>\n",
       "      <td>MORTGAGE</td>\n",
       "      <td>MORTGAGE</td>\n",
       "    </tr>\n",
       "    <tr>\n",
       "      <th>annual_inc</th>\n",
       "      <td>55000.0</td>\n",
       "      <td>65000.0</td>\n",
       "      <td>63000.0</td>\n",
       "      <td>110000.0</td>\n",
       "      <td>104433.0</td>\n",
       "    </tr>\n",
       "    <tr>\n",
       "      <th>verification_status</th>\n",
       "      <td>Not Verified</td>\n",
       "      <td>Not Verified</td>\n",
       "      <td>Not Verified</td>\n",
       "      <td>Source Verified</td>\n",
       "      <td>Source Verified</td>\n",
       "    </tr>\n",
       "    <tr>\n",
       "      <th>issue_d</th>\n",
       "      <td>Dec-2015</td>\n",
       "      <td>Dec-2015</td>\n",
       "      <td>Dec-2015</td>\n",
       "      <td>Dec-2015</td>\n",
       "      <td>Dec-2015</td>\n",
       "    </tr>\n",
       "    <tr>\n",
       "      <th>loan_status</th>\n",
       "      <td>Fully Paid</td>\n",
       "      <td>Fully Paid</td>\n",
       "      <td>Fully Paid</td>\n",
       "      <td>Current</td>\n",
       "      <td>Fully Paid</td>\n",
       "    </tr>\n",
       "    <tr>\n",
       "      <th>pymnt_plan</th>\n",
       "      <td>n</td>\n",
       "      <td>n</td>\n",
       "      <td>n</td>\n",
       "      <td>n</td>\n",
       "      <td>n</td>\n",
       "    </tr>\n",
       "    <tr>\n",
       "      <th>url</th>\n",
       "      <td>https://lendingclub.com/browse/loanDetail.acti...</td>\n",
       "      <td>https://lendingclub.com/browse/loanDetail.acti...</td>\n",
       "      <td>https://lendingclub.com/browse/loanDetail.acti...</td>\n",
       "      <td>https://lendingclub.com/browse/loanDetail.acti...</td>\n",
       "      <td>https://lendingclub.com/browse/loanDetail.acti...</td>\n",
       "    </tr>\n",
       "    <tr>\n",
       "      <th>desc</th>\n",
       "      <td>NaN</td>\n",
       "      <td>NaN</td>\n",
       "      <td>NaN</td>\n",
       "      <td>NaN</td>\n",
       "      <td>NaN</td>\n",
       "    </tr>\n",
       "    <tr>\n",
       "      <th>purpose</th>\n",
       "      <td>debt_consolidation</td>\n",
       "      <td>small_business</td>\n",
       "      <td>home_improvement</td>\n",
       "      <td>debt_consolidation</td>\n",
       "      <td>major_purchase</td>\n",
       "    </tr>\n",
       "    <tr>\n",
       "      <th>title</th>\n",
       "      <td>Debt consolidation</td>\n",
       "      <td>Business</td>\n",
       "      <td>NaN</td>\n",
       "      <td>Debt consolidation</td>\n",
       "      <td>Major purchase</td>\n",
       "    </tr>\n",
       "    <tr>\n",
       "      <th>zip_code</th>\n",
       "      <td>190xx</td>\n",
       "      <td>577xx</td>\n",
       "      <td>605xx</td>\n",
       "      <td>076xx</td>\n",
       "      <td>174xx</td>\n",
       "    </tr>\n",
       "    <tr>\n",
       "      <th>addr_state</th>\n",
       "      <td>PA</td>\n",
       "      <td>SD</td>\n",
       "      <td>IL</td>\n",
       "      <td>NJ</td>\n",
       "      <td>PA</td>\n",
       "    </tr>\n",
       "    <tr>\n",
       "      <th>dti</th>\n",
       "      <td>5.91</td>\n",
       "      <td>16.06</td>\n",
       "      <td>10.78</td>\n",
       "      <td>17.06</td>\n",
       "      <td>25.37</td>\n",
       "    </tr>\n",
       "    <tr>\n",
       "      <th>delinq_2yrs</th>\n",
       "      <td>0.0</td>\n",
       "      <td>1.0</td>\n",
       "      <td>0.0</td>\n",
       "      <td>0.0</td>\n",
       "      <td>1.0</td>\n",
       "    </tr>\n",
       "    <tr>\n",
       "      <th>earliest_cr_line</th>\n",
       "      <td>Aug-2003</td>\n",
       "      <td>Dec-1999</td>\n",
       "      <td>Aug-2000</td>\n",
       "      <td>Sep-2008</td>\n",
       "      <td>Jun-1998</td>\n",
       "    </tr>\n",
       "    <tr>\n",
       "      <th>fico_range_low</th>\n",
       "      <td>675.0</td>\n",
       "      <td>715.0</td>\n",
       "      <td>695.0</td>\n",
       "      <td>785.0</td>\n",
       "      <td>695.0</td>\n",
       "    </tr>\n",
       "    <tr>\n",
       "      <th>fico_range_high</th>\n",
       "      <td>679.0</td>\n",
       "      <td>719.0</td>\n",
       "      <td>699.0</td>\n",
       "      <td>789.0</td>\n",
       "      <td>699.0</td>\n",
       "    </tr>\n",
       "    <tr>\n",
       "      <th>inq_last_6mths</th>\n",
       "      <td>1.0</td>\n",
       "      <td>4.0</td>\n",
       "      <td>0.0</td>\n",
       "      <td>0.0</td>\n",
       "      <td>3.0</td>\n",
       "    </tr>\n",
       "    <tr>\n",
       "      <th>mths_since_last_delinq</th>\n",
       "      <td>30.0</td>\n",
       "      <td>6.0</td>\n",
       "      <td>NaN</td>\n",
       "      <td>NaN</td>\n",
       "      <td>12.0</td>\n",
       "    </tr>\n",
       "    <tr>\n",
       "      <th>mths_since_last_record</th>\n",
       "      <td>NaN</td>\n",
       "      <td>NaN</td>\n",
       "      <td>NaN</td>\n",
       "      <td>NaN</td>\n",
       "      <td>NaN</td>\n",
       "    </tr>\n",
       "    <tr>\n",
       "      <th>open_acc</th>\n",
       "      <td>7.0</td>\n",
       "      <td>22.0</td>\n",
       "      <td>6.0</td>\n",
       "      <td>13.0</td>\n",
       "      <td>12.0</td>\n",
       "    </tr>\n",
       "    <tr>\n",
       "      <th>pub_rec</th>\n",
       "      <td>0.0</td>\n",
       "      <td>0.0</td>\n",
       "      <td>0.0</td>\n",
       "      <td>0.0</td>\n",
       "      <td>0.0</td>\n",
       "    </tr>\n",
       "    <tr>\n",
       "      <th>revol_bal</th>\n",
       "      <td>2765.0</td>\n",
       "      <td>21470.0</td>\n",
       "      <td>7869.0</td>\n",
       "      <td>7802.0</td>\n",
       "      <td>21929.0</td>\n",
       "    </tr>\n",
       "    <tr>\n",
       "      <th>revol_util</th>\n",
       "      <td>29.7</td>\n",
       "      <td>19.2</td>\n",
       "      <td>56.2</td>\n",
       "      <td>11.6</td>\n",
       "      <td>64.5</td>\n",
       "    </tr>\n",
       "    <tr>\n",
       "      <th>total_acc</th>\n",
       "      <td>13.0</td>\n",
       "      <td>38.0</td>\n",
       "      <td>18.0</td>\n",
       "      <td>17.0</td>\n",
       "      <td>35.0</td>\n",
       "    </tr>\n",
       "    <tr>\n",
       "      <th>initial_list_status</th>\n",
       "      <td>w</td>\n",
       "      <td>w</td>\n",
       "      <td>w</td>\n",
       "      <td>w</td>\n",
       "      <td>w</td>\n",
       "    </tr>\n",
       "    <tr>\n",
       "      <th>out_prncp</th>\n",
       "      <td>0.0</td>\n",
       "      <td>0.0</td>\n",
       "      <td>0.0</td>\n",
       "      <td>15897.65</td>\n",
       "      <td>0.0</td>\n",
       "    </tr>\n",
       "    <tr>\n",
       "      <th>out_prncp_inv</th>\n",
       "      <td>0.0</td>\n",
       "      <td>0.0</td>\n",
       "      <td>0.0</td>\n",
       "      <td>15897.65</td>\n",
       "      <td>0.0</td>\n",
       "    </tr>\n",
       "    <tr>\n",
       "      <th>total_pymnt</th>\n",
       "      <td>4421.723917</td>\n",
       "      <td>25679.66</td>\n",
       "      <td>22705.924294</td>\n",
       "      <td>31464.01</td>\n",
       "      <td>11740.5</td>\n",
       "    </tr>\n",
       "    <tr>\n",
       "      <th>total_pymnt_inv</th>\n",
       "      <td>4421.72</td>\n",
       "      <td>25679.66</td>\n",
       "      <td>22705.92</td>\n",
       "      <td>31464.01</td>\n",
       "      <td>11740.5</td>\n",
       "    </tr>\n",
       "    <tr>\n",
       "      <th>total_rec_prncp</th>\n",
       "      <td>3600.0</td>\n",
       "      <td>24700.0</td>\n",
       "      <td>20000.0</td>\n",
       "      <td>19102.35</td>\n",
       "      <td>10400.0</td>\n",
       "    </tr>\n",
       "    <tr>\n",
       "      <th>total_rec_int</th>\n",
       "      <td>821.72</td>\n",
       "      <td>979.66</td>\n",
       "      <td>2705.92</td>\n",
       "      <td>12361.66</td>\n",
       "      <td>1340.5</td>\n",
       "    </tr>\n",
       "    <tr>\n",
       "      <th>total_rec_late_fee</th>\n",
       "      <td>0.0</td>\n",
       "      <td>0.0</td>\n",
       "      <td>0.0</td>\n",
       "      <td>0.0</td>\n",
       "      <td>0.0</td>\n",
       "    </tr>\n",
       "    <tr>\n",
       "      <th>recoveries</th>\n",
       "      <td>0.0</td>\n",
       "      <td>0.0</td>\n",
       "      <td>0.0</td>\n",
       "      <td>0.0</td>\n",
       "      <td>0.0</td>\n",
       "    </tr>\n",
       "    <tr>\n",
       "      <th>collection_recovery_fee</th>\n",
       "      <td>0.0</td>\n",
       "      <td>0.0</td>\n",
       "      <td>0.0</td>\n",
       "      <td>0.0</td>\n",
       "      <td>0.0</td>\n",
       "    </tr>\n",
       "    <tr>\n",
       "      <th>last_pymnt_d</th>\n",
       "      <td>Jan-2019</td>\n",
       "      <td>Jun-2016</td>\n",
       "      <td>Jun-2017</td>\n",
       "      <td>Feb-2019</td>\n",
       "      <td>Jul-2016</td>\n",
       "    </tr>\n",
       "    <tr>\n",
       "      <th>last_pymnt_amnt</th>\n",
       "      <td>122.67</td>\n",
       "      <td>926.35</td>\n",
       "      <td>15813.3</td>\n",
       "      <td>829.9</td>\n",
       "      <td>10128.96</td>\n",
       "    </tr>\n",
       "    <tr>\n",
       "      <th>next_pymnt_d</th>\n",
       "      <td>NaN</td>\n",
       "      <td>NaN</td>\n",
       "      <td>NaN</td>\n",
       "      <td>Apr-2019</td>\n",
       "      <td>NaN</td>\n",
       "    </tr>\n",
       "    <tr>\n",
       "      <th>last_credit_pull_d</th>\n",
       "      <td>Mar-2019</td>\n",
       "      <td>Mar-2019</td>\n",
       "      <td>Mar-2019</td>\n",
       "      <td>Mar-2019</td>\n",
       "      <td>Mar-2018</td>\n",
       "    </tr>\n",
       "    <tr>\n",
       "      <th>last_fico_range_high</th>\n",
       "      <td>564.0</td>\n",
       "      <td>699.0</td>\n",
       "      <td>704.0</td>\n",
       "      <td>679.0</td>\n",
       "      <td>704.0</td>\n",
       "    </tr>\n",
       "    <tr>\n",
       "      <th>last_fico_range_low</th>\n",
       "      <td>560.0</td>\n",
       "      <td>695.0</td>\n",
       "      <td>700.0</td>\n",
       "      <td>675.0</td>\n",
       "      <td>700.0</td>\n",
       "    </tr>\n",
       "    <tr>\n",
       "      <th>collections_12_mths_ex_med</th>\n",
       "      <td>0.0</td>\n",
       "      <td>0.0</td>\n",
       "      <td>0.0</td>\n",
       "      <td>0.0</td>\n",
       "      <td>0.0</td>\n",
       "    </tr>\n",
       "    <tr>\n",
       "      <th>mths_since_last_major_derog</th>\n",
       "      <td>30.0</td>\n",
       "      <td>NaN</td>\n",
       "      <td>NaN</td>\n",
       "      <td>NaN</td>\n",
       "      <td>NaN</td>\n",
       "    </tr>\n",
       "    <tr>\n",
       "      <th>policy_code</th>\n",
       "      <td>1.0</td>\n",
       "      <td>1.0</td>\n",
       "      <td>1.0</td>\n",
       "      <td>1.0</td>\n",
       "      <td>1.0</td>\n",
       "    </tr>\n",
       "    <tr>\n",
       "      <th>application_type</th>\n",
       "      <td>Individual</td>\n",
       "      <td>Individual</td>\n",
       "      <td>Joint App</td>\n",
       "      <td>Individual</td>\n",
       "      <td>Individual</td>\n",
       "    </tr>\n",
       "    <tr>\n",
       "      <th>annual_inc_joint</th>\n",
       "      <td>NaN</td>\n",
       "      <td>NaN</td>\n",
       "      <td>71000.0</td>\n",
       "      <td>NaN</td>\n",
       "      <td>NaN</td>\n",
       "    </tr>\n",
       "    <tr>\n",
       "      <th>dti_joint</th>\n",
       "      <td>NaN</td>\n",
       "      <td>NaN</td>\n",
       "      <td>13.85</td>\n",
       "      <td>NaN</td>\n",
       "      <td>NaN</td>\n",
       "    </tr>\n",
       "    <tr>\n",
       "      <th>verification_status_joint</th>\n",
       "      <td>NaN</td>\n",
       "      <td>NaN</td>\n",
       "      <td>Not Verified</td>\n",
       "      <td>NaN</td>\n",
       "      <td>NaN</td>\n",
       "    </tr>\n",
       "    <tr>\n",
       "      <th>acc_now_delinq</th>\n",
       "      <td>0.0</td>\n",
       "      <td>0.0</td>\n",
       "      <td>0.0</td>\n",
       "      <td>0.0</td>\n",
       "      <td>0.0</td>\n",
       "    </tr>\n",
       "    <tr>\n",
       "      <th>tot_coll_amt</th>\n",
       "      <td>722.0</td>\n",
       "      <td>0.0</td>\n",
       "      <td>0.0</td>\n",
       "      <td>0.0</td>\n",
       "      <td>0.0</td>\n",
       "    </tr>\n",
       "    <tr>\n",
       "      <th>tot_cur_bal</th>\n",
       "      <td>144904.0</td>\n",
       "      <td>204396.0</td>\n",
       "      <td>189699.0</td>\n",
       "      <td>301500.0</td>\n",
       "      <td>331730.0</td>\n",
       "    </tr>\n",
       "    <tr>\n",
       "      <th>open_acc_6m</th>\n",
       "      <td>2.0</td>\n",
       "      <td>1.0</td>\n",
       "      <td>0.0</td>\n",
       "      <td>1.0</td>\n",
       "      <td>1.0</td>\n",
       "    </tr>\n",
       "    <tr>\n",
       "      <th>open_act_il</th>\n",
       "      <td>2.0</td>\n",
       "      <td>1.0</td>\n",
       "      <td>1.0</td>\n",
       "      <td>1.0</td>\n",
       "      <td>3.0</td>\n",
       "    </tr>\n",
       "    <tr>\n",
       "      <th>open_il_12m</th>\n",
       "      <td>0.0</td>\n",
       "      <td>0.0</td>\n",
       "      <td>0.0</td>\n",
       "      <td>0.0</td>\n",
       "      <td>0.0</td>\n",
       "    </tr>\n",
       "    <tr>\n",
       "      <th>open_il_24m</th>\n",
       "      <td>1.0</td>\n",
       "      <td>1.0</td>\n",
       "      <td>4.0</td>\n",
       "      <td>1.0</td>\n",
       "      <td>3.0</td>\n",
       "    </tr>\n",
       "    <tr>\n",
       "      <th>mths_since_rcnt_il</th>\n",
       "      <td>21.0</td>\n",
       "      <td>19.0</td>\n",
       "      <td>19.0</td>\n",
       "      <td>23.0</td>\n",
       "      <td>14.0</td>\n",
       "    </tr>\n",
       "    <tr>\n",
       "      <th>total_bal_il</th>\n",
       "      <td>4981.0</td>\n",
       "      <td>18005.0</td>\n",
       "      <td>10827.0</td>\n",
       "      <td>12609.0</td>\n",
       "      <td>73839.0</td>\n",
       "    </tr>\n",
       "    <tr>\n",
       "      <th>il_util</th>\n",
       "      <td>36.0</td>\n",
       "      <td>73.0</td>\n",
       "      <td>73.0</td>\n",
       "      <td>70.0</td>\n",
       "      <td>84.0</td>\n",
       "    </tr>\n",
       "    <tr>\n",
       "      <th>open_rv_12m</th>\n",
       "      <td>3.0</td>\n",
       "      <td>2.0</td>\n",
       "      <td>0.0</td>\n",
       "      <td>1.0</td>\n",
       "      <td>4.0</td>\n",
       "    </tr>\n",
       "    <tr>\n",
       "      <th>open_rv_24m</th>\n",
       "      <td>3.0</td>\n",
       "      <td>3.0</td>\n",
       "      <td>2.0</td>\n",
       "      <td>1.0</td>\n",
       "      <td>7.0</td>\n",
       "    </tr>\n",
       "    <tr>\n",
       "      <th>max_bal_bc</th>\n",
       "      <td>722.0</td>\n",
       "      <td>6472.0</td>\n",
       "      <td>2081.0</td>\n",
       "      <td>6987.0</td>\n",
       "      <td>9702.0</td>\n",
       "    </tr>\n",
       "    <tr>\n",
       "      <th>all_util</th>\n",
       "      <td>34.0</td>\n",
       "      <td>29.0</td>\n",
       "      <td>65.0</td>\n",
       "      <td>45.0</td>\n",
       "      <td>78.0</td>\n",
       "    </tr>\n",
       "    <tr>\n",
       "      <th>total_rev_hi_lim</th>\n",
       "      <td>9300.0</td>\n",
       "      <td>111800.0</td>\n",
       "      <td>14000.0</td>\n",
       "      <td>67300.0</td>\n",
       "      <td>34000.0</td>\n",
       "    </tr>\n",
       "    <tr>\n",
       "      <th>inq_fi</th>\n",
       "      <td>3.0</td>\n",
       "      <td>0.0</td>\n",
       "      <td>2.0</td>\n",
       "      <td>0.0</td>\n",
       "      <td>2.0</td>\n",
       "    </tr>\n",
       "    <tr>\n",
       "      <th>total_cu_tl</th>\n",
       "      <td>1.0</td>\n",
       "      <td>0.0</td>\n",
       "      <td>5.0</td>\n",
       "      <td>1.0</td>\n",
       "      <td>1.0</td>\n",
       "    </tr>\n",
       "    <tr>\n",
       "      <th>inq_last_12m</th>\n",
       "      <td>4.0</td>\n",
       "      <td>6.0</td>\n",
       "      <td>1.0</td>\n",
       "      <td>0.0</td>\n",
       "      <td>3.0</td>\n",
       "    </tr>\n",
       "    <tr>\n",
       "      <th>acc_open_past_24mths</th>\n",
       "      <td>4.0</td>\n",
       "      <td>4.0</td>\n",
       "      <td>6.0</td>\n",
       "      <td>2.0</td>\n",
       "      <td>10.0</td>\n",
       "    </tr>\n",
       "    <tr>\n",
       "      <th>avg_cur_bal</th>\n",
       "      <td>20701.0</td>\n",
       "      <td>9733.0</td>\n",
       "      <td>31617.0</td>\n",
       "      <td>23192.0</td>\n",
       "      <td>27644.0</td>\n",
       "    </tr>\n",
       "    <tr>\n",
       "      <th>bc_open_to_buy</th>\n",
       "      <td>1506.0</td>\n",
       "      <td>57830.0</td>\n",
       "      <td>2737.0</td>\n",
       "      <td>54962.0</td>\n",
       "      <td>4567.0</td>\n",
       "    </tr>\n",
       "    <tr>\n",
       "      <th>bc_util</th>\n",
       "      <td>37.2</td>\n",
       "      <td>27.1</td>\n",
       "      <td>55.9</td>\n",
       "      <td>12.1</td>\n",
       "      <td>77.5</td>\n",
       "    </tr>\n",
       "    <tr>\n",
       "      <th>chargeoff_within_12_mths</th>\n",
       "      <td>0.0</td>\n",
       "      <td>0.0</td>\n",
       "      <td>0.0</td>\n",
       "      <td>0.0</td>\n",
       "      <td>0.0</td>\n",
       "    </tr>\n",
       "    <tr>\n",
       "      <th>delinq_amnt</th>\n",
       "      <td>0.0</td>\n",
       "      <td>0.0</td>\n",
       "      <td>0.0</td>\n",
       "      <td>0.0</td>\n",
       "      <td>0.0</td>\n",
       "    </tr>\n",
       "    <tr>\n",
       "      <th>mo_sin_old_il_acct</th>\n",
       "      <td>148.0</td>\n",
       "      <td>113.0</td>\n",
       "      <td>125.0</td>\n",
       "      <td>36.0</td>\n",
       "      <td>128.0</td>\n",
       "    </tr>\n",
       "    <tr>\n",
       "      <th>mo_sin_old_rev_tl_op</th>\n",
       "      <td>128.0</td>\n",
       "      <td>192.0</td>\n",
       "      <td>184.0</td>\n",
       "      <td>87.0</td>\n",
       "      <td>210.0</td>\n",
       "    </tr>\n",
       "    <tr>\n",
       "      <th>mo_sin_rcnt_rev_tl_op</th>\n",
       "      <td>3.0</td>\n",
       "      <td>2.0</td>\n",
       "      <td>14.0</td>\n",
       "      <td>2.0</td>\n",
       "      <td>4.0</td>\n",
       "    </tr>\n",
       "    <tr>\n",
       "      <th>mo_sin_rcnt_tl</th>\n",
       "      <td>3.0</td>\n",
       "      <td>2.0</td>\n",
       "      <td>14.0</td>\n",
       "      <td>2.0</td>\n",
       "      <td>4.0</td>\n",
       "    </tr>\n",
       "    <tr>\n",
       "      <th>mort_acc</th>\n",
       "      <td>1.0</td>\n",
       "      <td>4.0</td>\n",
       "      <td>5.0</td>\n",
       "      <td>1.0</td>\n",
       "      <td>6.0</td>\n",
       "    </tr>\n",
       "    <tr>\n",
       "      <th>mths_since_recent_bc</th>\n",
       "      <td>4.0</td>\n",
       "      <td>2.0</td>\n",
       "      <td>101.0</td>\n",
       "      <td>2.0</td>\n",
       "      <td>4.0</td>\n",
       "    </tr>\n",
       "    <tr>\n",
       "      <th>mths_since_recent_bc_dlq</th>\n",
       "      <td>69.0</td>\n",
       "      <td>NaN</td>\n",
       "      <td>NaN</td>\n",
       "      <td>NaN</td>\n",
       "      <td>12.0</td>\n",
       "    </tr>\n",
       "    <tr>\n",
       "      <th>mths_since_recent_inq</th>\n",
       "      <td>4.0</td>\n",
       "      <td>0.0</td>\n",
       "      <td>10.0</td>\n",
       "      <td>NaN</td>\n",
       "      <td>1.0</td>\n",
       "    </tr>\n",
       "    <tr>\n",
       "      <th>mths_since_recent_revol_delinq</th>\n",
       "      <td>69.0</td>\n",
       "      <td>6.0</td>\n",
       "      <td>NaN</td>\n",
       "      <td>NaN</td>\n",
       "      <td>12.0</td>\n",
       "    </tr>\n",
       "    <tr>\n",
       "      <th>num_accts_ever_120_pd</th>\n",
       "      <td>2.0</td>\n",
       "      <td>0.0</td>\n",
       "      <td>0.0</td>\n",
       "      <td>0.0</td>\n",
       "      <td>0.0</td>\n",
       "    </tr>\n",
       "    <tr>\n",
       "      <th>num_actv_bc_tl</th>\n",
       "      <td>2.0</td>\n",
       "      <td>5.0</td>\n",
       "      <td>2.0</td>\n",
       "      <td>4.0</td>\n",
       "      <td>4.0</td>\n",
       "    </tr>\n",
       "    <tr>\n",
       "      <th>num_actv_rev_tl</th>\n",
       "      <td>4.0</td>\n",
       "      <td>5.0</td>\n",
       "      <td>3.0</td>\n",
       "      <td>5.0</td>\n",
       "      <td>6.0</td>\n",
       "    </tr>\n",
       "    <tr>\n",
       "      <th>num_bc_sats</th>\n",
       "      <td>2.0</td>\n",
       "      <td>13.0</td>\n",
       "      <td>2.0</td>\n",
       "      <td>8.0</td>\n",
       "      <td>5.0</td>\n",
       "    </tr>\n",
       "    <tr>\n",
       "      <th>num_bc_tl</th>\n",
       "      <td>5.0</td>\n",
       "      <td>17.0</td>\n",
       "      <td>4.0</td>\n",
       "      <td>10.0</td>\n",
       "      <td>9.0</td>\n",
       "    </tr>\n",
       "    <tr>\n",
       "      <th>num_il_tl</th>\n",
       "      <td>3.0</td>\n",
       "      <td>6.0</td>\n",
       "      <td>6.0</td>\n",
       "      <td>2.0</td>\n",
       "      <td>10.0</td>\n",
       "    </tr>\n",
       "    <tr>\n",
       "      <th>num_op_rev_tl</th>\n",
       "      <td>4.0</td>\n",
       "      <td>20.0</td>\n",
       "      <td>4.0</td>\n",
       "      <td>10.0</td>\n",
       "      <td>7.0</td>\n",
       "    </tr>\n",
       "    <tr>\n",
       "      <th>num_rev_accts</th>\n",
       "      <td>9.0</td>\n",
       "      <td>27.0</td>\n",
       "      <td>7.0</td>\n",
       "      <td>13.0</td>\n",
       "      <td>19.0</td>\n",
       "    </tr>\n",
       "    <tr>\n",
       "      <th>num_rev_tl_bal_gt_0</th>\n",
       "      <td>4.0</td>\n",
       "      <td>5.0</td>\n",
       "      <td>3.0</td>\n",
       "      <td>5.0</td>\n",
       "      <td>6.0</td>\n",
       "    </tr>\n",
       "    <tr>\n",
       "      <th>num_sats</th>\n",
       "      <td>7.0</td>\n",
       "      <td>22.0</td>\n",
       "      <td>6.0</td>\n",
       "      <td>13.0</td>\n",
       "      <td>12.0</td>\n",
       "    </tr>\n",
       "    <tr>\n",
       "      <th>num_tl_120dpd_2m</th>\n",
       "      <td>0.0</td>\n",
       "      <td>0.0</td>\n",
       "      <td>0.0</td>\n",
       "      <td>0.0</td>\n",
       "      <td>0.0</td>\n",
       "    </tr>\n",
       "    <tr>\n",
       "      <th>num_tl_30dpd</th>\n",
       "      <td>0.0</td>\n",
       "      <td>0.0</td>\n",
       "      <td>0.0</td>\n",
       "      <td>0.0</td>\n",
       "      <td>0.0</td>\n",
       "    </tr>\n",
       "    <tr>\n",
       "      <th>num_tl_90g_dpd_24m</th>\n",
       "      <td>0.0</td>\n",
       "      <td>0.0</td>\n",
       "      <td>0.0</td>\n",
       "      <td>0.0</td>\n",
       "      <td>0.0</td>\n",
       "    </tr>\n",
       "    <tr>\n",
       "      <th>num_tl_op_past_12m</th>\n",
       "      <td>3.0</td>\n",
       "      <td>2.0</td>\n",
       "      <td>0.0</td>\n",
       "      <td>1.0</td>\n",
       "      <td>4.0</td>\n",
       "    </tr>\n",
       "    <tr>\n",
       "      <th>pct_tl_nvr_dlq</th>\n",
       "      <td>76.9</td>\n",
       "      <td>97.4</td>\n",
       "      <td>100.0</td>\n",
       "      <td>100.0</td>\n",
       "      <td>96.6</td>\n",
       "    </tr>\n",
       "    <tr>\n",
       "      <th>percent_bc_gt_75</th>\n",
       "      <td>0.0</td>\n",
       "      <td>7.7</td>\n",
       "      <td>50.0</td>\n",
       "      <td>0.0</td>\n",
       "      <td>60.0</td>\n",
       "    </tr>\n",
       "    <tr>\n",
       "      <th>pub_rec_bankruptcies</th>\n",
       "      <td>0.0</td>\n",
       "      <td>0.0</td>\n",
       "      <td>0.0</td>\n",
       "      <td>0.0</td>\n",
       "      <td>0.0</td>\n",
       "    </tr>\n",
       "    <tr>\n",
       "      <th>tax_liens</th>\n",
       "      <td>0.0</td>\n",
       "      <td>0.0</td>\n",
       "      <td>0.0</td>\n",
       "      <td>0.0</td>\n",
       "      <td>0.0</td>\n",
       "    </tr>\n",
       "    <tr>\n",
       "      <th>tot_hi_cred_lim</th>\n",
       "      <td>178050.0</td>\n",
       "      <td>314017.0</td>\n",
       "      <td>218418.0</td>\n",
       "      <td>381215.0</td>\n",
       "      <td>439570.0</td>\n",
       "    </tr>\n",
       "    <tr>\n",
       "      <th>total_bal_ex_mort</th>\n",
       "      <td>7746.0</td>\n",
       "      <td>39475.0</td>\n",
       "      <td>18696.0</td>\n",
       "      <td>52226.0</td>\n",
       "      <td>95768.0</td>\n",
       "    </tr>\n",
       "    <tr>\n",
       "      <th>total_bc_limit</th>\n",
       "      <td>2400.0</td>\n",
       "      <td>79300.0</td>\n",
       "      <td>6200.0</td>\n",
       "      <td>62500.0</td>\n",
       "      <td>20300.0</td>\n",
       "    </tr>\n",
       "    <tr>\n",
       "      <th>total_il_high_credit_limit</th>\n",
       "      <td>13734.0</td>\n",
       "      <td>24667.0</td>\n",
       "      <td>14877.0</td>\n",
       "      <td>18000.0</td>\n",
       "      <td>88097.0</td>\n",
       "    </tr>\n",
       "    <tr>\n",
       "      <th>revol_bal_joint</th>\n",
       "      <td>NaN</td>\n",
       "      <td>NaN</td>\n",
       "      <td>NaN</td>\n",
       "      <td>NaN</td>\n",
       "      <td>NaN</td>\n",
       "    </tr>\n",
       "    <tr>\n",
       "      <th>sec_app_fico_range_low</th>\n",
       "      <td>NaN</td>\n",
       "      <td>NaN</td>\n",
       "      <td>NaN</td>\n",
       "      <td>NaN</td>\n",
       "      <td>NaN</td>\n",
       "    </tr>\n",
       "    <tr>\n",
       "      <th>sec_app_fico_range_high</th>\n",
       "      <td>NaN</td>\n",
       "      <td>NaN</td>\n",
       "      <td>NaN</td>\n",
       "      <td>NaN</td>\n",
       "      <td>NaN</td>\n",
       "    </tr>\n",
       "    <tr>\n",
       "      <th>sec_app_earliest_cr_line</th>\n",
       "      <td>NaN</td>\n",
       "      <td>NaN</td>\n",
       "      <td>NaN</td>\n",
       "      <td>NaN</td>\n",
       "      <td>NaN</td>\n",
       "    </tr>\n",
       "    <tr>\n",
       "      <th>sec_app_inq_last_6mths</th>\n",
       "      <td>NaN</td>\n",
       "      <td>NaN</td>\n",
       "      <td>NaN</td>\n",
       "      <td>NaN</td>\n",
       "      <td>NaN</td>\n",
       "    </tr>\n",
       "    <tr>\n",
       "      <th>sec_app_mort_acc</th>\n",
       "      <td>NaN</td>\n",
       "      <td>NaN</td>\n",
       "      <td>NaN</td>\n",
       "      <td>NaN</td>\n",
       "      <td>NaN</td>\n",
       "    </tr>\n",
       "    <tr>\n",
       "      <th>sec_app_open_acc</th>\n",
       "      <td>NaN</td>\n",
       "      <td>NaN</td>\n",
       "      <td>NaN</td>\n",
       "      <td>NaN</td>\n",
       "      <td>NaN</td>\n",
       "    </tr>\n",
       "    <tr>\n",
       "      <th>sec_app_revol_util</th>\n",
       "      <td>NaN</td>\n",
       "      <td>NaN</td>\n",
       "      <td>NaN</td>\n",
       "      <td>NaN</td>\n",
       "      <td>NaN</td>\n",
       "    </tr>\n",
       "    <tr>\n",
       "      <th>sec_app_open_act_il</th>\n",
       "      <td>NaN</td>\n",
       "      <td>NaN</td>\n",
       "      <td>NaN</td>\n",
       "      <td>NaN</td>\n",
       "      <td>NaN</td>\n",
       "    </tr>\n",
       "    <tr>\n",
       "      <th>sec_app_num_rev_accts</th>\n",
       "      <td>NaN</td>\n",
       "      <td>NaN</td>\n",
       "      <td>NaN</td>\n",
       "      <td>NaN</td>\n",
       "      <td>NaN</td>\n",
       "    </tr>\n",
       "    <tr>\n",
       "      <th>sec_app_chargeoff_within_12_mths</th>\n",
       "      <td>NaN</td>\n",
       "      <td>NaN</td>\n",
       "      <td>NaN</td>\n",
       "      <td>NaN</td>\n",
       "      <td>NaN</td>\n",
       "    </tr>\n",
       "    <tr>\n",
       "      <th>sec_app_collections_12_mths_ex_med</th>\n",
       "      <td>NaN</td>\n",
       "      <td>NaN</td>\n",
       "      <td>NaN</td>\n",
       "      <td>NaN</td>\n",
       "      <td>NaN</td>\n",
       "    </tr>\n",
       "    <tr>\n",
       "      <th>sec_app_mths_since_last_major_derog</th>\n",
       "      <td>NaN</td>\n",
       "      <td>NaN</td>\n",
       "      <td>NaN</td>\n",
       "      <td>NaN</td>\n",
       "      <td>NaN</td>\n",
       "    </tr>\n",
       "    <tr>\n",
       "      <th>hardship_flag</th>\n",
       "      <td>N</td>\n",
       "      <td>N</td>\n",
       "      <td>N</td>\n",
       "      <td>N</td>\n",
       "      <td>N</td>\n",
       "    </tr>\n",
       "    <tr>\n",
       "      <th>hardship_type</th>\n",
       "      <td>NaN</td>\n",
       "      <td>NaN</td>\n",
       "      <td>NaN</td>\n",
       "      <td>NaN</td>\n",
       "      <td>NaN</td>\n",
       "    </tr>\n",
       "    <tr>\n",
       "      <th>hardship_reason</th>\n",
       "      <td>NaN</td>\n",
       "      <td>NaN</td>\n",
       "      <td>NaN</td>\n",
       "      <td>NaN</td>\n",
       "      <td>NaN</td>\n",
       "    </tr>\n",
       "    <tr>\n",
       "      <th>hardship_status</th>\n",
       "      <td>NaN</td>\n",
       "      <td>NaN</td>\n",
       "      <td>NaN</td>\n",
       "      <td>NaN</td>\n",
       "      <td>NaN</td>\n",
       "    </tr>\n",
       "    <tr>\n",
       "      <th>deferral_term</th>\n",
       "      <td>NaN</td>\n",
       "      <td>NaN</td>\n",
       "      <td>NaN</td>\n",
       "      <td>NaN</td>\n",
       "      <td>NaN</td>\n",
       "    </tr>\n",
       "    <tr>\n",
       "      <th>hardship_amount</th>\n",
       "      <td>NaN</td>\n",
       "      <td>NaN</td>\n",
       "      <td>NaN</td>\n",
       "      <td>NaN</td>\n",
       "      <td>NaN</td>\n",
       "    </tr>\n",
       "    <tr>\n",
       "      <th>hardship_start_date</th>\n",
       "      <td>NaN</td>\n",
       "      <td>NaN</td>\n",
       "      <td>NaN</td>\n",
       "      <td>NaN</td>\n",
       "      <td>NaN</td>\n",
       "    </tr>\n",
       "    <tr>\n",
       "      <th>hardship_end_date</th>\n",
       "      <td>NaN</td>\n",
       "      <td>NaN</td>\n",
       "      <td>NaN</td>\n",
       "      <td>NaN</td>\n",
       "      <td>NaN</td>\n",
       "    </tr>\n",
       "    <tr>\n",
       "      <th>payment_plan_start_date</th>\n",
       "      <td>NaN</td>\n",
       "      <td>NaN</td>\n",
       "      <td>NaN</td>\n",
       "      <td>NaN</td>\n",
       "      <td>NaN</td>\n",
       "    </tr>\n",
       "    <tr>\n",
       "      <th>hardship_length</th>\n",
       "      <td>NaN</td>\n",
       "      <td>NaN</td>\n",
       "      <td>NaN</td>\n",
       "      <td>NaN</td>\n",
       "      <td>NaN</td>\n",
       "    </tr>\n",
       "    <tr>\n",
       "      <th>hardship_dpd</th>\n",
       "      <td>NaN</td>\n",
       "      <td>NaN</td>\n",
       "      <td>NaN</td>\n",
       "      <td>NaN</td>\n",
       "      <td>NaN</td>\n",
       "    </tr>\n",
       "    <tr>\n",
       "      <th>hardship_loan_status</th>\n",
       "      <td>NaN</td>\n",
       "      <td>NaN</td>\n",
       "      <td>NaN</td>\n",
       "      <td>NaN</td>\n",
       "      <td>NaN</td>\n",
       "    </tr>\n",
       "    <tr>\n",
       "      <th>orig_projected_additional_accrued_interest</th>\n",
       "      <td>NaN</td>\n",
       "      <td>NaN</td>\n",
       "      <td>NaN</td>\n",
       "      <td>NaN</td>\n",
       "      <td>NaN</td>\n",
       "    </tr>\n",
       "    <tr>\n",
       "      <th>hardship_payoff_balance_amount</th>\n",
       "      <td>NaN</td>\n",
       "      <td>NaN</td>\n",
       "      <td>NaN</td>\n",
       "      <td>NaN</td>\n",
       "      <td>NaN</td>\n",
       "    </tr>\n",
       "    <tr>\n",
       "      <th>hardship_last_payment_amount</th>\n",
       "      <td>NaN</td>\n",
       "      <td>NaN</td>\n",
       "      <td>NaN</td>\n",
       "      <td>NaN</td>\n",
       "      <td>NaN</td>\n",
       "    </tr>\n",
       "    <tr>\n",
       "      <th>disbursement_method</th>\n",
       "      <td>Cash</td>\n",
       "      <td>Cash</td>\n",
       "      <td>Cash</td>\n",
       "      <td>Cash</td>\n",
       "      <td>Cash</td>\n",
       "    </tr>\n",
       "    <tr>\n",
       "      <th>debt_settlement_flag</th>\n",
       "      <td>N</td>\n",
       "      <td>N</td>\n",
       "      <td>N</td>\n",
       "      <td>N</td>\n",
       "      <td>N</td>\n",
       "    </tr>\n",
       "    <tr>\n",
       "      <th>debt_settlement_flag_date</th>\n",
       "      <td>NaN</td>\n",
       "      <td>NaN</td>\n",
       "      <td>NaN</td>\n",
       "      <td>NaN</td>\n",
       "      <td>NaN</td>\n",
       "    </tr>\n",
       "    <tr>\n",
       "      <th>settlement_status</th>\n",
       "      <td>NaN</td>\n",
       "      <td>NaN</td>\n",
       "      <td>NaN</td>\n",
       "      <td>NaN</td>\n",
       "      <td>NaN</td>\n",
       "    </tr>\n",
       "    <tr>\n",
       "      <th>settlement_date</th>\n",
       "      <td>NaN</td>\n",
       "      <td>NaN</td>\n",
       "      <td>NaN</td>\n",
       "      <td>NaN</td>\n",
       "      <td>NaN</td>\n",
       "    </tr>\n",
       "    <tr>\n",
       "      <th>settlement_amount</th>\n",
       "      <td>NaN</td>\n",
       "      <td>NaN</td>\n",
       "      <td>NaN</td>\n",
       "      <td>NaN</td>\n",
       "      <td>NaN</td>\n",
       "    </tr>\n",
       "    <tr>\n",
       "      <th>settlement_percentage</th>\n",
       "      <td>NaN</td>\n",
       "      <td>NaN</td>\n",
       "      <td>NaN</td>\n",
       "      <td>NaN</td>\n",
       "      <td>NaN</td>\n",
       "    </tr>\n",
       "    <tr>\n",
       "      <th>settlement_term</th>\n",
       "      <td>NaN</td>\n",
       "      <td>NaN</td>\n",
       "      <td>NaN</td>\n",
       "      <td>NaN</td>\n",
       "      <td>NaN</td>\n",
       "    </tr>\n",
       "  </tbody>\n",
       "</table>\n",
       "</div>"
      ],
      "text/plain": [
       "                                                                                            0  \\\n",
       "id                                                                                   68407277   \n",
       "member_id                                                                                 NaN   \n",
       "loan_amnt                                                                              3600.0   \n",
       "funded_amnt                                                                            3600.0   \n",
       "funded_amnt_inv                                                                        3600.0   \n",
       "term                                                                                36 months   \n",
       "int_rate                                                                                13.99   \n",
       "installment                                                                            123.03   \n",
       "grade                                                                                       C   \n",
       "sub_grade                                                                                  C4   \n",
       "emp_title                                                                             leadman   \n",
       "emp_length                                                                          10+ years   \n",
       "home_ownership                                                                       MORTGAGE   \n",
       "annual_inc                                                                            55000.0   \n",
       "verification_status                                                              Not Verified   \n",
       "issue_d                                                                              Dec-2015   \n",
       "loan_status                                                                        Fully Paid   \n",
       "pymnt_plan                                                                                  n   \n",
       "url                                         https://lendingclub.com/browse/loanDetail.acti...   \n",
       "desc                                                                                      NaN   \n",
       "purpose                                                                    debt_consolidation   \n",
       "title                                                                      Debt consolidation   \n",
       "zip_code                                                                                190xx   \n",
       "addr_state                                                                                 PA   \n",
       "dti                                                                                      5.91   \n",
       "delinq_2yrs                                                                               0.0   \n",
       "earliest_cr_line                                                                     Aug-2003   \n",
       "fico_range_low                                                                          675.0   \n",
       "fico_range_high                                                                         679.0   \n",
       "inq_last_6mths                                                                            1.0   \n",
       "mths_since_last_delinq                                                                   30.0   \n",
       "mths_since_last_record                                                                    NaN   \n",
       "open_acc                                                                                  7.0   \n",
       "pub_rec                                                                                   0.0   \n",
       "revol_bal                                                                              2765.0   \n",
       "revol_util                                                                               29.7   \n",
       "total_acc                                                                                13.0   \n",
       "initial_list_status                                                                         w   \n",
       "out_prncp                                                                                 0.0   \n",
       "out_prncp_inv                                                                             0.0   \n",
       "total_pymnt                                                                       4421.723917   \n",
       "total_pymnt_inv                                                                       4421.72   \n",
       "total_rec_prncp                                                                        3600.0   \n",
       "total_rec_int                                                                          821.72   \n",
       "total_rec_late_fee                                                                        0.0   \n",
       "recoveries                                                                                0.0   \n",
       "collection_recovery_fee                                                                   0.0   \n",
       "last_pymnt_d                                                                         Jan-2019   \n",
       "last_pymnt_amnt                                                                        122.67   \n",
       "next_pymnt_d                                                                              NaN   \n",
       "last_credit_pull_d                                                                   Mar-2019   \n",
       "last_fico_range_high                                                                    564.0   \n",
       "last_fico_range_low                                                                     560.0   \n",
       "collections_12_mths_ex_med                                                                0.0   \n",
       "mths_since_last_major_derog                                                              30.0   \n",
       "policy_code                                                                               1.0   \n",
       "application_type                                                                   Individual   \n",
       "annual_inc_joint                                                                          NaN   \n",
       "dti_joint                                                                                 NaN   \n",
       "verification_status_joint                                                                 NaN   \n",
       "acc_now_delinq                                                                            0.0   \n",
       "tot_coll_amt                                                                            722.0   \n",
       "tot_cur_bal                                                                          144904.0   \n",
       "open_acc_6m                                                                               2.0   \n",
       "open_act_il                                                                               2.0   \n",
       "open_il_12m                                                                               0.0   \n",
       "open_il_24m                                                                               1.0   \n",
       "mths_since_rcnt_il                                                                       21.0   \n",
       "total_bal_il                                                                           4981.0   \n",
       "il_util                                                                                  36.0   \n",
       "open_rv_12m                                                                               3.0   \n",
       "open_rv_24m                                                                               3.0   \n",
       "max_bal_bc                                                                              722.0   \n",
       "all_util                                                                                 34.0   \n",
       "total_rev_hi_lim                                                                       9300.0   \n",
       "inq_fi                                                                                    3.0   \n",
       "total_cu_tl                                                                               1.0   \n",
       "inq_last_12m                                                                              4.0   \n",
       "acc_open_past_24mths                                                                      4.0   \n",
       "avg_cur_bal                                                                           20701.0   \n",
       "bc_open_to_buy                                                                         1506.0   \n",
       "bc_util                                                                                  37.2   \n",
       "chargeoff_within_12_mths                                                                  0.0   \n",
       "delinq_amnt                                                                               0.0   \n",
       "mo_sin_old_il_acct                                                                      148.0   \n",
       "mo_sin_old_rev_tl_op                                                                    128.0   \n",
       "mo_sin_rcnt_rev_tl_op                                                                     3.0   \n",
       "mo_sin_rcnt_tl                                                                            3.0   \n",
       "mort_acc                                                                                  1.0   \n",
       "mths_since_recent_bc                                                                      4.0   \n",
       "mths_since_recent_bc_dlq                                                                 69.0   \n",
       "mths_since_recent_inq                                                                     4.0   \n",
       "mths_since_recent_revol_delinq                                                           69.0   \n",
       "num_accts_ever_120_pd                                                                     2.0   \n",
       "num_actv_bc_tl                                                                            2.0   \n",
       "num_actv_rev_tl                                                                           4.0   \n",
       "num_bc_sats                                                                               2.0   \n",
       "num_bc_tl                                                                                 5.0   \n",
       "num_il_tl                                                                                 3.0   \n",
       "num_op_rev_tl                                                                             4.0   \n",
       "num_rev_accts                                                                             9.0   \n",
       "num_rev_tl_bal_gt_0                                                                       4.0   \n",
       "num_sats                                                                                  7.0   \n",
       "num_tl_120dpd_2m                                                                          0.0   \n",
       "num_tl_30dpd                                                                              0.0   \n",
       "num_tl_90g_dpd_24m                                                                        0.0   \n",
       "num_tl_op_past_12m                                                                        3.0   \n",
       "pct_tl_nvr_dlq                                                                           76.9   \n",
       "percent_bc_gt_75                                                                          0.0   \n",
       "pub_rec_bankruptcies                                                                      0.0   \n",
       "tax_liens                                                                                 0.0   \n",
       "tot_hi_cred_lim                                                                      178050.0   \n",
       "total_bal_ex_mort                                                                      7746.0   \n",
       "total_bc_limit                                                                         2400.0   \n",
       "total_il_high_credit_limit                                                            13734.0   \n",
       "revol_bal_joint                                                                           NaN   \n",
       "sec_app_fico_range_low                                                                    NaN   \n",
       "sec_app_fico_range_high                                                                   NaN   \n",
       "sec_app_earliest_cr_line                                                                  NaN   \n",
       "sec_app_inq_last_6mths                                                                    NaN   \n",
       "sec_app_mort_acc                                                                          NaN   \n",
       "sec_app_open_acc                                                                          NaN   \n",
       "sec_app_revol_util                                                                        NaN   \n",
       "sec_app_open_act_il                                                                       NaN   \n",
       "sec_app_num_rev_accts                                                                     NaN   \n",
       "sec_app_chargeoff_within_12_mths                                                          NaN   \n",
       "sec_app_collections_12_mths_ex_med                                                        NaN   \n",
       "sec_app_mths_since_last_major_derog                                                       NaN   \n",
       "hardship_flag                                                                               N   \n",
       "hardship_type                                                                             NaN   \n",
       "hardship_reason                                                                           NaN   \n",
       "hardship_status                                                                           NaN   \n",
       "deferral_term                                                                             NaN   \n",
       "hardship_amount                                                                           NaN   \n",
       "hardship_start_date                                                                       NaN   \n",
       "hardship_end_date                                                                         NaN   \n",
       "payment_plan_start_date                                                                   NaN   \n",
       "hardship_length                                                                           NaN   \n",
       "hardship_dpd                                                                              NaN   \n",
       "hardship_loan_status                                                                      NaN   \n",
       "orig_projected_additional_accrued_interest                                                NaN   \n",
       "hardship_payoff_balance_amount                                                            NaN   \n",
       "hardship_last_payment_amount                                                              NaN   \n",
       "disbursement_method                                                                      Cash   \n",
       "debt_settlement_flag                                                                        N   \n",
       "debt_settlement_flag_date                                                                 NaN   \n",
       "settlement_status                                                                         NaN   \n",
       "settlement_date                                                                           NaN   \n",
       "settlement_amount                                                                         NaN   \n",
       "settlement_percentage                                                                     NaN   \n",
       "settlement_term                                                                           NaN   \n",
       "\n",
       "                                                                                            1  \\\n",
       "id                                                                                   68355089   \n",
       "member_id                                                                                 NaN   \n",
       "loan_amnt                                                                             24700.0   \n",
       "funded_amnt                                                                           24700.0   \n",
       "funded_amnt_inv                                                                       24700.0   \n",
       "term                                                                                36 months   \n",
       "int_rate                                                                                11.99   \n",
       "installment                                                                            820.28   \n",
       "grade                                                                                       C   \n",
       "sub_grade                                                                                  C1   \n",
       "emp_title                                                                            Engineer   \n",
       "emp_length                                                                          10+ years   \n",
       "home_ownership                                                                       MORTGAGE   \n",
       "annual_inc                                                                            65000.0   \n",
       "verification_status                                                              Not Verified   \n",
       "issue_d                                                                              Dec-2015   \n",
       "loan_status                                                                        Fully Paid   \n",
       "pymnt_plan                                                                                  n   \n",
       "url                                         https://lendingclub.com/browse/loanDetail.acti...   \n",
       "desc                                                                                      NaN   \n",
       "purpose                                                                        small_business   \n",
       "title                                                                                Business   \n",
       "zip_code                                                                                577xx   \n",
       "addr_state                                                                                 SD   \n",
       "dti                                                                                     16.06   \n",
       "delinq_2yrs                                                                               1.0   \n",
       "earliest_cr_line                                                                     Dec-1999   \n",
       "fico_range_low                                                                          715.0   \n",
       "fico_range_high                                                                         719.0   \n",
       "inq_last_6mths                                                                            4.0   \n",
       "mths_since_last_delinq                                                                    6.0   \n",
       "mths_since_last_record                                                                    NaN   \n",
       "open_acc                                                                                 22.0   \n",
       "pub_rec                                                                                   0.0   \n",
       "revol_bal                                                                             21470.0   \n",
       "revol_util                                                                               19.2   \n",
       "total_acc                                                                                38.0   \n",
       "initial_list_status                                                                         w   \n",
       "out_prncp                                                                                 0.0   \n",
       "out_prncp_inv                                                                             0.0   \n",
       "total_pymnt                                                                          25679.66   \n",
       "total_pymnt_inv                                                                      25679.66   \n",
       "total_rec_prncp                                                                       24700.0   \n",
       "total_rec_int                                                                          979.66   \n",
       "total_rec_late_fee                                                                        0.0   \n",
       "recoveries                                                                                0.0   \n",
       "collection_recovery_fee                                                                   0.0   \n",
       "last_pymnt_d                                                                         Jun-2016   \n",
       "last_pymnt_amnt                                                                        926.35   \n",
       "next_pymnt_d                                                                              NaN   \n",
       "last_credit_pull_d                                                                   Mar-2019   \n",
       "last_fico_range_high                                                                    699.0   \n",
       "last_fico_range_low                                                                     695.0   \n",
       "collections_12_mths_ex_med                                                                0.0   \n",
       "mths_since_last_major_derog                                                               NaN   \n",
       "policy_code                                                                               1.0   \n",
       "application_type                                                                   Individual   \n",
       "annual_inc_joint                                                                          NaN   \n",
       "dti_joint                                                                                 NaN   \n",
       "verification_status_joint                                                                 NaN   \n",
       "acc_now_delinq                                                                            0.0   \n",
       "tot_coll_amt                                                                              0.0   \n",
       "tot_cur_bal                                                                          204396.0   \n",
       "open_acc_6m                                                                               1.0   \n",
       "open_act_il                                                                               1.0   \n",
       "open_il_12m                                                                               0.0   \n",
       "open_il_24m                                                                               1.0   \n",
       "mths_since_rcnt_il                                                                       19.0   \n",
       "total_bal_il                                                                          18005.0   \n",
       "il_util                                                                                  73.0   \n",
       "open_rv_12m                                                                               2.0   \n",
       "open_rv_24m                                                                               3.0   \n",
       "max_bal_bc                                                                             6472.0   \n",
       "all_util                                                                                 29.0   \n",
       "total_rev_hi_lim                                                                     111800.0   \n",
       "inq_fi                                                                                    0.0   \n",
       "total_cu_tl                                                                               0.0   \n",
       "inq_last_12m                                                                              6.0   \n",
       "acc_open_past_24mths                                                                      4.0   \n",
       "avg_cur_bal                                                                            9733.0   \n",
       "bc_open_to_buy                                                                        57830.0   \n",
       "bc_util                                                                                  27.1   \n",
       "chargeoff_within_12_mths                                                                  0.0   \n",
       "delinq_amnt                                                                               0.0   \n",
       "mo_sin_old_il_acct                                                                      113.0   \n",
       "mo_sin_old_rev_tl_op                                                                    192.0   \n",
       "mo_sin_rcnt_rev_tl_op                                                                     2.0   \n",
       "mo_sin_rcnt_tl                                                                            2.0   \n",
       "mort_acc                                                                                  4.0   \n",
       "mths_since_recent_bc                                                                      2.0   \n",
       "mths_since_recent_bc_dlq                                                                  NaN   \n",
       "mths_since_recent_inq                                                                     0.0   \n",
       "mths_since_recent_revol_delinq                                                            6.0   \n",
       "num_accts_ever_120_pd                                                                     0.0   \n",
       "num_actv_bc_tl                                                                            5.0   \n",
       "num_actv_rev_tl                                                                           5.0   \n",
       "num_bc_sats                                                                              13.0   \n",
       "num_bc_tl                                                                                17.0   \n",
       "num_il_tl                                                                                 6.0   \n",
       "num_op_rev_tl                                                                            20.0   \n",
       "num_rev_accts                                                                            27.0   \n",
       "num_rev_tl_bal_gt_0                                                                       5.0   \n",
       "num_sats                                                                                 22.0   \n",
       "num_tl_120dpd_2m                                                                          0.0   \n",
       "num_tl_30dpd                                                                              0.0   \n",
       "num_tl_90g_dpd_24m                                                                        0.0   \n",
       "num_tl_op_past_12m                                                                        2.0   \n",
       "pct_tl_nvr_dlq                                                                           97.4   \n",
       "percent_bc_gt_75                                                                          7.7   \n",
       "pub_rec_bankruptcies                                                                      0.0   \n",
       "tax_liens                                                                                 0.0   \n",
       "tot_hi_cred_lim                                                                      314017.0   \n",
       "total_bal_ex_mort                                                                     39475.0   \n",
       "total_bc_limit                                                                        79300.0   \n",
       "total_il_high_credit_limit                                                            24667.0   \n",
       "revol_bal_joint                                                                           NaN   \n",
       "sec_app_fico_range_low                                                                    NaN   \n",
       "sec_app_fico_range_high                                                                   NaN   \n",
       "sec_app_earliest_cr_line                                                                  NaN   \n",
       "sec_app_inq_last_6mths                                                                    NaN   \n",
       "sec_app_mort_acc                                                                          NaN   \n",
       "sec_app_open_acc                                                                          NaN   \n",
       "sec_app_revol_util                                                                        NaN   \n",
       "sec_app_open_act_il                                                                       NaN   \n",
       "sec_app_num_rev_accts                                                                     NaN   \n",
       "sec_app_chargeoff_within_12_mths                                                          NaN   \n",
       "sec_app_collections_12_mths_ex_med                                                        NaN   \n",
       "sec_app_mths_since_last_major_derog                                                       NaN   \n",
       "hardship_flag                                                                               N   \n",
       "hardship_type                                                                             NaN   \n",
       "hardship_reason                                                                           NaN   \n",
       "hardship_status                                                                           NaN   \n",
       "deferral_term                                                                             NaN   \n",
       "hardship_amount                                                                           NaN   \n",
       "hardship_start_date                                                                       NaN   \n",
       "hardship_end_date                                                                         NaN   \n",
       "payment_plan_start_date                                                                   NaN   \n",
       "hardship_length                                                                           NaN   \n",
       "hardship_dpd                                                                              NaN   \n",
       "hardship_loan_status                                                                      NaN   \n",
       "orig_projected_additional_accrued_interest                                                NaN   \n",
       "hardship_payoff_balance_amount                                                            NaN   \n",
       "hardship_last_payment_amount                                                              NaN   \n",
       "disbursement_method                                                                      Cash   \n",
       "debt_settlement_flag                                                                        N   \n",
       "debt_settlement_flag_date                                                                 NaN   \n",
       "settlement_status                                                                         NaN   \n",
       "settlement_date                                                                           NaN   \n",
       "settlement_amount                                                                         NaN   \n",
       "settlement_percentage                                                                     NaN   \n",
       "settlement_term                                                                           NaN   \n",
       "\n",
       "                                                                                            2  \\\n",
       "id                                                                                   68341763   \n",
       "member_id                                                                                 NaN   \n",
       "loan_amnt                                                                             20000.0   \n",
       "funded_amnt                                                                           20000.0   \n",
       "funded_amnt_inv                                                                       20000.0   \n",
       "term                                                                                60 months   \n",
       "int_rate                                                                                10.78   \n",
       "installment                                                                            432.66   \n",
       "grade                                                                                       B   \n",
       "sub_grade                                                                                  B4   \n",
       "emp_title                                                                        truck driver   \n",
       "emp_length                                                                          10+ years   \n",
       "home_ownership                                                                       MORTGAGE   \n",
       "annual_inc                                                                            63000.0   \n",
       "verification_status                                                              Not Verified   \n",
       "issue_d                                                                              Dec-2015   \n",
       "loan_status                                                                        Fully Paid   \n",
       "pymnt_plan                                                                                  n   \n",
       "url                                         https://lendingclub.com/browse/loanDetail.acti...   \n",
       "desc                                                                                      NaN   \n",
       "purpose                                                                      home_improvement   \n",
       "title                                                                                     NaN   \n",
       "zip_code                                                                                605xx   \n",
       "addr_state                                                                                 IL   \n",
       "dti                                                                                     10.78   \n",
       "delinq_2yrs                                                                               0.0   \n",
       "earliest_cr_line                                                                     Aug-2000   \n",
       "fico_range_low                                                                          695.0   \n",
       "fico_range_high                                                                         699.0   \n",
       "inq_last_6mths                                                                            0.0   \n",
       "mths_since_last_delinq                                                                    NaN   \n",
       "mths_since_last_record                                                                    NaN   \n",
       "open_acc                                                                                  6.0   \n",
       "pub_rec                                                                                   0.0   \n",
       "revol_bal                                                                              7869.0   \n",
       "revol_util                                                                               56.2   \n",
       "total_acc                                                                                18.0   \n",
       "initial_list_status                                                                         w   \n",
       "out_prncp                                                                                 0.0   \n",
       "out_prncp_inv                                                                             0.0   \n",
       "total_pymnt                                                                      22705.924294   \n",
       "total_pymnt_inv                                                                      22705.92   \n",
       "total_rec_prncp                                                                       20000.0   \n",
       "total_rec_int                                                                         2705.92   \n",
       "total_rec_late_fee                                                                        0.0   \n",
       "recoveries                                                                                0.0   \n",
       "collection_recovery_fee                                                                   0.0   \n",
       "last_pymnt_d                                                                         Jun-2017   \n",
       "last_pymnt_amnt                                                                       15813.3   \n",
       "next_pymnt_d                                                                              NaN   \n",
       "last_credit_pull_d                                                                   Mar-2019   \n",
       "last_fico_range_high                                                                    704.0   \n",
       "last_fico_range_low                                                                     700.0   \n",
       "collections_12_mths_ex_med                                                                0.0   \n",
       "mths_since_last_major_derog                                                               NaN   \n",
       "policy_code                                                                               1.0   \n",
       "application_type                                                                    Joint App   \n",
       "annual_inc_joint                                                                      71000.0   \n",
       "dti_joint                                                                               13.85   \n",
       "verification_status_joint                                                        Not Verified   \n",
       "acc_now_delinq                                                                            0.0   \n",
       "tot_coll_amt                                                                              0.0   \n",
       "tot_cur_bal                                                                          189699.0   \n",
       "open_acc_6m                                                                               0.0   \n",
       "open_act_il                                                                               1.0   \n",
       "open_il_12m                                                                               0.0   \n",
       "open_il_24m                                                                               4.0   \n",
       "mths_since_rcnt_il                                                                       19.0   \n",
       "total_bal_il                                                                          10827.0   \n",
       "il_util                                                                                  73.0   \n",
       "open_rv_12m                                                                               0.0   \n",
       "open_rv_24m                                                                               2.0   \n",
       "max_bal_bc                                                                             2081.0   \n",
       "all_util                                                                                 65.0   \n",
       "total_rev_hi_lim                                                                      14000.0   \n",
       "inq_fi                                                                                    2.0   \n",
       "total_cu_tl                                                                               5.0   \n",
       "inq_last_12m                                                                              1.0   \n",
       "acc_open_past_24mths                                                                      6.0   \n",
       "avg_cur_bal                                                                           31617.0   \n",
       "bc_open_to_buy                                                                         2737.0   \n",
       "bc_util                                                                                  55.9   \n",
       "chargeoff_within_12_mths                                                                  0.0   \n",
       "delinq_amnt                                                                               0.0   \n",
       "mo_sin_old_il_acct                                                                      125.0   \n",
       "mo_sin_old_rev_tl_op                                                                    184.0   \n",
       "mo_sin_rcnt_rev_tl_op                                                                    14.0   \n",
       "mo_sin_rcnt_tl                                                                           14.0   \n",
       "mort_acc                                                                                  5.0   \n",
       "mths_since_recent_bc                                                                    101.0   \n",
       "mths_since_recent_bc_dlq                                                                  NaN   \n",
       "mths_since_recent_inq                                                                    10.0   \n",
       "mths_since_recent_revol_delinq                                                            NaN   \n",
       "num_accts_ever_120_pd                                                                     0.0   \n",
       "num_actv_bc_tl                                                                            2.0   \n",
       "num_actv_rev_tl                                                                           3.0   \n",
       "num_bc_sats                                                                               2.0   \n",
       "num_bc_tl                                                                                 4.0   \n",
       "num_il_tl                                                                                 6.0   \n",
       "num_op_rev_tl                                                                             4.0   \n",
       "num_rev_accts                                                                             7.0   \n",
       "num_rev_tl_bal_gt_0                                                                       3.0   \n",
       "num_sats                                                                                  6.0   \n",
       "num_tl_120dpd_2m                                                                          0.0   \n",
       "num_tl_30dpd                                                                              0.0   \n",
       "num_tl_90g_dpd_24m                                                                        0.0   \n",
       "num_tl_op_past_12m                                                                        0.0   \n",
       "pct_tl_nvr_dlq                                                                          100.0   \n",
       "percent_bc_gt_75                                                                         50.0   \n",
       "pub_rec_bankruptcies                                                                      0.0   \n",
       "tax_liens                                                                                 0.0   \n",
       "tot_hi_cred_lim                                                                      218418.0   \n",
       "total_bal_ex_mort                                                                     18696.0   \n",
       "total_bc_limit                                                                         6200.0   \n",
       "total_il_high_credit_limit                                                            14877.0   \n",
       "revol_bal_joint                                                                           NaN   \n",
       "sec_app_fico_range_low                                                                    NaN   \n",
       "sec_app_fico_range_high                                                                   NaN   \n",
       "sec_app_earliest_cr_line                                                                  NaN   \n",
       "sec_app_inq_last_6mths                                                                    NaN   \n",
       "sec_app_mort_acc                                                                          NaN   \n",
       "sec_app_open_acc                                                                          NaN   \n",
       "sec_app_revol_util                                                                        NaN   \n",
       "sec_app_open_act_il                                                                       NaN   \n",
       "sec_app_num_rev_accts                                                                     NaN   \n",
       "sec_app_chargeoff_within_12_mths                                                          NaN   \n",
       "sec_app_collections_12_mths_ex_med                                                        NaN   \n",
       "sec_app_mths_since_last_major_derog                                                       NaN   \n",
       "hardship_flag                                                                               N   \n",
       "hardship_type                                                                             NaN   \n",
       "hardship_reason                                                                           NaN   \n",
       "hardship_status                                                                           NaN   \n",
       "deferral_term                                                                             NaN   \n",
       "hardship_amount                                                                           NaN   \n",
       "hardship_start_date                                                                       NaN   \n",
       "hardship_end_date                                                                         NaN   \n",
       "payment_plan_start_date                                                                   NaN   \n",
       "hardship_length                                                                           NaN   \n",
       "hardship_dpd                                                                              NaN   \n",
       "hardship_loan_status                                                                      NaN   \n",
       "orig_projected_additional_accrued_interest                                                NaN   \n",
       "hardship_payoff_balance_amount                                                            NaN   \n",
       "hardship_last_payment_amount                                                              NaN   \n",
       "disbursement_method                                                                      Cash   \n",
       "debt_settlement_flag                                                                        N   \n",
       "debt_settlement_flag_date                                                                 NaN   \n",
       "settlement_status                                                                         NaN   \n",
       "settlement_date                                                                           NaN   \n",
       "settlement_amount                                                                         NaN   \n",
       "settlement_percentage                                                                     NaN   \n",
       "settlement_term                                                                           NaN   \n",
       "\n",
       "                                                                                            3  \\\n",
       "id                                                                                   66310712   \n",
       "member_id                                                                                 NaN   \n",
       "loan_amnt                                                                             35000.0   \n",
       "funded_amnt                                                                           35000.0   \n",
       "funded_amnt_inv                                                                       35000.0   \n",
       "term                                                                                60 months   \n",
       "int_rate                                                                                14.85   \n",
       "installment                                                                             829.9   \n",
       "grade                                                                                       C   \n",
       "sub_grade                                                                                  C5   \n",
       "emp_title                                                         Information Systems Officer   \n",
       "emp_length                                                                          10+ years   \n",
       "home_ownership                                                                       MORTGAGE   \n",
       "annual_inc                                                                           110000.0   \n",
       "verification_status                                                           Source Verified   \n",
       "issue_d                                                                              Dec-2015   \n",
       "loan_status                                                                           Current   \n",
       "pymnt_plan                                                                                  n   \n",
       "url                                         https://lendingclub.com/browse/loanDetail.acti...   \n",
       "desc                                                                                      NaN   \n",
       "purpose                                                                    debt_consolidation   \n",
       "title                                                                      Debt consolidation   \n",
       "zip_code                                                                                076xx   \n",
       "addr_state                                                                                 NJ   \n",
       "dti                                                                                     17.06   \n",
       "delinq_2yrs                                                                               0.0   \n",
       "earliest_cr_line                                                                     Sep-2008   \n",
       "fico_range_low                                                                          785.0   \n",
       "fico_range_high                                                                         789.0   \n",
       "inq_last_6mths                                                                            0.0   \n",
       "mths_since_last_delinq                                                                    NaN   \n",
       "mths_since_last_record                                                                    NaN   \n",
       "open_acc                                                                                 13.0   \n",
       "pub_rec                                                                                   0.0   \n",
       "revol_bal                                                                              7802.0   \n",
       "revol_util                                                                               11.6   \n",
       "total_acc                                                                                17.0   \n",
       "initial_list_status                                                                         w   \n",
       "out_prncp                                                                            15897.65   \n",
       "out_prncp_inv                                                                        15897.65   \n",
       "total_pymnt                                                                          31464.01   \n",
       "total_pymnt_inv                                                                      31464.01   \n",
       "total_rec_prncp                                                                      19102.35   \n",
       "total_rec_int                                                                        12361.66   \n",
       "total_rec_late_fee                                                                        0.0   \n",
       "recoveries                                                                                0.0   \n",
       "collection_recovery_fee                                                                   0.0   \n",
       "last_pymnt_d                                                                         Feb-2019   \n",
       "last_pymnt_amnt                                                                         829.9   \n",
       "next_pymnt_d                                                                         Apr-2019   \n",
       "last_credit_pull_d                                                                   Mar-2019   \n",
       "last_fico_range_high                                                                    679.0   \n",
       "last_fico_range_low                                                                     675.0   \n",
       "collections_12_mths_ex_med                                                                0.0   \n",
       "mths_since_last_major_derog                                                               NaN   \n",
       "policy_code                                                                               1.0   \n",
       "application_type                                                                   Individual   \n",
       "annual_inc_joint                                                                          NaN   \n",
       "dti_joint                                                                                 NaN   \n",
       "verification_status_joint                                                                 NaN   \n",
       "acc_now_delinq                                                                            0.0   \n",
       "tot_coll_amt                                                                              0.0   \n",
       "tot_cur_bal                                                                          301500.0   \n",
       "open_acc_6m                                                                               1.0   \n",
       "open_act_il                                                                               1.0   \n",
       "open_il_12m                                                                               0.0   \n",
       "open_il_24m                                                                               1.0   \n",
       "mths_since_rcnt_il                                                                       23.0   \n",
       "total_bal_il                                                                          12609.0   \n",
       "il_util                                                                                  70.0   \n",
       "open_rv_12m                                                                               1.0   \n",
       "open_rv_24m                                                                               1.0   \n",
       "max_bal_bc                                                                             6987.0   \n",
       "all_util                                                                                 45.0   \n",
       "total_rev_hi_lim                                                                      67300.0   \n",
       "inq_fi                                                                                    0.0   \n",
       "total_cu_tl                                                                               1.0   \n",
       "inq_last_12m                                                                              0.0   \n",
       "acc_open_past_24mths                                                                      2.0   \n",
       "avg_cur_bal                                                                           23192.0   \n",
       "bc_open_to_buy                                                                        54962.0   \n",
       "bc_util                                                                                  12.1   \n",
       "chargeoff_within_12_mths                                                                  0.0   \n",
       "delinq_amnt                                                                               0.0   \n",
       "mo_sin_old_il_acct                                                                       36.0   \n",
       "mo_sin_old_rev_tl_op                                                                     87.0   \n",
       "mo_sin_rcnt_rev_tl_op                                                                     2.0   \n",
       "mo_sin_rcnt_tl                                                                            2.0   \n",
       "mort_acc                                                                                  1.0   \n",
       "mths_since_recent_bc                                                                      2.0   \n",
       "mths_since_recent_bc_dlq                                                                  NaN   \n",
       "mths_since_recent_inq                                                                     NaN   \n",
       "mths_since_recent_revol_delinq                                                            NaN   \n",
       "num_accts_ever_120_pd                                                                     0.0   \n",
       "num_actv_bc_tl                                                                            4.0   \n",
       "num_actv_rev_tl                                                                           5.0   \n",
       "num_bc_sats                                                                               8.0   \n",
       "num_bc_tl                                                                                10.0   \n",
       "num_il_tl                                                                                 2.0   \n",
       "num_op_rev_tl                                                                            10.0   \n",
       "num_rev_accts                                                                            13.0   \n",
       "num_rev_tl_bal_gt_0                                                                       5.0   \n",
       "num_sats                                                                                 13.0   \n",
       "num_tl_120dpd_2m                                                                          0.0   \n",
       "num_tl_30dpd                                                                              0.0   \n",
       "num_tl_90g_dpd_24m                                                                        0.0   \n",
       "num_tl_op_past_12m                                                                        1.0   \n",
       "pct_tl_nvr_dlq                                                                          100.0   \n",
       "percent_bc_gt_75                                                                          0.0   \n",
       "pub_rec_bankruptcies                                                                      0.0   \n",
       "tax_liens                                                                                 0.0   \n",
       "tot_hi_cred_lim                                                                      381215.0   \n",
       "total_bal_ex_mort                                                                     52226.0   \n",
       "total_bc_limit                                                                        62500.0   \n",
       "total_il_high_credit_limit                                                            18000.0   \n",
       "revol_bal_joint                                                                           NaN   \n",
       "sec_app_fico_range_low                                                                    NaN   \n",
       "sec_app_fico_range_high                                                                   NaN   \n",
       "sec_app_earliest_cr_line                                                                  NaN   \n",
       "sec_app_inq_last_6mths                                                                    NaN   \n",
       "sec_app_mort_acc                                                                          NaN   \n",
       "sec_app_open_acc                                                                          NaN   \n",
       "sec_app_revol_util                                                                        NaN   \n",
       "sec_app_open_act_il                                                                       NaN   \n",
       "sec_app_num_rev_accts                                                                     NaN   \n",
       "sec_app_chargeoff_within_12_mths                                                          NaN   \n",
       "sec_app_collections_12_mths_ex_med                                                        NaN   \n",
       "sec_app_mths_since_last_major_derog                                                       NaN   \n",
       "hardship_flag                                                                               N   \n",
       "hardship_type                                                                             NaN   \n",
       "hardship_reason                                                                           NaN   \n",
       "hardship_status                                                                           NaN   \n",
       "deferral_term                                                                             NaN   \n",
       "hardship_amount                                                                           NaN   \n",
       "hardship_start_date                                                                       NaN   \n",
       "hardship_end_date                                                                         NaN   \n",
       "payment_plan_start_date                                                                   NaN   \n",
       "hardship_length                                                                           NaN   \n",
       "hardship_dpd                                                                              NaN   \n",
       "hardship_loan_status                                                                      NaN   \n",
       "orig_projected_additional_accrued_interest                                                NaN   \n",
       "hardship_payoff_balance_amount                                                            NaN   \n",
       "hardship_last_payment_amount                                                              NaN   \n",
       "disbursement_method                                                                      Cash   \n",
       "debt_settlement_flag                                                                        N   \n",
       "debt_settlement_flag_date                                                                 NaN   \n",
       "settlement_status                                                                         NaN   \n",
       "settlement_date                                                                           NaN   \n",
       "settlement_amount                                                                         NaN   \n",
       "settlement_percentage                                                                     NaN   \n",
       "settlement_term                                                                           NaN   \n",
       "\n",
       "                                                                                            4  \n",
       "id                                                                                   68476807  \n",
       "member_id                                                                                 NaN  \n",
       "loan_amnt                                                                             10400.0  \n",
       "funded_amnt                                                                           10400.0  \n",
       "funded_amnt_inv                                                                       10400.0  \n",
       "term                                                                                60 months  \n",
       "int_rate                                                                                22.45  \n",
       "installment                                                                            289.91  \n",
       "grade                                                                                       F  \n",
       "sub_grade                                                                                  F1  \n",
       "emp_title                                                                 Contract Specialist  \n",
       "emp_length                                                                            3 years  \n",
       "home_ownership                                                                       MORTGAGE  \n",
       "annual_inc                                                                           104433.0  \n",
       "verification_status                                                           Source Verified  \n",
       "issue_d                                                                              Dec-2015  \n",
       "loan_status                                                                        Fully Paid  \n",
       "pymnt_plan                                                                                  n  \n",
       "url                                         https://lendingclub.com/browse/loanDetail.acti...  \n",
       "desc                                                                                      NaN  \n",
       "purpose                                                                        major_purchase  \n",
       "title                                                                          Major purchase  \n",
       "zip_code                                                                                174xx  \n",
       "addr_state                                                                                 PA  \n",
       "dti                                                                                     25.37  \n",
       "delinq_2yrs                                                                               1.0  \n",
       "earliest_cr_line                                                                     Jun-1998  \n",
       "fico_range_low                                                                          695.0  \n",
       "fico_range_high                                                                         699.0  \n",
       "inq_last_6mths                                                                            3.0  \n",
       "mths_since_last_delinq                                                                   12.0  \n",
       "mths_since_last_record                                                                    NaN  \n",
       "open_acc                                                                                 12.0  \n",
       "pub_rec                                                                                   0.0  \n",
       "revol_bal                                                                             21929.0  \n",
       "revol_util                                                                               64.5  \n",
       "total_acc                                                                                35.0  \n",
       "initial_list_status                                                                         w  \n",
       "out_prncp                                                                                 0.0  \n",
       "out_prncp_inv                                                                             0.0  \n",
       "total_pymnt                                                                           11740.5  \n",
       "total_pymnt_inv                                                                       11740.5  \n",
       "total_rec_prncp                                                                       10400.0  \n",
       "total_rec_int                                                                          1340.5  \n",
       "total_rec_late_fee                                                                        0.0  \n",
       "recoveries                                                                                0.0  \n",
       "collection_recovery_fee                                                                   0.0  \n",
       "last_pymnt_d                                                                         Jul-2016  \n",
       "last_pymnt_amnt                                                                      10128.96  \n",
       "next_pymnt_d                                                                              NaN  \n",
       "last_credit_pull_d                                                                   Mar-2018  \n",
       "last_fico_range_high                                                                    704.0  \n",
       "last_fico_range_low                                                                     700.0  \n",
       "collections_12_mths_ex_med                                                                0.0  \n",
       "mths_since_last_major_derog                                                               NaN  \n",
       "policy_code                                                                               1.0  \n",
       "application_type                                                                   Individual  \n",
       "annual_inc_joint                                                                          NaN  \n",
       "dti_joint                                                                                 NaN  \n",
       "verification_status_joint                                                                 NaN  \n",
       "acc_now_delinq                                                                            0.0  \n",
       "tot_coll_amt                                                                              0.0  \n",
       "tot_cur_bal                                                                          331730.0  \n",
       "open_acc_6m                                                                               1.0  \n",
       "open_act_il                                                                               3.0  \n",
       "open_il_12m                                                                               0.0  \n",
       "open_il_24m                                                                               3.0  \n",
       "mths_since_rcnt_il                                                                       14.0  \n",
       "total_bal_il                                                                          73839.0  \n",
       "il_util                                                                                  84.0  \n",
       "open_rv_12m                                                                               4.0  \n",
       "open_rv_24m                                                                               7.0  \n",
       "max_bal_bc                                                                             9702.0  \n",
       "all_util                                                                                 78.0  \n",
       "total_rev_hi_lim                                                                      34000.0  \n",
       "inq_fi                                                                                    2.0  \n",
       "total_cu_tl                                                                               1.0  \n",
       "inq_last_12m                                                                              3.0  \n",
       "acc_open_past_24mths                                                                     10.0  \n",
       "avg_cur_bal                                                                           27644.0  \n",
       "bc_open_to_buy                                                                         4567.0  \n",
       "bc_util                                                                                  77.5  \n",
       "chargeoff_within_12_mths                                                                  0.0  \n",
       "delinq_amnt                                                                               0.0  \n",
       "mo_sin_old_il_acct                                                                      128.0  \n",
       "mo_sin_old_rev_tl_op                                                                    210.0  \n",
       "mo_sin_rcnt_rev_tl_op                                                                     4.0  \n",
       "mo_sin_rcnt_tl                                                                            4.0  \n",
       "mort_acc                                                                                  6.0  \n",
       "mths_since_recent_bc                                                                      4.0  \n",
       "mths_since_recent_bc_dlq                                                                 12.0  \n",
       "mths_since_recent_inq                                                                     1.0  \n",
       "mths_since_recent_revol_delinq                                                           12.0  \n",
       "num_accts_ever_120_pd                                                                     0.0  \n",
       "num_actv_bc_tl                                                                            4.0  \n",
       "num_actv_rev_tl                                                                           6.0  \n",
       "num_bc_sats                                                                               5.0  \n",
       "num_bc_tl                                                                                 9.0  \n",
       "num_il_tl                                                                                10.0  \n",
       "num_op_rev_tl                                                                             7.0  \n",
       "num_rev_accts                                                                            19.0  \n",
       "num_rev_tl_bal_gt_0                                                                       6.0  \n",
       "num_sats                                                                                 12.0  \n",
       "num_tl_120dpd_2m                                                                          0.0  \n",
       "num_tl_30dpd                                                                              0.0  \n",
       "num_tl_90g_dpd_24m                                                                        0.0  \n",
       "num_tl_op_past_12m                                                                        4.0  \n",
       "pct_tl_nvr_dlq                                                                           96.6  \n",
       "percent_bc_gt_75                                                                         60.0  \n",
       "pub_rec_bankruptcies                                                                      0.0  \n",
       "tax_liens                                                                                 0.0  \n",
       "tot_hi_cred_lim                                                                      439570.0  \n",
       "total_bal_ex_mort                                                                     95768.0  \n",
       "total_bc_limit                                                                        20300.0  \n",
       "total_il_high_credit_limit                                                            88097.0  \n",
       "revol_bal_joint                                                                           NaN  \n",
       "sec_app_fico_range_low                                                                    NaN  \n",
       "sec_app_fico_range_high                                                                   NaN  \n",
       "sec_app_earliest_cr_line                                                                  NaN  \n",
       "sec_app_inq_last_6mths                                                                    NaN  \n",
       "sec_app_mort_acc                                                                          NaN  \n",
       "sec_app_open_acc                                                                          NaN  \n",
       "sec_app_revol_util                                                                        NaN  \n",
       "sec_app_open_act_il                                                                       NaN  \n",
       "sec_app_num_rev_accts                                                                     NaN  \n",
       "sec_app_chargeoff_within_12_mths                                                          NaN  \n",
       "sec_app_collections_12_mths_ex_med                                                        NaN  \n",
       "sec_app_mths_since_last_major_derog                                                       NaN  \n",
       "hardship_flag                                                                               N  \n",
       "hardship_type                                                                             NaN  \n",
       "hardship_reason                                                                           NaN  \n",
       "hardship_status                                                                           NaN  \n",
       "deferral_term                                                                             NaN  \n",
       "hardship_amount                                                                           NaN  \n",
       "hardship_start_date                                                                       NaN  \n",
       "hardship_end_date                                                                         NaN  \n",
       "payment_plan_start_date                                                                   NaN  \n",
       "hardship_length                                                                           NaN  \n",
       "hardship_dpd                                                                              NaN  \n",
       "hardship_loan_status                                                                      NaN  \n",
       "orig_projected_additional_accrued_interest                                                NaN  \n",
       "hardship_payoff_balance_amount                                                            NaN  \n",
       "hardship_last_payment_amount                                                              NaN  \n",
       "disbursement_method                                                                      Cash  \n",
       "debt_settlement_flag                                                                        N  \n",
       "debt_settlement_flag_date                                                                 NaN  \n",
       "settlement_status                                                                         NaN  \n",
       "settlement_date                                                                           NaN  \n",
       "settlement_amount                                                                         NaN  \n",
       "settlement_percentage                                                                     NaN  \n",
       "settlement_term                                                                           NaN  "
      ]
     },
     "execution_count": 5,
     "metadata": {},
     "output_type": "execute_result"
    }
   ],
   "source": [
    "# Viewing the top 5 rows of the dataset of accepted\n",
    "# the .T is transposing the matrix.\n",
    "df.head().T"
   ]
  },
  {
   "cell_type": "code",
   "execution_count": 6,
   "metadata": {
    "colab": {
     "base_uri": "https://localhost:8080/",
     "height": 487
    },
    "id": "15_L5Lxyv74Y",
    "outputId": "89b66948-de3c-4fc9-ba6f-9138b8984593"
   },
   "outputs": [
    {
     "data": {
      "text/html": [
       "<div>\n",
       "<style scoped>\n",
       "    .dataframe tbody tr th:only-of-type {\n",
       "        vertical-align: middle;\n",
       "    }\n",
       "\n",
       "    .dataframe tbody tr th {\n",
       "        vertical-align: top;\n",
       "    }\n",
       "\n",
       "    .dataframe thead th {\n",
       "        text-align: right;\n",
       "    }\n",
       "</style>\n",
       "<table border=\"1\" class=\"dataframe\">\n",
       "  <thead>\n",
       "    <tr style=\"text-align: right;\">\n",
       "      <th></th>\n",
       "      <th>id</th>\n",
       "      <th>member_id</th>\n",
       "      <th>loan_amnt</th>\n",
       "      <th>funded_amnt</th>\n",
       "      <th>funded_amnt_inv</th>\n",
       "      <th>term</th>\n",
       "      <th>int_rate</th>\n",
       "      <th>installment</th>\n",
       "      <th>grade</th>\n",
       "      <th>sub_grade</th>\n",
       "      <th>...</th>\n",
       "      <th>hardship_payoff_balance_amount</th>\n",
       "      <th>hardship_last_payment_amount</th>\n",
       "      <th>disbursement_method</th>\n",
       "      <th>debt_settlement_flag</th>\n",
       "      <th>debt_settlement_flag_date</th>\n",
       "      <th>settlement_status</th>\n",
       "      <th>settlement_date</th>\n",
       "      <th>settlement_amount</th>\n",
       "      <th>settlement_percentage</th>\n",
       "      <th>settlement_term</th>\n",
       "    </tr>\n",
       "  </thead>\n",
       "  <tbody>\n",
       "    <tr>\n",
       "      <th>2260696</th>\n",
       "      <td>88985880</td>\n",
       "      <td>NaN</td>\n",
       "      <td>40000.0</td>\n",
       "      <td>40000.0</td>\n",
       "      <td>40000.0</td>\n",
       "      <td>60 months</td>\n",
       "      <td>10.49</td>\n",
       "      <td>859.56</td>\n",
       "      <td>B</td>\n",
       "      <td>B3</td>\n",
       "      <td>...</td>\n",
       "      <td>NaN</td>\n",
       "      <td>NaN</td>\n",
       "      <td>Cash</td>\n",
       "      <td>N</td>\n",
       "      <td>NaN</td>\n",
       "      <td>NaN</td>\n",
       "      <td>NaN</td>\n",
       "      <td>NaN</td>\n",
       "      <td>NaN</td>\n",
       "      <td>NaN</td>\n",
       "    </tr>\n",
       "    <tr>\n",
       "      <th>2260697</th>\n",
       "      <td>88224441</td>\n",
       "      <td>NaN</td>\n",
       "      <td>24000.0</td>\n",
       "      <td>24000.0</td>\n",
       "      <td>24000.0</td>\n",
       "      <td>60 months</td>\n",
       "      <td>14.49</td>\n",
       "      <td>564.56</td>\n",
       "      <td>C</td>\n",
       "      <td>C4</td>\n",
       "      <td>...</td>\n",
       "      <td>NaN</td>\n",
       "      <td>NaN</td>\n",
       "      <td>Cash</td>\n",
       "      <td>Y</td>\n",
       "      <td>Mar-2019</td>\n",
       "      <td>ACTIVE</td>\n",
       "      <td>Mar-2019</td>\n",
       "      <td>10000.0</td>\n",
       "      <td>44.82</td>\n",
       "      <td>1.0</td>\n",
       "    </tr>\n",
       "    <tr>\n",
       "      <th>2260698</th>\n",
       "      <td>88215728</td>\n",
       "      <td>NaN</td>\n",
       "      <td>14000.0</td>\n",
       "      <td>14000.0</td>\n",
       "      <td>14000.0</td>\n",
       "      <td>60 months</td>\n",
       "      <td>14.49</td>\n",
       "      <td>329.33</td>\n",
       "      <td>C</td>\n",
       "      <td>C4</td>\n",
       "      <td>...</td>\n",
       "      <td>NaN</td>\n",
       "      <td>NaN</td>\n",
       "      <td>Cash</td>\n",
       "      <td>N</td>\n",
       "      <td>NaN</td>\n",
       "      <td>NaN</td>\n",
       "      <td>NaN</td>\n",
       "      <td>NaN</td>\n",
       "      <td>NaN</td>\n",
       "      <td>NaN</td>\n",
       "    </tr>\n",
       "    <tr>\n",
       "      <th>2260699</th>\n",
       "      <td>Total amount funded in policy code 1: 1465324575</td>\n",
       "      <td>NaN</td>\n",
       "      <td>NaN</td>\n",
       "      <td>NaN</td>\n",
       "      <td>NaN</td>\n",
       "      <td>NaN</td>\n",
       "      <td>NaN</td>\n",
       "      <td>NaN</td>\n",
       "      <td>NaN</td>\n",
       "      <td>NaN</td>\n",
       "      <td>...</td>\n",
       "      <td>NaN</td>\n",
       "      <td>NaN</td>\n",
       "      <td>NaN</td>\n",
       "      <td>NaN</td>\n",
       "      <td>NaN</td>\n",
       "      <td>NaN</td>\n",
       "      <td>NaN</td>\n",
       "      <td>NaN</td>\n",
       "      <td>NaN</td>\n",
       "      <td>NaN</td>\n",
       "    </tr>\n",
       "    <tr>\n",
       "      <th>2260700</th>\n",
       "      <td>Total amount funded in policy code 2: 521953170</td>\n",
       "      <td>NaN</td>\n",
       "      <td>NaN</td>\n",
       "      <td>NaN</td>\n",
       "      <td>NaN</td>\n",
       "      <td>NaN</td>\n",
       "      <td>NaN</td>\n",
       "      <td>NaN</td>\n",
       "      <td>NaN</td>\n",
       "      <td>NaN</td>\n",
       "      <td>...</td>\n",
       "      <td>NaN</td>\n",
       "      <td>NaN</td>\n",
       "      <td>NaN</td>\n",
       "      <td>NaN</td>\n",
       "      <td>NaN</td>\n",
       "      <td>NaN</td>\n",
       "      <td>NaN</td>\n",
       "      <td>NaN</td>\n",
       "      <td>NaN</td>\n",
       "      <td>NaN</td>\n",
       "    </tr>\n",
       "  </tbody>\n",
       "</table>\n",
       "<p>5 rows × 151 columns</p>\n",
       "</div>"
      ],
      "text/plain": [
       "                                                       id  member_id  \\\n",
       "2260696                                          88985880        NaN   \n",
       "2260697                                          88224441        NaN   \n",
       "2260698                                          88215728        NaN   \n",
       "2260699  Total amount funded in policy code 1: 1465324575        NaN   \n",
       "2260700   Total amount funded in policy code 2: 521953170        NaN   \n",
       "\n",
       "         loan_amnt  funded_amnt  funded_amnt_inv        term  int_rate  \\\n",
       "2260696    40000.0      40000.0          40000.0   60 months     10.49   \n",
       "2260697    24000.0      24000.0          24000.0   60 months     14.49   \n",
       "2260698    14000.0      14000.0          14000.0   60 months     14.49   \n",
       "2260699        NaN          NaN              NaN         NaN       NaN   \n",
       "2260700        NaN          NaN              NaN         NaN       NaN   \n",
       "\n",
       "         installment grade sub_grade  ... hardship_payoff_balance_amount  \\\n",
       "2260696       859.56     B        B3  ...                            NaN   \n",
       "2260697       564.56     C        C4  ...                            NaN   \n",
       "2260698       329.33     C        C4  ...                            NaN   \n",
       "2260699          NaN   NaN       NaN  ...                            NaN   \n",
       "2260700          NaN   NaN       NaN  ...                            NaN   \n",
       "\n",
       "        hardship_last_payment_amount disbursement_method  \\\n",
       "2260696                          NaN                Cash   \n",
       "2260697                          NaN                Cash   \n",
       "2260698                          NaN                Cash   \n",
       "2260699                          NaN                 NaN   \n",
       "2260700                          NaN                 NaN   \n",
       "\n",
       "         debt_settlement_flag debt_settlement_flag_date settlement_status  \\\n",
       "2260696                     N                       NaN               NaN   \n",
       "2260697                     Y                  Mar-2019            ACTIVE   \n",
       "2260698                     N                       NaN               NaN   \n",
       "2260699                   NaN                       NaN               NaN   \n",
       "2260700                   NaN                       NaN               NaN   \n",
       "\n",
       "        settlement_date settlement_amount settlement_percentage  \\\n",
       "2260696             NaN               NaN                   NaN   \n",
       "2260697        Mar-2019           10000.0                 44.82   \n",
       "2260698             NaN               NaN                   NaN   \n",
       "2260699             NaN               NaN                   NaN   \n",
       "2260700             NaN               NaN                   NaN   \n",
       "\n",
       "        settlement_term  \n",
       "2260696             NaN  \n",
       "2260697             1.0  \n",
       "2260698             NaN  \n",
       "2260699             NaN  \n",
       "2260700             NaN  \n",
       "\n",
       "[5 rows x 151 columns]"
      ]
     },
     "execution_count": 6,
     "metadata": {},
     "output_type": "execute_result"
    }
   ],
   "source": [
    "# Viewing the last 5 rows of the dataset of accepted\n",
    "df.tail()"
   ]
  },
  {
   "cell_type": "code",
   "execution_count": 6,
   "metadata": {
    "colab": {
     "base_uri": "https://localhost:8080/"
    },
    "id": "_pGPtGcowKve",
    "outputId": "f8598298-7de8-4323-fb4b-322127646ae5"
   },
   "outputs": [
    {
     "name": "stdout",
     "output_type": "stream",
     "text": [
      "<class 'pandas.core.frame.DataFrame'>\n",
      "RangeIndex: 2260701 entries, 0 to 2260700\n",
      "Data columns (total 151 columns):\n",
      " #    Column                                      Non-Null Count    Dtype  \n",
      "---   ------                                      --------------    -----  \n",
      " 0    id                                          2260701 non-null  object \n",
      " 1    member_id                                   0 non-null        float64\n",
      " 2    loan_amnt                                   2260668 non-null  float64\n",
      " 3    funded_amnt                                 2260668 non-null  float64\n",
      " 4    funded_amnt_inv                             2260668 non-null  float64\n",
      " 5    term                                        2260668 non-null  object \n",
      " 6    int_rate                                    2260668 non-null  float64\n",
      " 7    installment                                 2260668 non-null  float64\n",
      " 8    grade                                       2260668 non-null  object \n",
      " 9    sub_grade                                   2260668 non-null  object \n",
      " 10   emp_title                                   2093699 non-null  object \n",
      " 11   emp_length                                  2113761 non-null  object \n",
      " 12   home_ownership                              2260668 non-null  object \n",
      " 13   annual_inc                                  2260664 non-null  float64\n",
      " 14   verification_status                         2260668 non-null  object \n",
      " 15   issue_d                                     2260668 non-null  object \n",
      " 16   loan_status                                 2260668 non-null  object \n",
      " 17   pymnt_plan                                  2260668 non-null  object \n",
      " 18   url                                         2260668 non-null  object \n",
      " 19   desc                                        126067 non-null   object \n",
      " 20   purpose                                     2260668 non-null  object \n",
      " 21   title                                       2237343 non-null  object \n",
      " 22   zip_code                                    2260667 non-null  object \n",
      " 23   addr_state                                  2260668 non-null  object \n",
      " 24   dti                                         2258957 non-null  float64\n",
      " 25   delinq_2yrs                                 2260639 non-null  float64\n",
      " 26   earliest_cr_line                            2260639 non-null  object \n",
      " 27   fico_range_low                              2260668 non-null  float64\n",
      " 28   fico_range_high                             2260668 non-null  float64\n",
      " 29   inq_last_6mths                              2260638 non-null  float64\n",
      " 30   mths_since_last_delinq                      1102166 non-null  float64\n",
      " 31   mths_since_last_record                      359156 non-null   float64\n",
      " 32   open_acc                                    2260639 non-null  float64\n",
      " 33   pub_rec                                     2260639 non-null  float64\n",
      " 34   revol_bal                                   2260668 non-null  float64\n",
      " 35   revol_util                                  2258866 non-null  float64\n",
      " 36   total_acc                                   2260639 non-null  float64\n",
      " 37   initial_list_status                         2260668 non-null  object \n",
      " 38   out_prncp                                   2260668 non-null  float64\n",
      " 39   out_prncp_inv                               2260668 non-null  float64\n",
      " 40   total_pymnt                                 2260668 non-null  float64\n",
      " 41   total_pymnt_inv                             2260668 non-null  float64\n",
      " 42   total_rec_prncp                             2260668 non-null  float64\n",
      " 43   total_rec_int                               2260668 non-null  float64\n",
      " 44   total_rec_late_fee                          2260668 non-null  float64\n",
      " 45   recoveries                                  2260668 non-null  float64\n",
      " 46   collection_recovery_fee                     2260668 non-null  float64\n",
      " 47   last_pymnt_d                                2258241 non-null  object \n",
      " 48   last_pymnt_amnt                             2260668 non-null  float64\n",
      " 49   next_pymnt_d                                915358 non-null   object \n",
      " 50   last_credit_pull_d                          2260596 non-null  object \n",
      " 51   last_fico_range_high                        2260668 non-null  float64\n",
      " 52   last_fico_range_low                         2260668 non-null  float64\n",
      " 53   collections_12_mths_ex_med                  2260523 non-null  float64\n",
      " 54   mths_since_last_major_derog                 580775 non-null   float64\n",
      " 55   policy_code                                 2260668 non-null  float64\n",
      " 56   application_type                            2260668 non-null  object \n",
      " 57   annual_inc_joint                            120710 non-null   float64\n",
      " 58   dti_joint                                   120706 non-null   float64\n",
      " 59   verification_status_joint                   115730 non-null   object \n",
      " 60   acc_now_delinq                              2260639 non-null  float64\n",
      " 61   tot_coll_amt                                2190392 non-null  float64\n",
      " 62   tot_cur_bal                                 2190392 non-null  float64\n",
      " 63   open_acc_6m                                 1394538 non-null  float64\n",
      " 64   open_act_il                                 1394539 non-null  float64\n",
      " 65   open_il_12m                                 1394539 non-null  float64\n",
      " 66   open_il_24m                                 1394539 non-null  float64\n",
      " 67   mths_since_rcnt_il                          1350744 non-null  float64\n",
      " 68   total_bal_il                                1394539 non-null  float64\n",
      " 69   il_util                                     1191818 non-null  float64\n",
      " 70   open_rv_12m                                 1394539 non-null  float64\n",
      " 71   open_rv_24m                                 1394539 non-null  float64\n",
      " 72   max_bal_bc                                  1394539 non-null  float64\n",
      " 73   all_util                                    1394320 non-null  float64\n",
      " 74   total_rev_hi_lim                            2190392 non-null  float64\n",
      " 75   inq_fi                                      1394539 non-null  float64\n",
      " 76   total_cu_tl                                 1394538 non-null  float64\n",
      " 77   inq_last_12m                                1394538 non-null  float64\n",
      " 78   acc_open_past_24mths                        2210638 non-null  float64\n",
      " 79   avg_cur_bal                                 2190322 non-null  float64\n",
      " 80   bc_open_to_buy                              2185733 non-null  float64\n",
      " 81   bc_util                                     2184597 non-null  float64\n",
      " 82   chargeoff_within_12_mths                    2260523 non-null  float64\n",
      " 83   delinq_amnt                                 2260639 non-null  float64\n",
      " 84   mo_sin_old_il_acct                          2121597 non-null  float64\n",
      " 85   mo_sin_old_rev_tl_op                        2190391 non-null  float64\n",
      " 86   mo_sin_rcnt_rev_tl_op                       2190391 non-null  float64\n",
      " 87   mo_sin_rcnt_tl                              2190392 non-null  float64\n",
      " 88   mort_acc                                    2210638 non-null  float64\n",
      " 89   mths_since_recent_bc                        2187256 non-null  float64\n",
      " 90   mths_since_recent_bc_dlq                    519701 non-null   float64\n",
      " 91   mths_since_recent_inq                       1965233 non-null  float64\n",
      " 92   mths_since_recent_revol_delinq              740359 non-null   float64\n",
      " 93   num_accts_ever_120_pd                       2190392 non-null  float64\n",
      " 94   num_actv_bc_tl                              2190392 non-null  float64\n",
      " 95   num_actv_rev_tl                             2190392 non-null  float64\n",
      " 96   num_bc_sats                                 2202078 non-null  float64\n",
      " 97   num_bc_tl                                   2190392 non-null  float64\n",
      " 98   num_il_tl                                   2190392 non-null  float64\n",
      " 99   num_op_rev_tl                               2190392 non-null  float64\n",
      " 100  num_rev_accts                               2190391 non-null  float64\n",
      " 101  num_rev_tl_bal_gt_0                         2190392 non-null  float64\n",
      " 102  num_sats                                    2202078 non-null  float64\n",
      " 103  num_tl_120dpd_2m                            2107011 non-null  float64\n",
      " 104  num_tl_30dpd                                2190392 non-null  float64\n",
      " 105  num_tl_90g_dpd_24m                          2190392 non-null  float64\n",
      " 106  num_tl_op_past_12m                          2190392 non-null  float64\n",
      " 107  pct_tl_nvr_dlq                              2190237 non-null  float64\n",
      " 108  percent_bc_gt_75                            2185289 non-null  float64\n",
      " 109  pub_rec_bankruptcies                        2259303 non-null  float64\n",
      " 110  tax_liens                                   2260563 non-null  float64\n",
      " 111  tot_hi_cred_lim                             2190392 non-null  float64\n",
      " 112  total_bal_ex_mort                           2210638 non-null  float64\n",
      " 113  total_bc_limit                              2210638 non-null  float64\n",
      " 114  total_il_high_credit_limit                  2190392 non-null  float64\n",
      " 115  revol_bal_joint                             108020 non-null   float64\n",
      " 116  sec_app_fico_range_low                      108021 non-null   float64\n",
      " 117  sec_app_fico_range_high                     108021 non-null   float64\n",
      " 118  sec_app_earliest_cr_line                    108021 non-null   object \n",
      " 119  sec_app_inq_last_6mths                      108021 non-null   float64\n",
      " 120  sec_app_mort_acc                            108021 non-null   float64\n",
      " 121  sec_app_open_acc                            108021 non-null   float64\n",
      " 122  sec_app_revol_util                          106184 non-null   float64\n",
      " 123  sec_app_open_act_il                         108021 non-null   float64\n",
      " 124  sec_app_num_rev_accts                       108021 non-null   float64\n",
      " 125  sec_app_chargeoff_within_12_mths            108021 non-null   float64\n",
      " 126  sec_app_collections_12_mths_ex_med          108021 non-null   float64\n",
      " 127  sec_app_mths_since_last_major_derog         35942 non-null    float64\n",
      " 128  hardship_flag                               2260668 non-null  object \n",
      " 129  hardship_type                               10917 non-null    object \n",
      " 130  hardship_reason                             10917 non-null    object \n",
      " 131  hardship_status                             10917 non-null    object \n",
      " 132  deferral_term                               10917 non-null    float64\n",
      " 133  hardship_amount                             10917 non-null    float64\n",
      " 134  hardship_start_date                         10917 non-null    object \n",
      " 135  hardship_end_date                           10917 non-null    object \n",
      " 136  payment_plan_start_date                     10917 non-null    object \n",
      " 137  hardship_length                             10917 non-null    float64\n",
      " 138  hardship_dpd                                10917 non-null    float64\n",
      " 139  hardship_loan_status                        10917 non-null    object \n",
      " 140  orig_projected_additional_accrued_interest  8651 non-null     float64\n",
      " 141  hardship_payoff_balance_amount              10917 non-null    float64\n",
      " 142  hardship_last_payment_amount                10917 non-null    float64\n",
      " 143  disbursement_method                         2260668 non-null  object \n",
      " 144  debt_settlement_flag                        2260668 non-null  object \n",
      " 145  debt_settlement_flag_date                   34246 non-null    object \n",
      " 146  settlement_status                           34246 non-null    object \n",
      " 147  settlement_date                             34246 non-null    object \n",
      " 148  settlement_amount                           34246 non-null    float64\n",
      " 149  settlement_percentage                       34246 non-null    float64\n",
      " 150  settlement_term                             34246 non-null    float64\n",
      "dtypes: float64(113), object(38)\n",
      "memory usage: 2.5+ GB\n"
     ]
    }
   ],
   "source": [
    "# Checking the data types of variables\n",
    "# It will also help us to find the number of non-null (not missing) data points for each column\n",
    "# because this dataframe is so large, we have to force it to show the datatypes and non-null numbers with the arguments\n",
    "df.info(verbose=True, null_counts=True)"
   ]
  },
  {
   "cell_type": "code",
   "execution_count": 7,
   "metadata": {
    "colab": {
     "base_uri": "https://localhost:8080/",
     "height": 344
    },
    "id": "MYNMoCTPw-Ig",
    "outputId": "86e140fa-1457-4619-e13a-2a89e5f87456"
   },
   "outputs": [
    {
     "data": {
      "text/html": [
       "<div>\n",
       "<style scoped>\n",
       "    .dataframe tbody tr th:only-of-type {\n",
       "        vertical-align: middle;\n",
       "    }\n",
       "\n",
       "    .dataframe tbody tr th {\n",
       "        vertical-align: top;\n",
       "    }\n",
       "\n",
       "    .dataframe thead th {\n",
       "        text-align: right;\n",
       "    }\n",
       "</style>\n",
       "<table border=\"1\" class=\"dataframe\">\n",
       "  <thead>\n",
       "    <tr style=\"text-align: right;\">\n",
       "      <th></th>\n",
       "      <th>member_id</th>\n",
       "      <th>loan_amnt</th>\n",
       "      <th>funded_amnt</th>\n",
       "      <th>funded_amnt_inv</th>\n",
       "      <th>int_rate</th>\n",
       "      <th>installment</th>\n",
       "      <th>annual_inc</th>\n",
       "      <th>dti</th>\n",
       "      <th>delinq_2yrs</th>\n",
       "      <th>fico_range_low</th>\n",
       "      <th>...</th>\n",
       "      <th>deferral_term</th>\n",
       "      <th>hardship_amount</th>\n",
       "      <th>hardship_length</th>\n",
       "      <th>hardship_dpd</th>\n",
       "      <th>orig_projected_additional_accrued_interest</th>\n",
       "      <th>hardship_payoff_balance_amount</th>\n",
       "      <th>hardship_last_payment_amount</th>\n",
       "      <th>settlement_amount</th>\n",
       "      <th>settlement_percentage</th>\n",
       "      <th>settlement_term</th>\n",
       "    </tr>\n",
       "  </thead>\n",
       "  <tbody>\n",
       "    <tr>\n",
       "      <th>count</th>\n",
       "      <td>0.0</td>\n",
       "      <td>2.260668e+06</td>\n",
       "      <td>2.260668e+06</td>\n",
       "      <td>2.260668e+06</td>\n",
       "      <td>2.260668e+06</td>\n",
       "      <td>2.260668e+06</td>\n",
       "      <td>2.260664e+06</td>\n",
       "      <td>2.258957e+06</td>\n",
       "      <td>2.260639e+06</td>\n",
       "      <td>2.260668e+06</td>\n",
       "      <td>...</td>\n",
       "      <td>10917.0</td>\n",
       "      <td>10917.000000</td>\n",
       "      <td>10917.0</td>\n",
       "      <td>10917.000000</td>\n",
       "      <td>8651.000000</td>\n",
       "      <td>10917.000000</td>\n",
       "      <td>10917.000000</td>\n",
       "      <td>34246.000000</td>\n",
       "      <td>34246.000000</td>\n",
       "      <td>34246.000000</td>\n",
       "    </tr>\n",
       "    <tr>\n",
       "      <th>mean</th>\n",
       "      <td>NaN</td>\n",
       "      <td>1.504693e+04</td>\n",
       "      <td>1.504166e+04</td>\n",
       "      <td>1.502344e+04</td>\n",
       "      <td>1.309283e+01</td>\n",
       "      <td>4.458068e+02</td>\n",
       "      <td>7.799243e+04</td>\n",
       "      <td>1.882420e+01</td>\n",
       "      <td>3.068792e-01</td>\n",
       "      <td>6.985882e+02</td>\n",
       "      <td>...</td>\n",
       "      <td>3.0</td>\n",
       "      <td>155.045981</td>\n",
       "      <td>3.0</td>\n",
       "      <td>13.743886</td>\n",
       "      <td>454.798089</td>\n",
       "      <td>11636.883942</td>\n",
       "      <td>193.994321</td>\n",
       "      <td>5010.664267</td>\n",
       "      <td>47.780365</td>\n",
       "      <td>13.191322</td>\n",
       "    </tr>\n",
       "    <tr>\n",
       "      <th>std</th>\n",
       "      <td>NaN</td>\n",
       "      <td>9.190245e+03</td>\n",
       "      <td>9.188413e+03</td>\n",
       "      <td>9.192332e+03</td>\n",
       "      <td>4.832138e+00</td>\n",
       "      <td>2.671735e+02</td>\n",
       "      <td>1.126962e+05</td>\n",
       "      <td>1.418333e+01</td>\n",
       "      <td>8.672303e-01</td>\n",
       "      <td>3.301038e+01</td>\n",
       "      <td>...</td>\n",
       "      <td>0.0</td>\n",
       "      <td>129.040594</td>\n",
       "      <td>0.0</td>\n",
       "      <td>9.671178</td>\n",
       "      <td>375.385500</td>\n",
       "      <td>7625.988281</td>\n",
       "      <td>198.629496</td>\n",
       "      <td>3693.122590</td>\n",
       "      <td>7.311822</td>\n",
       "      <td>8.159980</td>\n",
       "    </tr>\n",
       "    <tr>\n",
       "      <th>min</th>\n",
       "      <td>NaN</td>\n",
       "      <td>5.000000e+02</td>\n",
       "      <td>5.000000e+02</td>\n",
       "      <td>0.000000e+00</td>\n",
       "      <td>5.310000e+00</td>\n",
       "      <td>4.930000e+00</td>\n",
       "      <td>0.000000e+00</td>\n",
       "      <td>-1.000000e+00</td>\n",
       "      <td>0.000000e+00</td>\n",
       "      <td>6.100000e+02</td>\n",
       "      <td>...</td>\n",
       "      <td>3.0</td>\n",
       "      <td>0.640000</td>\n",
       "      <td>3.0</td>\n",
       "      <td>0.000000</td>\n",
       "      <td>1.920000</td>\n",
       "      <td>55.730000</td>\n",
       "      <td>0.010000</td>\n",
       "      <td>44.210000</td>\n",
       "      <td>0.200000</td>\n",
       "      <td>0.000000</td>\n",
       "    </tr>\n",
       "    <tr>\n",
       "      <th>25%</th>\n",
       "      <td>NaN</td>\n",
       "      <td>8.000000e+03</td>\n",
       "      <td>8.000000e+03</td>\n",
       "      <td>8.000000e+03</td>\n",
       "      <td>9.490000e+00</td>\n",
       "      <td>2.516500e+02</td>\n",
       "      <td>4.600000e+04</td>\n",
       "      <td>1.189000e+01</td>\n",
       "      <td>0.000000e+00</td>\n",
       "      <td>6.750000e+02</td>\n",
       "      <td>...</td>\n",
       "      <td>3.0</td>\n",
       "      <td>59.440000</td>\n",
       "      <td>3.0</td>\n",
       "      <td>5.000000</td>\n",
       "      <td>175.230000</td>\n",
       "      <td>5627.000000</td>\n",
       "      <td>44.440000</td>\n",
       "      <td>2208.000000</td>\n",
       "      <td>45.000000</td>\n",
       "      <td>6.000000</td>\n",
       "    </tr>\n",
       "    <tr>\n",
       "      <th>50%</th>\n",
       "      <td>NaN</td>\n",
       "      <td>1.290000e+04</td>\n",
       "      <td>1.287500e+04</td>\n",
       "      <td>1.280000e+04</td>\n",
       "      <td>1.262000e+01</td>\n",
       "      <td>3.779900e+02</td>\n",
       "      <td>6.500000e+04</td>\n",
       "      <td>1.784000e+01</td>\n",
       "      <td>0.000000e+00</td>\n",
       "      <td>6.900000e+02</td>\n",
       "      <td>...</td>\n",
       "      <td>3.0</td>\n",
       "      <td>119.140000</td>\n",
       "      <td>3.0</td>\n",
       "      <td>15.000000</td>\n",
       "      <td>352.770000</td>\n",
       "      <td>10028.390000</td>\n",
       "      <td>133.160000</td>\n",
       "      <td>4146.110000</td>\n",
       "      <td>45.000000</td>\n",
       "      <td>14.000000</td>\n",
       "    </tr>\n",
       "    <tr>\n",
       "      <th>75%</th>\n",
       "      <td>NaN</td>\n",
       "      <td>2.000000e+04</td>\n",
       "      <td>2.000000e+04</td>\n",
       "      <td>2.000000e+04</td>\n",
       "      <td>1.599000e+01</td>\n",
       "      <td>5.933200e+02</td>\n",
       "      <td>9.300000e+04</td>\n",
       "      <td>2.449000e+01</td>\n",
       "      <td>0.000000e+00</td>\n",
       "      <td>7.150000e+02</td>\n",
       "      <td>...</td>\n",
       "      <td>3.0</td>\n",
       "      <td>213.260000</td>\n",
       "      <td>3.0</td>\n",
       "      <td>22.000000</td>\n",
       "      <td>620.175000</td>\n",
       "      <td>16151.890000</td>\n",
       "      <td>284.190000</td>\n",
       "      <td>6850.172500</td>\n",
       "      <td>50.000000</td>\n",
       "      <td>18.000000</td>\n",
       "    </tr>\n",
       "    <tr>\n",
       "      <th>max</th>\n",
       "      <td>NaN</td>\n",
       "      <td>4.000000e+04</td>\n",
       "      <td>4.000000e+04</td>\n",
       "      <td>4.000000e+04</td>\n",
       "      <td>3.099000e+01</td>\n",
       "      <td>1.719830e+03</td>\n",
       "      <td>1.100000e+08</td>\n",
       "      <td>9.990000e+02</td>\n",
       "      <td>5.800000e+01</td>\n",
       "      <td>8.450000e+02</td>\n",
       "      <td>...</td>\n",
       "      <td>3.0</td>\n",
       "      <td>943.940000</td>\n",
       "      <td>3.0</td>\n",
       "      <td>37.000000</td>\n",
       "      <td>2680.890000</td>\n",
       "      <td>40306.410000</td>\n",
       "      <td>1407.860000</td>\n",
       "      <td>33601.000000</td>\n",
       "      <td>521.350000</td>\n",
       "      <td>181.000000</td>\n",
       "    </tr>\n",
       "  </tbody>\n",
       "</table>\n",
       "<p>8 rows × 113 columns</p>\n",
       "</div>"
      ],
      "text/plain": [
       "       member_id     loan_amnt   funded_amnt  funded_amnt_inv      int_rate  \\\n",
       "count        0.0  2.260668e+06  2.260668e+06     2.260668e+06  2.260668e+06   \n",
       "mean         NaN  1.504693e+04  1.504166e+04     1.502344e+04  1.309283e+01   \n",
       "std          NaN  9.190245e+03  9.188413e+03     9.192332e+03  4.832138e+00   \n",
       "min          NaN  5.000000e+02  5.000000e+02     0.000000e+00  5.310000e+00   \n",
       "25%          NaN  8.000000e+03  8.000000e+03     8.000000e+03  9.490000e+00   \n",
       "50%          NaN  1.290000e+04  1.287500e+04     1.280000e+04  1.262000e+01   \n",
       "75%          NaN  2.000000e+04  2.000000e+04     2.000000e+04  1.599000e+01   \n",
       "max          NaN  4.000000e+04  4.000000e+04     4.000000e+04  3.099000e+01   \n",
       "\n",
       "        installment    annual_inc           dti   delinq_2yrs  fico_range_low  \\\n",
       "count  2.260668e+06  2.260664e+06  2.258957e+06  2.260639e+06    2.260668e+06   \n",
       "mean   4.458068e+02  7.799243e+04  1.882420e+01  3.068792e-01    6.985882e+02   \n",
       "std    2.671735e+02  1.126962e+05  1.418333e+01  8.672303e-01    3.301038e+01   \n",
       "min    4.930000e+00  0.000000e+00 -1.000000e+00  0.000000e+00    6.100000e+02   \n",
       "25%    2.516500e+02  4.600000e+04  1.189000e+01  0.000000e+00    6.750000e+02   \n",
       "50%    3.779900e+02  6.500000e+04  1.784000e+01  0.000000e+00    6.900000e+02   \n",
       "75%    5.933200e+02  9.300000e+04  2.449000e+01  0.000000e+00    7.150000e+02   \n",
       "max    1.719830e+03  1.100000e+08  9.990000e+02  5.800000e+01    8.450000e+02   \n",
       "\n",
       "       ...  deferral_term  hardship_amount  hardship_length  hardship_dpd  \\\n",
       "count  ...        10917.0     10917.000000          10917.0  10917.000000   \n",
       "mean   ...            3.0       155.045981              3.0     13.743886   \n",
       "std    ...            0.0       129.040594              0.0      9.671178   \n",
       "min    ...            3.0         0.640000              3.0      0.000000   \n",
       "25%    ...            3.0        59.440000              3.0      5.000000   \n",
       "50%    ...            3.0       119.140000              3.0     15.000000   \n",
       "75%    ...            3.0       213.260000              3.0     22.000000   \n",
       "max    ...            3.0       943.940000              3.0     37.000000   \n",
       "\n",
       "       orig_projected_additional_accrued_interest  \\\n",
       "count                                 8651.000000   \n",
       "mean                                   454.798089   \n",
       "std                                    375.385500   \n",
       "min                                      1.920000   \n",
       "25%                                    175.230000   \n",
       "50%                                    352.770000   \n",
       "75%                                    620.175000   \n",
       "max                                   2680.890000   \n",
       "\n",
       "       hardship_payoff_balance_amount  hardship_last_payment_amount  \\\n",
       "count                    10917.000000                  10917.000000   \n",
       "mean                     11636.883942                    193.994321   \n",
       "std                       7625.988281                    198.629496   \n",
       "min                         55.730000                      0.010000   \n",
       "25%                       5627.000000                     44.440000   \n",
       "50%                      10028.390000                    133.160000   \n",
       "75%                      16151.890000                    284.190000   \n",
       "max                      40306.410000                   1407.860000   \n",
       "\n",
       "       settlement_amount  settlement_percentage  settlement_term  \n",
       "count       34246.000000           34246.000000     34246.000000  \n",
       "mean         5010.664267              47.780365        13.191322  \n",
       "std          3693.122590               7.311822         8.159980  \n",
       "min            44.210000               0.200000         0.000000  \n",
       "25%          2208.000000              45.000000         6.000000  \n",
       "50%          4146.110000              45.000000        14.000000  \n",
       "75%          6850.172500              50.000000        18.000000  \n",
       "max         33601.000000             521.350000       181.000000  \n",
       "\n",
       "[8 rows x 113 columns]"
      ]
     },
     "execution_count": 7,
     "metadata": {},
     "output_type": "execute_result"
    }
   ],
   "source": [
    "#Summary statistics\n",
    "# Which will also help us to find the outliers\n",
    "df.describe()"
   ]
  },
  {
   "cell_type": "markdown",
   "metadata": {
    "id": "tXca1o26xB5L"
   },
   "source": [
    "# Creating target variable/ Data Cleaning"
   ]
  },
  {
   "cell_type": "code",
   "execution_count": 8,
   "metadata": {
    "colab": {
     "base_uri": "https://localhost:8080/"
    },
    "id": "ITzlLt5fmRj8",
    "outputId": "20641ca3-330f-444a-8034-3e8307a7a56c"
   },
   "outputs": [
    {
     "data": {
      "text/plain": [
       "Fully Paid                                             1076751\n",
       "Current                                                 878317\n",
       "Charged Off                                             268559\n",
       "Late (31-120 days)                                       21467\n",
       "In Grace Period                                           8436\n",
       "Late (16-30 days)                                         4349\n",
       "Does not meet the credit policy. Status:Fully Paid        1988\n",
       "Does not meet the credit policy. Status:Charged Off        761\n",
       "Default                                                     40\n",
       "Name: loan_status, dtype: int64"
      ]
     },
     "execution_count": 8,
     "metadata": {},
     "output_type": "execute_result"
    }
   ],
   "source": [
    "df['loan_status'].value_counts()"
   ]
  },
  {
   "cell_type": "code",
   "execution_count": 9,
   "metadata": {
    "id": "tmYyMaKjj9c_"
   },
   "outputs": [],
   "source": [
    "# Taking only important loans status:\n",
    "#.isin() is a trick for checking if something is in a list\n",
    "df = df.loc[df['loan_status'].isin(['Fully Paid','Charged Off','Late (31-120 days)','In Grace Period',                                          \n",
    "                                    'Late (16-30 days)','Does not meet the credit policy. Status:Fully Paid','Does not meet the credit policy. Status:Charged Off', 'Default',])]"
   ]
  },
  {
   "cell_type": "code",
   "execution_count": 10,
   "metadata": {
    "id": "QUXqHT0EJu8K"
   },
   "outputs": [],
   "source": [
    "# reseting the index\n",
    "df.reset_index(drop=True,inplace=True)"
   ]
  },
  {
   "cell_type": "code",
   "execution_count": 11,
   "metadata": {
    "colab": {
     "base_uri": "https://localhost:8080/"
    },
    "id": "9Zf-hRSXe65v",
    "outputId": "923c0ea6-ae79-4cd7-f810-ac3b56f2b256"
   },
   "outputs": [
    {
     "data": {
      "text/plain": [
       "Fully Paid    1076751\n",
       "Default        305600\n",
       "Name: loan_status, dtype: int64"
      ]
     },
     "execution_count": 11,
     "metadata": {},
     "output_type": "execute_result"
    }
   ],
   "source": [
    "# Combining all values except current to default column.\n",
    "df['loan_status'] = df['loan_status'].replace({'Charged Off':'Default','Late (31-120 days)':'Default','In Grace Period':'Default',                                         \n",
    "                                    'Late (16-30 days)':'Default','Does not meet the credit policy. Status:Fully Paid':'Default','Does not meet the credit policy. Status:Charged Off':'Default'})\n",
    "df['loan_status'].value_counts()"
   ]
  },
  {
   "cell_type": "code",
   "execution_count": 12,
   "metadata": {
    "colab": {
     "base_uri": "https://localhost:8080/"
    },
    "id": "uCWHzie-gUCY",
    "outputId": "56fe74ce-3bce-4a8a-9e4c-0ff7f741fa09"
   },
   "outputs": [
    {
     "data": {
      "text/plain": [
       "0    1076751\n",
       "1     305600\n",
       "Name: target, dtype: int64"
      ]
     },
     "execution_count": 12,
     "metadata": {},
     "output_type": "execute_result"
    }
   ],
   "source": [
    "# Loan status has too many unique values so instead we are creating a new var taking the default as 1 and rest 0.\n",
    "target = [1 if i=='Default' else 0 for i in df['loan_status']]\n",
    "df['target'] = target\n",
    "df['target'].value_counts()"
   ]
  },
  {
   "cell_type": "markdown",
   "metadata": {
    "id": "zW-qMiMg1Qiv"
   },
   "source": [
    "***our target feature is not balanced***"
   ]
  },
  {
   "cell_type": "markdown",
   "metadata": {
    "id": "Ob7mBReE5_I_"
   },
   "source": [
    "***Changing the date string to date object***"
   ]
  },
  {
   "cell_type": "code",
   "execution_count": 13,
   "metadata": {
    "id": "YaMNHK0K5o9D"
   },
   "outputs": [],
   "source": [
    "df['issue_d']= pd.to_datetime(df['issue_d'],errors='coerce')\n",
    "df['earliest_cr_line']= pd.to_datetime(df['earliest_cr_line'],errors='coerce')"
   ]
  },
  {
   "cell_type": "markdown",
   "metadata": {
    "id": "NygyG279gsJ6"
   },
   "source": [
    "**In order to create fico score a new variable we need to add fico score hing and low divided by 2.**"
   ]
  },
  {
   "cell_type": "code",
   "execution_count": 14,
   "metadata": {
    "id": "67ksTTUjg0hB"
   },
   "outputs": [],
   "source": [
    "# creating a new column fico_score\n",
    "df['fico_score']=round((df['fico_range_high']+df['fico_range_low'])/2,2)"
   ]
  },
  {
   "cell_type": "markdown",
   "metadata": {
    "id": "YMpveLNshNsH"
   },
   "source": [
    "***Creating new column total income for joint account holder.***"
   ]
  },
  {
   "cell_type": "code",
   "execution_count": 15,
   "metadata": {
    "id": "oJxYrDJQhMlV"
   },
   "outputs": [],
   "source": [
    "# creating new column total_annual_inc\n",
    "df['total_annual_inc']=df['annual_inc']+df['annual_inc_joint']"
   ]
  },
  {
   "cell_type": "code",
   "execution_count": 16,
   "metadata": {
    "id": "j1V6JMFcnzhF"
   },
   "outputs": [],
   "source": [
    "# creating a new column dti joint\n",
    "df['dti_jnt']=round((df['dti']+df['dti_joint'])/2,2)"
   ]
  },
  {
   "cell_type": "code",
   "execution_count": 17,
   "metadata": {
    "id": "-fv1QbtQtMYi"
   },
   "outputs": [],
   "source": [
    "# credit_ratio column\n",
    "df['credit_ratio']=round(df['open_acc']/df['total_acc'],3)\n",
    "\n",
    "# installment_ratio\n",
    "df['installment_ratio']=round(df['installment']/df['loan_amnt'],3)"
   ]
  },
  {
   "cell_type": "code",
   "execution_count": 18,
   "metadata": {
    "colab": {
     "base_uri": "https://localhost:8080/",
     "height": 336
    },
    "id": "vas9DL9RiqM1",
    "outputId": "6922ee9f-fc4a-47e8-905d-7e58c97161e2"
   },
   "outputs": [
    {
     "data": {
      "text/html": [
       "<div>\n",
       "<style scoped>\n",
       "    .dataframe tbody tr th:only-of-type {\n",
       "        vertical-align: middle;\n",
       "    }\n",
       "\n",
       "    .dataframe tbody tr th {\n",
       "        vertical-align: top;\n",
       "    }\n",
       "\n",
       "    .dataframe thead th {\n",
       "        text-align: right;\n",
       "    }\n",
       "</style>\n",
       "<table border=\"1\" class=\"dataframe\">\n",
       "  <thead>\n",
       "    <tr style=\"text-align: right;\">\n",
       "      <th></th>\n",
       "      <th>id</th>\n",
       "      <th>member_id</th>\n",
       "      <th>loan_amnt</th>\n",
       "      <th>funded_amnt</th>\n",
       "      <th>funded_amnt_inv</th>\n",
       "      <th>term</th>\n",
       "      <th>int_rate</th>\n",
       "      <th>installment</th>\n",
       "      <th>grade</th>\n",
       "      <th>sub_grade</th>\n",
       "      <th>...</th>\n",
       "      <th>settlement_date</th>\n",
       "      <th>settlement_amount</th>\n",
       "      <th>settlement_percentage</th>\n",
       "      <th>settlement_term</th>\n",
       "      <th>target</th>\n",
       "      <th>fico_score</th>\n",
       "      <th>total_annual_inc</th>\n",
       "      <th>dti_jnt</th>\n",
       "      <th>credit_ratio</th>\n",
       "      <th>installment_ratio</th>\n",
       "    </tr>\n",
       "  </thead>\n",
       "  <tbody>\n",
       "    <tr>\n",
       "      <th>0</th>\n",
       "      <td>68407277</td>\n",
       "      <td>NaN</td>\n",
       "      <td>3600.0</td>\n",
       "      <td>3600.0</td>\n",
       "      <td>3600.0</td>\n",
       "      <td>36 months</td>\n",
       "      <td>13.99</td>\n",
       "      <td>123.03</td>\n",
       "      <td>C</td>\n",
       "      <td>C4</td>\n",
       "      <td>...</td>\n",
       "      <td>NaN</td>\n",
       "      <td>NaN</td>\n",
       "      <td>NaN</td>\n",
       "      <td>NaN</td>\n",
       "      <td>0</td>\n",
       "      <td>677.0</td>\n",
       "      <td>NaN</td>\n",
       "      <td>NaN</td>\n",
       "      <td>0.538</td>\n",
       "      <td>0.034</td>\n",
       "    </tr>\n",
       "    <tr>\n",
       "      <th>1</th>\n",
       "      <td>68355089</td>\n",
       "      <td>NaN</td>\n",
       "      <td>24700.0</td>\n",
       "      <td>24700.0</td>\n",
       "      <td>24700.0</td>\n",
       "      <td>36 months</td>\n",
       "      <td>11.99</td>\n",
       "      <td>820.28</td>\n",
       "      <td>C</td>\n",
       "      <td>C1</td>\n",
       "      <td>...</td>\n",
       "      <td>NaN</td>\n",
       "      <td>NaN</td>\n",
       "      <td>NaN</td>\n",
       "      <td>NaN</td>\n",
       "      <td>0</td>\n",
       "      <td>717.0</td>\n",
       "      <td>NaN</td>\n",
       "      <td>NaN</td>\n",
       "      <td>0.579</td>\n",
       "      <td>0.033</td>\n",
       "    </tr>\n",
       "    <tr>\n",
       "      <th>2</th>\n",
       "      <td>68341763</td>\n",
       "      <td>NaN</td>\n",
       "      <td>20000.0</td>\n",
       "      <td>20000.0</td>\n",
       "      <td>20000.0</td>\n",
       "      <td>60 months</td>\n",
       "      <td>10.78</td>\n",
       "      <td>432.66</td>\n",
       "      <td>B</td>\n",
       "      <td>B4</td>\n",
       "      <td>...</td>\n",
       "      <td>NaN</td>\n",
       "      <td>NaN</td>\n",
       "      <td>NaN</td>\n",
       "      <td>NaN</td>\n",
       "      <td>0</td>\n",
       "      <td>697.0</td>\n",
       "      <td>134000.0</td>\n",
       "      <td>12.32</td>\n",
       "      <td>0.333</td>\n",
       "      <td>0.022</td>\n",
       "    </tr>\n",
       "    <tr>\n",
       "      <th>3</th>\n",
       "      <td>68476807</td>\n",
       "      <td>NaN</td>\n",
       "      <td>10400.0</td>\n",
       "      <td>10400.0</td>\n",
       "      <td>10400.0</td>\n",
       "      <td>60 months</td>\n",
       "      <td>22.45</td>\n",
       "      <td>289.91</td>\n",
       "      <td>F</td>\n",
       "      <td>F1</td>\n",
       "      <td>...</td>\n",
       "      <td>NaN</td>\n",
       "      <td>NaN</td>\n",
       "      <td>NaN</td>\n",
       "      <td>NaN</td>\n",
       "      <td>0</td>\n",
       "      <td>697.0</td>\n",
       "      <td>NaN</td>\n",
       "      <td>NaN</td>\n",
       "      <td>0.343</td>\n",
       "      <td>0.028</td>\n",
       "    </tr>\n",
       "    <tr>\n",
       "      <th>4</th>\n",
       "      <td>68426831</td>\n",
       "      <td>NaN</td>\n",
       "      <td>11950.0</td>\n",
       "      <td>11950.0</td>\n",
       "      <td>11950.0</td>\n",
       "      <td>36 months</td>\n",
       "      <td>13.44</td>\n",
       "      <td>405.18</td>\n",
       "      <td>C</td>\n",
       "      <td>C3</td>\n",
       "      <td>...</td>\n",
       "      <td>NaN</td>\n",
       "      <td>NaN</td>\n",
       "      <td>NaN</td>\n",
       "      <td>NaN</td>\n",
       "      <td>0</td>\n",
       "      <td>692.0</td>\n",
       "      <td>NaN</td>\n",
       "      <td>NaN</td>\n",
       "      <td>0.833</td>\n",
       "      <td>0.034</td>\n",
       "    </tr>\n",
       "  </tbody>\n",
       "</table>\n",
       "<p>5 rows × 157 columns</p>\n",
       "</div>"
      ],
      "text/plain": [
       "         id  member_id  loan_amnt  funded_amnt  funded_amnt_inv        term  \\\n",
       "0  68407277        NaN     3600.0       3600.0           3600.0   36 months   \n",
       "1  68355089        NaN    24700.0      24700.0          24700.0   36 months   \n",
       "2  68341763        NaN    20000.0      20000.0          20000.0   60 months   \n",
       "3  68476807        NaN    10400.0      10400.0          10400.0   60 months   \n",
       "4  68426831        NaN    11950.0      11950.0          11950.0   36 months   \n",
       "\n",
       "   int_rate  installment grade sub_grade  ... settlement_date  \\\n",
       "0     13.99       123.03     C        C4  ...             NaN   \n",
       "1     11.99       820.28     C        C1  ...             NaN   \n",
       "2     10.78       432.66     B        B4  ...             NaN   \n",
       "3     22.45       289.91     F        F1  ...             NaN   \n",
       "4     13.44       405.18     C        C3  ...             NaN   \n",
       "\n",
       "  settlement_amount settlement_percentage  settlement_term target fico_score  \\\n",
       "0               NaN                   NaN              NaN      0      677.0   \n",
       "1               NaN                   NaN              NaN      0      717.0   \n",
       "2               NaN                   NaN              NaN      0      697.0   \n",
       "3               NaN                   NaN              NaN      0      697.0   \n",
       "4               NaN                   NaN              NaN      0      692.0   \n",
       "\n",
       "  total_annual_inc dti_jnt credit_ratio installment_ratio  \n",
       "0              NaN     NaN        0.538             0.034  \n",
       "1              NaN     NaN        0.579             0.033  \n",
       "2         134000.0   12.32        0.333             0.022  \n",
       "3              NaN     NaN        0.343             0.028  \n",
       "4              NaN     NaN        0.833             0.034  \n",
       "\n",
       "[5 rows x 157 columns]"
      ]
     },
     "execution_count": 18,
     "metadata": {},
     "output_type": "execute_result"
    }
   ],
   "source": [
    "df.head()"
   ]
  },
  {
   "cell_type": "markdown",
   "metadata": {
    "id": "a06T9rp2iEEt"
   },
   "source": [
    "# **Taking only those variables which is important for the modelling.**"
   ]
  },
  {
   "cell_type": "code",
   "execution_count": 19,
   "metadata": {
    "id": "k9_fz0nYtZoo"
   },
   "outputs": [],
   "source": [
    "Features_ind=['annual_inc','dti','fico_score','home_ownership','installment','loan_amnt','earliest_cr_line','issue_d',\n",
    "              'mort_acc','term','verification_status','zip_code','open_acc','total_acc','revol_util','credit_ratio',\n",
    "              'installment_ratio','target']\n",
    "\n",
    "Features_jnt=['total_annual_inc','fico_score','home_ownership','installment','loan_amnt','earliest_cr_line','issue_d',  \n",
    "              'dti_jnt','mort_acc','term','verification_status_joint','zip_code','open_acc','total_acc','revol_util',\n",
    "              'credit_ratio','installment_ratio','target']"
   ]
  },
  {
   "cell_type": "code",
   "execution_count": 20,
   "metadata": {
    "colab": {
     "base_uri": "https://localhost:8080/"
    },
    "id": "WGEH7qusuxCE",
    "outputId": "7c600d9e-7ffa-40df-b08d-a18dd5a50665"
   },
   "outputs": [
    {
     "data": {
      "text/plain": [
       "Individual    1352767\n",
       "Joint App       29584\n",
       "Name: application_type, dtype: int64"
      ]
     },
     "execution_count": 20,
     "metadata": {},
     "output_type": "execute_result"
    }
   ],
   "source": [
    "df.application_type.value_counts()"
   ]
  },
  {
   "cell_type": "markdown",
   "metadata": {
    "id": "WHGDymldu3R9"
   },
   "source": [
    "***Separating the main dataframe to indivodual acc and Joint acc.***"
   ]
  },
  {
   "cell_type": "code",
   "execution_count": 21,
   "metadata": {
    "colab": {
     "base_uri": "https://localhost:8080/"
    },
    "id": "1r4iF3ESuuHr",
    "outputId": "6ee0d58e-5233-479a-bef3-e5f403caaebc"
   },
   "outputs": [
    {
     "name": "stdout",
     "output_type": "stream",
     "text": [
      "Shape of individual dataframe (1352767, 18)\n",
      "\n"
     ]
    }
   ],
   "source": [
    "# Creating new dffor individual account type based on important features.\n",
    "\n",
    "ind_df=df[df['application_type']=='Individual']\n",
    "ind_df=ind_df[Features_ind]\n",
    "\n",
    "print('Shape of individual dataframe',ind_df.shape,end='\\n\\n')\n",
    "\n",
    "# reseting the index of individual dataframe\n",
    "\n",
    "ind_df.reset_index(drop=True,inplace=True)"
   ]
  },
  {
   "cell_type": "code",
   "execution_count": 22,
   "metadata": {
    "colab": {
     "base_uri": "https://localhost:8080/",
     "height": 307
    },
    "id": "6OaGHdyzvnR1",
    "outputId": "e78edec9-32d9-49fc-c4e3-2326fa002b4d"
   },
   "outputs": [
    {
     "data": {
      "text/html": [
       "<div>\n",
       "<style scoped>\n",
       "    .dataframe tbody tr th:only-of-type {\n",
       "        vertical-align: middle;\n",
       "    }\n",
       "\n",
       "    .dataframe tbody tr th {\n",
       "        vertical-align: top;\n",
       "    }\n",
       "\n",
       "    .dataframe thead th {\n",
       "        text-align: right;\n",
       "    }\n",
       "</style>\n",
       "<table border=\"1\" class=\"dataframe\">\n",
       "  <thead>\n",
       "    <tr style=\"text-align: right;\">\n",
       "      <th></th>\n",
       "      <th>annual_inc</th>\n",
       "      <th>dti</th>\n",
       "      <th>fico_score</th>\n",
       "      <th>home_ownership</th>\n",
       "      <th>installment</th>\n",
       "      <th>loan_amnt</th>\n",
       "      <th>earliest_cr_line</th>\n",
       "      <th>issue_d</th>\n",
       "      <th>mort_acc</th>\n",
       "      <th>term</th>\n",
       "      <th>verification_status</th>\n",
       "      <th>zip_code</th>\n",
       "      <th>open_acc</th>\n",
       "      <th>total_acc</th>\n",
       "      <th>revol_util</th>\n",
       "      <th>credit_ratio</th>\n",
       "      <th>installment_ratio</th>\n",
       "      <th>target</th>\n",
       "    </tr>\n",
       "  </thead>\n",
       "  <tbody>\n",
       "    <tr>\n",
       "      <th>0</th>\n",
       "      <td>55000.0</td>\n",
       "      <td>5.91</td>\n",
       "      <td>677.0</td>\n",
       "      <td>MORTGAGE</td>\n",
       "      <td>123.03</td>\n",
       "      <td>3600.0</td>\n",
       "      <td>2003-08-01</td>\n",
       "      <td>2015-12-01</td>\n",
       "      <td>1.0</td>\n",
       "      <td>36 months</td>\n",
       "      <td>Not Verified</td>\n",
       "      <td>190xx</td>\n",
       "      <td>7.0</td>\n",
       "      <td>13.0</td>\n",
       "      <td>29.7</td>\n",
       "      <td>0.538</td>\n",
       "      <td>0.034</td>\n",
       "      <td>0</td>\n",
       "    </tr>\n",
       "    <tr>\n",
       "      <th>1</th>\n",
       "      <td>65000.0</td>\n",
       "      <td>16.06</td>\n",
       "      <td>717.0</td>\n",
       "      <td>MORTGAGE</td>\n",
       "      <td>820.28</td>\n",
       "      <td>24700.0</td>\n",
       "      <td>1999-12-01</td>\n",
       "      <td>2015-12-01</td>\n",
       "      <td>4.0</td>\n",
       "      <td>36 months</td>\n",
       "      <td>Not Verified</td>\n",
       "      <td>577xx</td>\n",
       "      <td>22.0</td>\n",
       "      <td>38.0</td>\n",
       "      <td>19.2</td>\n",
       "      <td>0.579</td>\n",
       "      <td>0.033</td>\n",
       "      <td>0</td>\n",
       "    </tr>\n",
       "    <tr>\n",
       "      <th>2</th>\n",
       "      <td>104433.0</td>\n",
       "      <td>25.37</td>\n",
       "      <td>697.0</td>\n",
       "      <td>MORTGAGE</td>\n",
       "      <td>289.91</td>\n",
       "      <td>10400.0</td>\n",
       "      <td>1998-06-01</td>\n",
       "      <td>2015-12-01</td>\n",
       "      <td>6.0</td>\n",
       "      <td>60 months</td>\n",
       "      <td>Source Verified</td>\n",
       "      <td>174xx</td>\n",
       "      <td>12.0</td>\n",
       "      <td>35.0</td>\n",
       "      <td>64.5</td>\n",
       "      <td>0.343</td>\n",
       "      <td>0.028</td>\n",
       "      <td>0</td>\n",
       "    </tr>\n",
       "    <tr>\n",
       "      <th>3</th>\n",
       "      <td>34000.0</td>\n",
       "      <td>10.20</td>\n",
       "      <td>692.0</td>\n",
       "      <td>RENT</td>\n",
       "      <td>405.18</td>\n",
       "      <td>11950.0</td>\n",
       "      <td>1987-10-01</td>\n",
       "      <td>2015-12-01</td>\n",
       "      <td>0.0</td>\n",
       "      <td>36 months</td>\n",
       "      <td>Source Verified</td>\n",
       "      <td>300xx</td>\n",
       "      <td>5.0</td>\n",
       "      <td>6.0</td>\n",
       "      <td>68.4</td>\n",
       "      <td>0.833</td>\n",
       "      <td>0.034</td>\n",
       "      <td>0</td>\n",
       "    </tr>\n",
       "    <tr>\n",
       "      <th>4</th>\n",
       "      <td>180000.0</td>\n",
       "      <td>14.67</td>\n",
       "      <td>682.0</td>\n",
       "      <td>MORTGAGE</td>\n",
       "      <td>637.58</td>\n",
       "      <td>20000.0</td>\n",
       "      <td>1990-06-01</td>\n",
       "      <td>2015-12-01</td>\n",
       "      <td>4.0</td>\n",
       "      <td>36 months</td>\n",
       "      <td>Not Verified</td>\n",
       "      <td>550xx</td>\n",
       "      <td>12.0</td>\n",
       "      <td>27.0</td>\n",
       "      <td>84.5</td>\n",
       "      <td>0.444</td>\n",
       "      <td>0.032</td>\n",
       "      <td>0</td>\n",
       "    </tr>\n",
       "  </tbody>\n",
       "</table>\n",
       "</div>"
      ],
      "text/plain": [
       "   annual_inc    dti  fico_score home_ownership  installment  loan_amnt  \\\n",
       "0     55000.0   5.91       677.0       MORTGAGE       123.03     3600.0   \n",
       "1     65000.0  16.06       717.0       MORTGAGE       820.28    24700.0   \n",
       "2    104433.0  25.37       697.0       MORTGAGE       289.91    10400.0   \n",
       "3     34000.0  10.20       692.0           RENT       405.18    11950.0   \n",
       "4    180000.0  14.67       682.0       MORTGAGE       637.58    20000.0   \n",
       "\n",
       "  earliest_cr_line    issue_d  mort_acc        term verification_status  \\\n",
       "0       2003-08-01 2015-12-01       1.0   36 months        Not Verified   \n",
       "1       1999-12-01 2015-12-01       4.0   36 months        Not Verified   \n",
       "2       1998-06-01 2015-12-01       6.0   60 months     Source Verified   \n",
       "3       1987-10-01 2015-12-01       0.0   36 months     Source Verified   \n",
       "4       1990-06-01 2015-12-01       4.0   36 months        Not Verified   \n",
       "\n",
       "  zip_code  open_acc  total_acc  revol_util  credit_ratio  installment_ratio  \\\n",
       "0    190xx       7.0       13.0        29.7         0.538              0.034   \n",
       "1    577xx      22.0       38.0        19.2         0.579              0.033   \n",
       "2    174xx      12.0       35.0        64.5         0.343              0.028   \n",
       "3    300xx       5.0        6.0        68.4         0.833              0.034   \n",
       "4    550xx      12.0       27.0        84.5         0.444              0.032   \n",
       "\n",
       "   target  \n",
       "0       0  \n",
       "1       0  \n",
       "2       0  \n",
       "3       0  \n",
       "4       0  "
      ]
     },
     "execution_count": 22,
     "metadata": {},
     "output_type": "execute_result"
    }
   ],
   "source": [
    "ind_df.head(5)"
   ]
  },
  {
   "cell_type": "code",
   "execution_count": 23,
   "metadata": {
    "colab": {
     "base_uri": "https://localhost:8080/"
    },
    "id": "RvBilW23vuT3",
    "outputId": "1e308a4c-e5c1-42cf-db72-46b7a69d70af"
   },
   "outputs": [
    {
     "name": "stdout",
     "output_type": "stream",
     "text": [
      "Shape of Joint dataframe (29584, 18)\n",
      "\n"
     ]
    }
   ],
   "source": [
    "# creating new df for joint account type based on important features.\n",
    "jnt_df=df[df['application_type']=='Joint App']\n",
    "jnt_df=jnt_df[Features_jnt]\n",
    "\n",
    "print('Shape of Joint dataframe',jnt_df.shape,end='\\n\\n')\n",
    "\n",
    "# reseting the index of joint dataframe\n",
    "\n",
    "jnt_df.reset_index(drop=True,inplace=True)"
   ]
  },
  {
   "cell_type": "code",
   "execution_count": 24,
   "metadata": {
    "colab": {
     "base_uri": "https://localhost:8080/",
     "height": 307
    },
    "id": "9oYf_Bljwmtm",
    "outputId": "f63f5b8f-8c33-4b82-e022-8d5deaad22a3"
   },
   "outputs": [
    {
     "data": {
      "text/html": [
       "<div>\n",
       "<style scoped>\n",
       "    .dataframe tbody tr th:only-of-type {\n",
       "        vertical-align: middle;\n",
       "    }\n",
       "\n",
       "    .dataframe tbody tr th {\n",
       "        vertical-align: top;\n",
       "    }\n",
       "\n",
       "    .dataframe thead th {\n",
       "        text-align: right;\n",
       "    }\n",
       "</style>\n",
       "<table border=\"1\" class=\"dataframe\">\n",
       "  <thead>\n",
       "    <tr style=\"text-align: right;\">\n",
       "      <th></th>\n",
       "      <th>total_annual_inc</th>\n",
       "      <th>fico_score</th>\n",
       "      <th>home_ownership</th>\n",
       "      <th>installment</th>\n",
       "      <th>loan_amnt</th>\n",
       "      <th>earliest_cr_line</th>\n",
       "      <th>issue_d</th>\n",
       "      <th>dti_jnt</th>\n",
       "      <th>mort_acc</th>\n",
       "      <th>term</th>\n",
       "      <th>verification_status_joint</th>\n",
       "      <th>zip_code</th>\n",
       "      <th>open_acc</th>\n",
       "      <th>total_acc</th>\n",
       "      <th>revol_util</th>\n",
       "      <th>credit_ratio</th>\n",
       "      <th>installment_ratio</th>\n",
       "      <th>target</th>\n",
       "    </tr>\n",
       "  </thead>\n",
       "  <tbody>\n",
       "    <tr>\n",
       "      <th>0</th>\n",
       "      <td>134000.00</td>\n",
       "      <td>697.0</td>\n",
       "      <td>MORTGAGE</td>\n",
       "      <td>432.66</td>\n",
       "      <td>20000.0</td>\n",
       "      <td>2000-08-01</td>\n",
       "      <td>2015-12-01</td>\n",
       "      <td>12.32</td>\n",
       "      <td>5.0</td>\n",
       "      <td>60 months</td>\n",
       "      <td>Not Verified</td>\n",
       "      <td>605xx</td>\n",
       "      <td>6.0</td>\n",
       "      <td>18.0</td>\n",
       "      <td>56.2</td>\n",
       "      <td>0.333</td>\n",
       "      <td>0.022</td>\n",
       "      <td>0</td>\n",
       "    </tr>\n",
       "    <tr>\n",
       "      <th>1</th>\n",
       "      <td>142000.00</td>\n",
       "      <td>667.0</td>\n",
       "      <td>MORTGAGE</td>\n",
       "      <td>498.15</td>\n",
       "      <td>15000.0</td>\n",
       "      <td>2004-08-01</td>\n",
       "      <td>2015-12-01</td>\n",
       "      <td>16.48</td>\n",
       "      <td>1.0</td>\n",
       "      <td>36 months</td>\n",
       "      <td>Not Verified</td>\n",
       "      <td>919xx</td>\n",
       "      <td>9.0</td>\n",
       "      <td>16.0</td>\n",
       "      <td>88.3</td>\n",
       "      <td>0.562</td>\n",
       "      <td>0.033</td>\n",
       "      <td>0</td>\n",
       "    </tr>\n",
       "    <tr>\n",
       "      <th>2</th>\n",
       "      <td>156749.00</td>\n",
       "      <td>682.0</td>\n",
       "      <td>MORTGAGE</td>\n",
       "      <td>678.37</td>\n",
       "      <td>24000.0</td>\n",
       "      <td>1998-07-01</td>\n",
       "      <td>2015-12-01</td>\n",
       "      <td>30.57</td>\n",
       "      <td>1.0</td>\n",
       "      <td>60 months</td>\n",
       "      <td>Not Verified</td>\n",
       "      <td>773xx</td>\n",
       "      <td>13.0</td>\n",
       "      <td>22.0</td>\n",
       "      <td>73.1</td>\n",
       "      <td>0.591</td>\n",
       "      <td>0.028</td>\n",
       "      <td>0</td>\n",
       "    </tr>\n",
       "    <tr>\n",
       "      <th>3</th>\n",
       "      <td>213000.00</td>\n",
       "      <td>677.0</td>\n",
       "      <td>MORTGAGE</td>\n",
       "      <td>551.50</td>\n",
       "      <td>24000.0</td>\n",
       "      <td>2001-06-01</td>\n",
       "      <td>2015-12-01</td>\n",
       "      <td>22.73</td>\n",
       "      <td>2.0</td>\n",
       "      <td>60 months</td>\n",
       "      <td>Not Verified</td>\n",
       "      <td>646xx</td>\n",
       "      <td>13.0</td>\n",
       "      <td>24.0</td>\n",
       "      <td>53.3</td>\n",
       "      <td>0.542</td>\n",
       "      <td>0.023</td>\n",
       "      <td>0</td>\n",
       "    </tr>\n",
       "    <tr>\n",
       "      <th>4</th>\n",
       "      <td>123872.64</td>\n",
       "      <td>682.0</td>\n",
       "      <td>RENT</td>\n",
       "      <td>320.70</td>\n",
       "      <td>8750.0</td>\n",
       "      <td>1998-08-01</td>\n",
       "      <td>2015-12-01</td>\n",
       "      <td>31.89</td>\n",
       "      <td>0.0</td>\n",
       "      <td>36 months</td>\n",
       "      <td>Not Verified</td>\n",
       "      <td>606xx</td>\n",
       "      <td>9.0</td>\n",
       "      <td>12.0</td>\n",
       "      <td>96.5</td>\n",
       "      <td>0.750</td>\n",
       "      <td>0.037</td>\n",
       "      <td>1</td>\n",
       "    </tr>\n",
       "  </tbody>\n",
       "</table>\n",
       "</div>"
      ],
      "text/plain": [
       "   total_annual_inc  fico_score home_ownership  installment  loan_amnt  \\\n",
       "0         134000.00       697.0       MORTGAGE       432.66    20000.0   \n",
       "1         142000.00       667.0       MORTGAGE       498.15    15000.0   \n",
       "2         156749.00       682.0       MORTGAGE       678.37    24000.0   \n",
       "3         213000.00       677.0       MORTGAGE       551.50    24000.0   \n",
       "4         123872.64       682.0           RENT       320.70     8750.0   \n",
       "\n",
       "  earliest_cr_line    issue_d  dti_jnt  mort_acc        term  \\\n",
       "0       2000-08-01 2015-12-01    12.32       5.0   60 months   \n",
       "1       2004-08-01 2015-12-01    16.48       1.0   36 months   \n",
       "2       1998-07-01 2015-12-01    30.57       1.0   60 months   \n",
       "3       2001-06-01 2015-12-01    22.73       2.0   60 months   \n",
       "4       1998-08-01 2015-12-01    31.89       0.0   36 months   \n",
       "\n",
       "  verification_status_joint zip_code  open_acc  total_acc  revol_util  \\\n",
       "0              Not Verified    605xx       6.0       18.0        56.2   \n",
       "1              Not Verified    919xx       9.0       16.0        88.3   \n",
       "2              Not Verified    773xx      13.0       22.0        73.1   \n",
       "3              Not Verified    646xx      13.0       24.0        53.3   \n",
       "4              Not Verified    606xx       9.0       12.0        96.5   \n",
       "\n",
       "   credit_ratio  installment_ratio  target  \n",
       "0         0.333              0.022       0  \n",
       "1         0.562              0.033       0  \n",
       "2         0.591              0.028       0  \n",
       "3         0.542              0.023       0  \n",
       "4         0.750              0.037       1  "
      ]
     },
     "execution_count": 24,
     "metadata": {},
     "output_type": "execute_result"
    }
   ],
   "source": [
    "jnt_df.head(5)"
   ]
  },
  {
   "cell_type": "markdown",
   "metadata": {
    "id": "oBLFJ10Gwz0E"
   },
   "source": [
    "# Handling the null and missing values of the dataframes."
   ]
  },
  {
   "cell_type": "code",
   "execution_count": 25,
   "metadata": {
    "id": "mSgZ6e2Ey4j-"
   },
   "outputs": [],
   "source": [
    "# Replacing the missing values in the data which is present as an underline.\n",
    "ind_df=ind_df.replace('_', np.nan)\n",
    "jnt_df=jnt_df.replace('_', np.nan)"
   ]
  },
  {
   "cell_type": "code",
   "execution_count": 26,
   "metadata": {
    "id": "KIUYobotxcx0"
   },
   "outputs": [],
   "source": [
    "#Lets handle the missing values for the individual acc type."
   ]
  },
  {
   "cell_type": "code",
   "execution_count": 27,
   "metadata": {
    "colab": {
     "base_uri": "https://localhost:8080/"
    },
    "id": "x8K1kIXVEYUg",
    "outputId": "f1066004-4418-4923-b07d-984b5d4941f6"
   },
   "outputs": [
    {
     "data": {
      "text/plain": [
       "annual_inc                 4\n",
       "dti                        0\n",
       "fico_score                 0\n",
       "home_ownership             0\n",
       "installment                0\n",
       "loan_amnt                  0\n",
       "earliest_cr_line          29\n",
       "issue_d                    0\n",
       "mort_acc               50030\n",
       "term                       0\n",
       "verification_status        0\n",
       "zip_code                   1\n",
       "open_acc                  29\n",
       "total_acc                 29\n",
       "revol_util               880\n",
       "credit_ratio              29\n",
       "installment_ratio          0\n",
       "target                     0\n",
       "dtype: int64"
      ]
     },
     "execution_count": 27,
     "metadata": {},
     "output_type": "execute_result"
    }
   ],
   "source": [
    "ind_df.isnull().sum()"
   ]
  },
  {
   "cell_type": "code",
   "execution_count": 28,
   "metadata": {
    "colab": {
     "base_uri": "https://localhost:8080/"
    },
    "id": "lCAYmj3vKyj8",
    "outputId": "9e4c17ad-a75e-4d60-a34d-7c1f7bc5bb8e"
   },
   "outputs": [
    {
     "name": "stdout",
     "output_type": "stream",
     "text": [
      "Index(['annual_inc', 'dti', 'fico_score', 'installment', 'loan_amnt',\n",
      "       'earliest_cr_line', 'issue_d', 'mort_acc', 'open_acc', 'total_acc',\n",
      "       'revol_util', 'credit_ratio', 'installment_ratio', 'target'],\n",
      "      dtype='object')\n",
      "\n",
      "Index(['home_ownership', 'term', 'verification_status', 'zip_code'], dtype='object')\n"
     ]
    }
   ],
   "source": [
    "# Separating the Numerical/Date-Time variables and the Categorical variables for individual dataset.\n",
    "num_vars = ind_df.columns[ind_df.dtypes != 'object']\n",
    "cat_vars = ind_df.columns[ind_df.dtypes == 'object']\n",
    "\n",
    "print(num_vars)\n",
    "print()\n",
    "print(cat_vars)"
   ]
  },
  {
   "cell_type": "code",
   "execution_count": 29,
   "metadata": {
    "id": "qdBH82d2Tx6f"
   },
   "outputs": [],
   "source": [
    "# Replacing the missing values with mean for numerical variables for individual data.\n",
    "for value in ['revol_util', 'mort_acc','annual_inc','open_acc','total_acc','credit_ratio']:\n",
    "    ind_df[value].fillna(round(ind_df[value].mean(),0),inplace=True)"
   ]
  },
  {
   "cell_type": "code",
   "execution_count": 30,
   "metadata": {
    "id": "vmpsS8sSPWBg"
   },
   "outputs": [],
   "source": [
    "# Replacing the missing values with mode for categorical variables for individual data.\n",
    "for value in ['zip_code','earliest_cr_line']:\n",
    "   ind_df[value].fillna(ind_df[value].mode()[0],inplace=True)"
   ]
  },
  {
   "cell_type": "code",
   "execution_count": 31,
   "metadata": {
    "colab": {
     "base_uri": "https://localhost:8080/"
    },
    "id": "L7TKZmWgUJXb",
    "outputId": "c7e00614-90ef-47f7-87b3-7e92b3368b90"
   },
   "outputs": [
    {
     "data": {
      "text/plain": [
       "annual_inc             0\n",
       "dti                    0\n",
       "fico_score             0\n",
       "home_ownership         0\n",
       "installment            0\n",
       "loan_amnt              0\n",
       "earliest_cr_line       0\n",
       "issue_d                0\n",
       "mort_acc               0\n",
       "term                   0\n",
       "verification_status    0\n",
       "zip_code               0\n",
       "open_acc               0\n",
       "total_acc              0\n",
       "revol_util             0\n",
       "credit_ratio           0\n",
       "installment_ratio      0\n",
       "target                 0\n",
       "dtype: int64"
      ]
     },
     "execution_count": 31,
     "metadata": {},
     "output_type": "execute_result"
    }
   ],
   "source": [
    "ind_df.isnull().sum()"
   ]
  },
  {
   "cell_type": "markdown",
   "metadata": {
    "id": "tTfYDX5O0BNK"
   },
   "source": [
    "***Creating a new col credit history***"
   ]
  },
  {
   "cell_type": "code",
   "execution_count": 32,
   "metadata": {
    "id": "360_JyRrx8yX"
   },
   "outputs": [],
   "source": [
    "# credit_history column\n",
    "\n",
    "ind_df['credit_history']=ind_df.issue_d-ind_df.earliest_cr_line\n"
   ]
  },
  {
   "cell_type": "markdown",
   "metadata": {
    "id": "sWQMbFu_ImOn"
   },
   "source": [
    "**Handling missing values for joint acc type**"
   ]
  },
  {
   "cell_type": "code",
   "execution_count": 33,
   "metadata": {
    "colab": {
     "base_uri": "https://localhost:8080/"
    },
    "id": "cZDJp6UsEQDW",
    "outputId": "b80b622e-b628-4f5e-e5fe-6e7445bb6103"
   },
   "outputs": [
    {
     "data": {
      "text/plain": [
       "total_annual_inc               0\n",
       "fico_score                     0\n",
       "home_ownership                 0\n",
       "installment                    0\n",
       "loan_amnt                      0\n",
       "earliest_cr_line               0\n",
       "issue_d                        0\n",
       "dti_jnt                      415\n",
       "mort_acc                       0\n",
       "term                           0\n",
       "verification_status_joint    256\n",
       "zip_code                       0\n",
       "open_acc                       0\n",
       "total_acc                      0\n",
       "revol_util                    55\n",
       "credit_ratio                   0\n",
       "installment_ratio              0\n",
       "target                         0\n",
       "dtype: int64"
      ]
     },
     "execution_count": 33,
     "metadata": {},
     "output_type": "execute_result"
    }
   ],
   "source": [
    "jnt_df.isnull().sum()"
   ]
  },
  {
   "cell_type": "code",
   "execution_count": 34,
   "metadata": {
    "id": "e4qhqY18JtAt"
   },
   "outputs": [],
   "source": [
    "# Replacing the missing values with mean for numerical variables for jnt data.\n",
    "for value in ['dti_jnt', 'revol_util']:\n",
    "    jnt_df[value].fillna(round(jnt_df[value].mean(),0),inplace=True)"
   ]
  },
  {
   "cell_type": "code",
   "execution_count": 35,
   "metadata": {
    "id": "vjRnmArUJ8D3"
   },
   "outputs": [],
   "source": [
    "# Replacing the missing values with mode for categorical variables for jnt data.\n",
    "for value in ['verification_status_joint']:\n",
    "   jnt_df[value].fillna(jnt_df[value].mode()[0],inplace=True)"
   ]
  },
  {
   "cell_type": "markdown",
   "metadata": {
    "id": "kHI8sCKj9Xw8"
   },
   "source": [
    "**Creating a new col credit history which is the difference between issue_d and earliest_cr_line.**"
   ]
  },
  {
   "cell_type": "code",
   "execution_count": 36,
   "metadata": {
    "id": "VsO-TqYj-QqR"
   },
   "outputs": [],
   "source": [
    "# credit_history column\n",
    "\n",
    "jnt_df['credit_history']=jnt_df.issue_d-jnt_df.earliest_cr_line\n"
   ]
  },
  {
   "cell_type": "code",
   "execution_count": 37,
   "metadata": {
    "colab": {
     "base_uri": "https://localhost:8080/"
    },
    "id": "1B3wA-fmKPqY",
    "outputId": "56940f36-9073-460b-e8e1-da917b4b1761"
   },
   "outputs": [
    {
     "data": {
      "text/plain": [
       "total_annual_inc             0\n",
       "fico_score                   0\n",
       "home_ownership               0\n",
       "installment                  0\n",
       "loan_amnt                    0\n",
       "earliest_cr_line             0\n",
       "issue_d                      0\n",
       "dti_jnt                      0\n",
       "mort_acc                     0\n",
       "term                         0\n",
       "verification_status_joint    0\n",
       "zip_code                     0\n",
       "open_acc                     0\n",
       "total_acc                    0\n",
       "revol_util                   0\n",
       "credit_ratio                 0\n",
       "installment_ratio            0\n",
       "target                       0\n",
       "credit_history               0\n",
       "dtype: int64"
      ]
     },
     "execution_count": 37,
     "metadata": {},
     "output_type": "execute_result"
    }
   ],
   "source": [
    "jnt_df.isnull().sum()"
   ]
  },
  {
   "cell_type": "markdown",
   "metadata": {
    "id": "zsapxB1taNWP"
   },
   "source": [
    " ***All null values are handled successfully in  individual and joint dataframe***"
   ]
  },
  {
   "cell_type": "markdown",
   "metadata": {
    "id": "q7VbhXRWgufX"
   },
   "source": [
    "## Handling Skewness in dataframe"
   ]
  },
  {
   "cell_type": "code",
   "execution_count": 38,
   "metadata": {
    "colab": {
     "base_uri": "https://localhost:8080/"
    },
    "id": "cGSBK_h82PXu",
    "outputId": "19a61c14-cf36-4b5e-b62e-98d585e16da1"
   },
   "outputs": [
    {
     "data": {
      "text/plain": [
       "annual_inc           4825.617098\n",
       "mort_acc                5.512899\n",
       "open_acc                3.358042\n",
       "fico_score              1.684800\n",
       "total_acc               1.678005\n",
       "installment             0.756935\n",
       "revol_util              0.243249\n",
       "installment_ratio       0.129324\n",
       "loan_amnt              -0.077001\n",
       "credit_ratio           -0.082144\n",
       "target                 -0.142210\n",
       "dti                    -0.500895\n",
       "dtype: float64"
      ]
     },
     "execution_count": 38,
     "metadata": {},
     "output_type": "execute_result"
    }
   ],
   "source": [
    "# checking for outlier tendency\n",
    "ind_df.kurtosis(axis=0).sort_values(ascending=False)"
   ]
  },
  {
   "cell_type": "code",
   "execution_count": 39,
   "metadata": {
    "colab": {
     "base_uri": "https://localhost:8080/"
    },
    "id": "kga6P2842PXv",
    "outputId": "11100ff8-b445-4d3c-c9af-68c7402394dc"
   },
   "outputs": [
    {
     "name": "stdout",
     "output_type": "stream",
     "text": [
      "11\n"
     ]
    }
   ],
   "source": [
    "# Separating the Numerical column from accepted dataset.\n",
    "num_vars = list(ind_df.columns[ind_df.dtypes == 'float64'])\n",
    "\n",
    "print(len(num_vars))"
   ]
  },
  {
   "cell_type": "code",
   "execution_count": 40,
   "metadata": {
    "colab": {
     "base_uri": "https://localhost:8080/",
     "height": 963
    },
    "id": "XWowxZdJ2PXv",
    "outputId": "683fedf7-b1b9-4f4a-a96b-efe6a5aa5423"
   },
   "outputs": [
    {
     "data": {
      "image/png": "[encoded data removed]",
      "text/plain": [
       "<Figure size 2160x1440 with 10 Axes>"
      ]
     },
     "metadata": {
      "needs_background": "light"
     },
     "output_type": "display_data"
    }
   ],
   "source": [
    "# plotting boxplot\n",
    "plt.figure(figsize=(30, 20))\n",
    "i, j = 3,4\n",
    "for k in range(1, 11):\n",
    "    plt.subplot(i, j, k)\n",
    "    sns.boxplot(ind_df[num_vars[k-1]])"
   ]
  },
  {
   "cell_type": "code",
   "execution_count": 41,
   "metadata": {
    "id": "jxug2eiH6an4"
   },
   "outputs": [],
   "source": [
    "# capping the some outlier on 1 percentile and 99 percentile\n",
    "outlier_cols_99_perc=['dti','revol_util']\n",
    "\n",
    "for cols in ind_df.columns:\n",
    "    percentiles = ind_df[outlier_cols_99_perc].quantile([0.01, 0.99]).values\n",
    "    ind_df[outlier_cols_99_perc] = np.clip(ind_df[outlier_cols_99_perc], percentiles[0],percentiles[1])"
   ]
  },
  {
   "cell_type": "code",
   "execution_count": 42,
   "metadata": {
    "id": "qxtxrVV4rMa_"
   },
   "outputs": [],
   "source": [
    "# capping installment_ratio with 0.06 and 0.99 percentile value\n",
    "percentiles = ind_df['installment_ratio'].quantile([0.1, 0.99]).values\n",
    "ind_df['installment_ratio'] = np.clip(ind_df['installment_ratio'],percentiles[0], percentiles[1])\n",
    "\n",
    "#  capping installment_ratio with 0.01 and 0.98 percentile value\n",
    "percentiles = ind_df['credit_ratio'].quantile([0.01, 0.98]).values\n",
    "ind_df['credit_ratio'] = np.clip(ind_df['credit_ratio'],percentiles[0], percentiles[1])\n"
   ]
  },
  {
   "cell_type": "code",
   "execution_count": 43,
   "metadata": {
    "id": "ldyeNfAfRcSR"
   },
   "outputs": [],
   "source": [
    "# capping the some outlier on 1 percentile and 95 percentile\n",
    "outlier_cols_95_perc=['loan_amnt','installment','annual_inc','fico_score',\n",
    "                      'mort_acc','total_acc','open_acc']\n",
    "\n",
    "for cols in ind_df.columns:\n",
    "    percentiles = ind_df[outlier_cols_95_perc].quantile([0.01, 0.95]).values\n",
    "    ind_df[outlier_cols_95_perc] = np.clip(ind_df[outlier_cols_95_perc], percentiles[0],percentiles[1])"
   ]
  },
  {
   "cell_type": "code",
   "execution_count": 44,
   "metadata": {
    "colab": {
     "base_uri": "https://localhost:8080/",
     "height": 958
    },
    "id": "qcMZAq209F-d",
    "outputId": "37a96ddc-f1f1-4344-ecca-27953513a3aa"
   },
   "outputs": [
    {
     "data": {
      "image/png": "[encoded data removed]",
      "text/plain": [
       "<Figure size 2160x1440 with 10 Axes>"
      ]
     },
     "metadata": {
      "needs_background": "light"
     },
     "output_type": "display_data"
    }
   ],
   "source": [
    "# plotting boxplot\n",
    "plt.figure(figsize=(30, 20))\n",
    "i, j = 3,4\n",
    "for k in range(1, 11):\n",
    "    plt.subplot(i, j, k)\n",
    "    sns.boxplot(ind_df[num_vars[k - 1]])"
   ]
  },
  {
   "cell_type": "markdown",
   "metadata": {
    "id": "BegUbruD9RqY"
   },
   "source": [
    "***Handle outliers for Joint acc type***"
   ]
  },
  {
   "cell_type": "code",
   "execution_count": 45,
   "metadata": {
    "colab": {
     "base_uri": "https://localhost:8080/"
    },
    "id": "TJl6zfXK9X3S",
    "outputId": "69f7fed7-defd-49f1-e901-993d74494f76"
   },
   "outputs": [
    {
     "data": {
      "text/plain": [
       "dti_jnt              184.543619\n",
       "total_annual_inc      57.616982\n",
       "open_acc               2.573276\n",
       "mort_acc               2.262118\n",
       "total_acc              1.655116\n",
       "fico_score             0.836995\n",
       "credit_ratio          -0.089875\n",
       "installment           -0.270276\n",
       "installment_ratio     -0.852184\n",
       "loan_amnt             -0.882478\n",
       "revol_util            -0.896686\n",
       "target                -1.558490\n",
       "dtype: float64"
      ]
     },
     "execution_count": 45,
     "metadata": {},
     "output_type": "execute_result"
    }
   ],
   "source": [
    "# checking for outlier tendency\n",
    "jnt_df.kurtosis(axis=0).sort_values(ascending=False)"
   ]
  },
  {
   "cell_type": "code",
   "execution_count": 46,
   "metadata": {
    "colab": {
     "base_uri": "https://localhost:8080/"
    },
    "id": "6RzSWN759eYz",
    "outputId": "269055dd-9cf1-4f73-9946-425462ff5653"
   },
   "outputs": [
    {
     "name": "stdout",
     "output_type": "stream",
     "text": [
      "11\n"
     ]
    }
   ],
   "source": [
    "# Separating the Numerical column from accepted dataset.\n",
    "num_varb = list(jnt_df.columns[jnt_df.dtypes == 'float64'])\n",
    "\n",
    "print(len(num_varb))"
   ]
  },
  {
   "cell_type": "code",
   "execution_count": 47,
   "metadata": {
    "colab": {
     "base_uri": "https://localhost:8080/",
     "height": 250
    },
    "id": "4tEQkAYF9tIM",
    "outputId": "906a4632-7709-4196-b38c-f7a60a390b87"
   },
   "outputs": [
    {
     "data": {
      "image/png": "[encoded data removed]",
      "text/plain": [
       "<Figure size 2160x1440 with 10 Axes>"
      ]
     },
     "metadata": {
      "needs_background": "light"
     },
     "output_type": "display_data"
    }
   ],
   "source": [
    "# plotting boxplot\n",
    "plt.figure(figsize=(30, 20))\n",
    "i, j = 5, 15\n",
    "for k in range(1, 11):\n",
    "    plt.subplot(i, j, k)\n",
    "    sns.boxplot(jnt_df[num_varb[k-1]])"
   ]
  },
  {
   "cell_type": "code",
   "execution_count": 48,
   "metadata": {
    "id": "5aam3osf98lm"
   },
   "outputs": [],
   "source": [
    "# capping the some outlier on 1 percentile and 99 percentile\n",
    "outlier_cols_99_perc=['mort_acc','revol_util','installment','credit_ratio']\n",
    "\n",
    "for cols in jnt_df.columns:\n",
    "    percentiles = jnt_df[outlier_cols_99_perc].quantile([0.01, 0.99]).values\n",
    "    jnt_df[outlier_cols_99_perc] = np.clip(jnt_df[outlier_cols_99_perc], percentiles[0],percentiles[1])"
   ]
  },
  {
   "cell_type": "code",
   "execution_count": 49,
   "metadata": {
    "colab": {
     "base_uri": "https://localhost:8080/"
    },
    "id": "p0bzkxbI41-n",
    "outputId": "176dae86-3815-43a2-a43e-decda3621ba6"
   },
   "outputs": [
    {
     "name": "stdout",
     "output_type": "stream",
     "text": [
      "<class 'pandas.core.frame.DataFrame'>\n",
      "RangeIndex: 29584 entries, 0 to 29583\n",
      "Data columns (total 19 columns):\n",
      " #   Column                     Non-Null Count  Dtype          \n",
      "---  ------                     --------------  -----          \n",
      " 0   total_annual_inc           29584 non-null  float64        \n",
      " 1   fico_score                 29584 non-null  float64        \n",
      " 2   home_ownership             29584 non-null  object         \n",
      " 3   installment                29584 non-null  float64        \n",
      " 4   loan_amnt                  29584 non-null  float64        \n",
      " 5   earliest_cr_line           29584 non-null  datetime64[ns] \n",
      " 6   issue_d                    29584 non-null  datetime64[ns] \n",
      " 7   dti_jnt                    29584 non-null  float64        \n",
      " 8   mort_acc                   29584 non-null  float64        \n",
      " 9   term                       29584 non-null  object         \n",
      " 10  verification_status_joint  29584 non-null  object         \n",
      " 11  zip_code                   29584 non-null  object         \n",
      " 12  open_acc                   29584 non-null  float64        \n",
      " 13  total_acc                  29584 non-null  float64        \n",
      " 14  revol_util                 29584 non-null  float64        \n",
      " 15  credit_ratio               29584 non-null  float64        \n",
      " 16  installment_ratio          29584 non-null  float64        \n",
      " 17  target                     29584 non-null  int64          \n",
      " 18  credit_history             29584 non-null  timedelta64[ns]\n",
      "dtypes: datetime64[ns](2), float64(11), int64(1), object(4), timedelta64[ns](1)\n",
      "memory usage: 4.3+ MB\n"
     ]
    }
   ],
   "source": [
    "jnt_df.info()"
   ]
  },
  {
   "cell_type": "code",
   "execution_count": 50,
   "metadata": {
    "id": "hBPdJjEu2CV9"
   },
   "outputs": [],
   "source": [
    "#  capping installment_ratio with 0.01 and 0.98 percentile value\n",
    "percentiles = jnt_df['credit_ratio'].quantile([0.01, 0.98]).values\n",
    "jnt_df['credit_ratio'] = np.clip(jnt_df['credit_ratio'],percentiles[0], percentiles[1])\n"
   ]
  },
  {
   "cell_type": "code",
   "execution_count": 51,
   "metadata": {
    "id": "1z_pEm_g-B8q"
   },
   "outputs": [],
   "source": [
    "# capping the some outlier on 1 percentile and 95 percentile\n",
    "outlier_cols_95_perc=['loan_amnt','dti_jnt','fico_score','total_annual_inc',\n",
    "                      'total_acc','open_acc']\n",
    "\n",
    "for cols in jnt_df.columns:\n",
    "    percentiles = jnt_df[outlier_cols_95_perc].quantile([0.01, 0.95]).values\n",
    "    jnt_df[outlier_cols_95_perc] = np.clip(jnt_df[outlier_cols_95_perc], percentiles[0],percentiles[1])"
   ]
  },
  {
   "cell_type": "code",
   "execution_count": 52,
   "metadata": {
    "colab": {
     "base_uri": "https://localhost:8080/",
     "height": 250
    },
    "id": "_j0x3CRG-bEY",
    "outputId": "9ca7e9c1-8b5e-4963-92cf-1efd95e81bc1"
   },
   "outputs": [
    {
     "data": {
      "image/png": "[encoded data removed]",
      "text/plain": [
       "<Figure size 2160x1440 with 10 Axes>"
      ]
     },
     "metadata": {
      "needs_background": "light"
     },
     "output_type": "display_data"
    }
   ],
   "source": [
    "# plotting boxplot\n",
    "plt.figure(figsize=(30, 20))\n",
    "i, j = 5, 15\n",
    "for k in range(1, 11):\n",
    "    plt.subplot(i, j, k)\n",
    "    sns.boxplot(jnt_df[num_varb[k-1]])"
   ]
  },
  {
   "cell_type": "markdown",
   "metadata": {
    "id": "mPgJ4kRfw2uI"
   },
   "source": [
    "***All outliers are handled successfully***"
   ]
  },
  {
   "cell_type": "markdown",
   "metadata": {
    "id": "HA0i5pizzzen"
   },
   "source": [
    "There are few columns which denote date or month information but are of the type object in the dataframe. Let's change the dtype of all such columns to datetime."
   ]
  },
  {
   "cell_type": "code",
   "execution_count": 53,
   "metadata": {
    "id": "ZRb4lahkwmDX"
   },
   "outputs": [],
   "source": [
    "# converting the date column into number for individual data.\n",
    "ind_df['issue_d']= pd.to_datetime(ind_df['issue_d']).apply(lambda x: int(x.strftime('%m%Y')))\n",
    "ind_df['earliest_cr_line']=ind_df['earliest_cr_line'].apply(lambda x: x.strftime('%m%Y'))"
   ]
  },
  {
   "cell_type": "code",
   "execution_count": 54,
   "metadata": {
    "id": "VIegkgu6z0HP"
   },
   "outputs": [],
   "source": [
    "# converting the date column into number for joint data.\n",
    "jnt_df['issue_d']= pd.to_datetime(jnt_df['issue_d']).apply(lambda x: int(x.strftime('%m%Y')))\n",
    "jnt_df['earliest_cr_line']=jnt_df['earliest_cr_line'].apply(lambda x: x.strftime('%m%Y'))"
   ]
  },
  {
   "cell_type": "markdown",
   "metadata": {
    "id": "wXyykTNmn80k"
   },
   "source": [
    "# **Label Encoding**"
   ]
  },
  {
   "cell_type": "markdown",
   "metadata": {
    "id": "3t86Ag_VCO8q"
   },
   "source": [
    "***Encoding for individual data.***"
   ]
  },
  {
   "cell_type": "code",
   "execution_count": 55,
   "metadata": {
    "colab": {
     "base_uri": "https://localhost:8080/"
    },
    "id": "Bo6u-w4_UpB6",
    "outputId": "d54175f0-2e29-4beb-ab94-0e04d22b0a1c"
   },
   "outputs": [
    {
     "data": {
      "text/plain": [
       "annual_inc                     float64\n",
       "dti                            float64\n",
       "fico_score                     float64\n",
       "home_ownership                  object\n",
       "installment                    float64\n",
       "loan_amnt                      float64\n",
       "earliest_cr_line                object\n",
       "issue_d                          int64\n",
       "mort_acc                       float64\n",
       "term                            object\n",
       "verification_status             object\n",
       "zip_code                        object\n",
       "open_acc                       float64\n",
       "total_acc                      float64\n",
       "revol_util                     float64\n",
       "credit_ratio                   float64\n",
       "installment_ratio              float64\n",
       "target                           int64\n",
       "credit_history         timedelta64[ns]\n",
       "dtype: object"
      ]
     },
     "execution_count": 55,
     "metadata": {},
     "output_type": "execute_result"
    }
   ],
   "source": [
    "ind_df.dtypes"
   ]
  },
  {
   "cell_type": "code",
   "execution_count": 56,
   "metadata": {
    "colab": {
     "base_uri": "https://localhost:8080/"
    },
    "id": "pQ-sI6KaV5It",
    "outputId": "7964fec6-899f-4df2-bf4b-05a1cca53917"
   },
   "outputs": [
    {
     "data": {
      "text/plain": [
       "6"
      ]
     },
     "execution_count": 56,
     "metadata": {},
     "output_type": "execute_result"
    }
   ],
   "source": [
    "ind_df['home_ownership'].nunique()\n"
   ]
  },
  {
   "cell_type": "code",
   "execution_count": 57,
   "metadata": {
    "colab": {
     "base_uri": "https://localhost:8080/"
    },
    "id": "AUJJiJKR9Kk8",
    "outputId": "bccd3201-50ec-48a7-f9b9-fee0ce541407"
   },
   "outputs": [
    {
     "data": {
      "text/plain": [
       "MORTGAGE    662501\n",
       "RENT        543376\n",
       "OWN         146346\n",
       "ANY            311\n",
       "OTHER          182\n",
       "NONE            51\n",
       "Name: home_ownership, dtype: int64"
      ]
     },
     "execution_count": 57,
     "metadata": {},
     "output_type": "execute_result"
    }
   ],
   "source": [
    "ind_df['home_ownership'].value_counts()"
   ]
  },
  {
   "cell_type": "code",
   "execution_count": 58,
   "metadata": {
    "id": "d35fAc4l9RdI"
   },
   "outputs": [],
   "source": [
    "ind_df['home_ownership']=ind_df['home_ownership'].map({\"NONE\":0,\"OTHER\":1,'ANY':2,'OWN':3,'RENT':4,'MORTGAGE':6})"
   ]
  },
  {
   "cell_type": "code",
   "execution_count": 59,
   "metadata": {
    "colab": {
     "base_uri": "https://localhost:8080/"
    },
    "id": "OXRDAXqO_7py",
    "outputId": "19a45dfc-898b-4b75-c57f-4ded6b85dbbc"
   },
   "outputs": [
    {
     "data": {
      "text/plain": [
       "6    662501\n",
       "4    543376\n",
       "3    146346\n",
       "2       311\n",
       "1       182\n",
       "0        51\n",
       "Name: home_ownership, dtype: int64"
      ]
     },
     "execution_count": 59,
     "metadata": {},
     "output_type": "execute_result"
    }
   ],
   "source": [
    "ind_df['home_ownership'].value_counts()"
   ]
  },
  {
   "cell_type": "code",
   "execution_count": 60,
   "metadata": {
    "colab": {
     "base_uri": "https://localhost:8080/"
    },
    "id": "It8j62Q3WCQz",
    "outputId": "92c8525d-766f-4500-c463-457b50887a1d"
   },
   "outputs": [
    {
     "data": {
      "text/plain": [
       "3"
      ]
     },
     "execution_count": 60,
     "metadata": {},
     "output_type": "execute_result"
    }
   ],
   "source": [
    "ind_df['verification_status'].nunique()\n"
   ]
  },
  {
   "cell_type": "code",
   "execution_count": 61,
   "metadata": {
    "colab": {
     "base_uri": "https://localhost:8080/"
    },
    "id": "fU3-yKPWAioF",
    "outputId": "59fd972d-ac1d-4dbc-90b3-ca19c5dc8916"
   },
   "outputs": [
    {
     "data": {
      "text/plain": [
       "Source Verified    527480\n",
       "Verified           418173\n",
       "Not Verified       407114\n",
       "Name: verification_status, dtype: int64"
      ]
     },
     "execution_count": 61,
     "metadata": {},
     "output_type": "execute_result"
    }
   ],
   "source": [
    "ind_df['verification_status'].value_counts()"
   ]
  },
  {
   "cell_type": "code",
   "execution_count": 62,
   "metadata": {
    "id": "zPvkDEowAm6u"
   },
   "outputs": [],
   "source": [
    "ind_df['verification_status']=ind_df['verification_status'].map({\"Source Verified\":0,\"Verified\":1,\"Not Verified\":2})"
   ]
  },
  {
   "cell_type": "code",
   "execution_count": 63,
   "metadata": {
    "colab": {
     "base_uri": "https://localhost:8080/"
    },
    "id": "VUJvtyQ9A7Om",
    "outputId": "12651e6b-31a2-490d-d6a9-3c803c45f55d"
   },
   "outputs": [
    {
     "name": "stdout",
     "output_type": "stream",
     "text": [
      "Feature term\n",
      "mapping {' 36 months': 0, ' 60 months': 1}\n"
     ]
    }
   ],
   "source": [
    "# \"Fit\" is responsible to create dictionaries \n",
    "# \"Transform\" helps to map the variables and convert the categorical variables into numerical variables\n",
    "# For pre-processing the data\n",
    "\n",
    "from sklearn.preprocessing import LabelEncoder\n",
    "\n",
    "cols = ['term']\n",
    "\n",
    "le=LabelEncoder()\n",
    "\n",
    "for x in cols:\n",
    "    ind_df[x]=le.fit_transform(ind_df[x])\n",
    "\n",
    "le_name_mapping = dict(zip(le.classes_, le.transform(le.classes_))) # This is to check how each variable is getting converted\n",
    "print('Feature', x)\n",
    "print('mapping', le_name_mapping)"
   ]
  },
  {
   "cell_type": "code",
   "execution_count": 64,
   "metadata": {
    "colab": {
     "base_uri": "https://localhost:8080/"
    },
    "id": "wdlIDe1aWDf_",
    "outputId": "86e5edd4-02b3-472f-ff65-d264a4c80754"
   },
   "outputs": [
    {
     "data": {
      "text/plain": [
       "946"
      ]
     },
     "execution_count": 64,
     "metadata": {},
     "output_type": "execute_result"
    }
   ],
   "source": [
    "ind_df['zip_code'].nunique()"
   ]
  },
  {
   "cell_type": "code",
   "execution_count": 65,
   "metadata": {
    "id": "bGwvOOFoXLyM"
   },
   "outputs": [],
   "source": [
    "ind_df['zip_code'] = ind_df['zip_code'].str[:2]"
   ]
  },
  {
   "cell_type": "code",
   "execution_count": 66,
   "metadata": {
    "colab": {
     "base_uri": "https://localhost:8080/"
    },
    "id": "JcQ6B4acmdM2",
    "outputId": "762c23f4-efd1-4ae0-c1ad-11a97b572043"
   },
   "outputs": [
    {
     "data": {
      "text/plain": [
       "0          19\n",
       "1          57\n",
       "2          17\n",
       "3          30\n",
       "4          55\n",
       "           ..\n",
       "1352762    77\n",
       "1352763    90\n",
       "1352764    86\n",
       "1352765    28\n",
       "1352766    33\n",
       "Name: zip_code, Length: 1352767, dtype: int32"
      ]
     },
     "execution_count": 66,
     "metadata": {},
     "output_type": "execute_result"
    }
   ],
   "source": [
    "ind_df['zip_code'].astype(int)"
   ]
  },
  {
   "cell_type": "code",
   "execution_count": 67,
   "metadata": {
    "colab": {
     "base_uri": "https://localhost:8080/"
    },
    "id": "7H7uI70WnAfe",
    "outputId": "dce6ac96-a679-4ad2-97be-bc430539b20b"
   },
   "outputs": [
    {
     "data": {
      "text/plain": [
       "0"
      ]
     },
     "execution_count": 67,
     "metadata": {},
     "output_type": "execute_result"
    }
   ],
   "source": [
    "ind_df['zip_code'].isnull().sum()"
   ]
  },
  {
   "cell_type": "code",
   "execution_count": 68,
   "metadata": {
    "id": "w2HWzymoxXdD"
   },
   "outputs": [],
   "source": [
    "# converting the credit history column from categorical to numerical by removing days from the column\n",
    "\n",
    "ind_df.credit_history=ind_df.credit_history.apply(lambda x: str(x).split(\" \",1)[0]).astype(int)\n"
   ]
  },
  {
   "cell_type": "code",
   "execution_count": 71,
   "metadata": {
    "colab": {
     "base_uri": "https://localhost:8080/",
     "height": 223
    },
    "id": "vxRfR0AjB2pl",
    "outputId": "5a2768c3-ec28-4160-8dd1-5ea77746aa18"
   },
   "outputs": [],
   "source": [
    "ind_df_x=ind_df.drop('target',axis=1)\n",
    "ind_df_y=ind_df['target']"
   ]
  },
  {
   "cell_type": "code",
   "execution_count": null,
   "metadata": {},
   "outputs": [],
   "source": [
    "from sklearn.model_selection import train_test_split\n",
    "\n",
    "ind_X_train, ind_X_test, ind_Y_train, ind_Y_test = train_test_split(ind_df_x, ind_df_y, test_size=0.3,random_state=44)"
   ]
  },
  {
   "cell_type": "code",
   "execution_count": 72,
   "metadata": {},
   "outputs": [],
   "source": [
    "ind_X_train.to_csv(\"ind_train.csv\")"
   ]
  },
  {
   "cell_type": "markdown",
   "metadata": {
    "id": "AgglGvWAFVQP"
   },
   "source": [
    "***Encoding for joint data.***"
   ]
  },
  {
   "cell_type": "code",
   "execution_count": 73,
   "metadata": {
    "colab": {
     "base_uri": "https://localhost:8080/"
    },
    "id": "3PmJObMeFb_X",
    "outputId": "1574bf8c-a1fb-4ef7-a7b2-7cce3b2caf6e"
   },
   "outputs": [
    {
     "data": {
      "text/plain": [
       "total_annual_inc                     float64\n",
       "fico_score                           float64\n",
       "home_ownership                        object\n",
       "installment                          float64\n",
       "loan_amnt                            float64\n",
       "earliest_cr_line                      object\n",
       "issue_d                                int64\n",
       "dti_jnt                              float64\n",
       "mort_acc                             float64\n",
       "term                                  object\n",
       "verification_status_joint             object\n",
       "zip_code                              object\n",
       "open_acc                             float64\n",
       "total_acc                            float64\n",
       "revol_util                           float64\n",
       "credit_ratio                         float64\n",
       "installment_ratio                    float64\n",
       "target                                 int64\n",
       "credit_history               timedelta64[ns]\n",
       "dtype: object"
      ]
     },
     "execution_count": 73,
     "metadata": {},
     "output_type": "execute_result"
    }
   ],
   "source": [
    "jnt_df.dtypes"
   ]
  },
  {
   "cell_type": "code",
   "execution_count": 74,
   "metadata": {
    "colab": {
     "base_uri": "https://localhost:8080/"
    },
    "id": "F8uQiimOFqeT",
    "outputId": "d673a2c5-b851-4487-f5c4-12641cc2bdae"
   },
   "outputs": [
    {
     "data": {
      "text/plain": [
       "MORTGAGE    19641\n",
       "RENT         7072\n",
       "OWN          2869\n",
       "NONE            2\n",
       "Name: home_ownership, dtype: int64"
      ]
     },
     "execution_count": 74,
     "metadata": {},
     "output_type": "execute_result"
    }
   ],
   "source": [
    "jnt_df['home_ownership'].value_counts()"
   ]
  },
  {
   "cell_type": "code",
   "execution_count": 75,
   "metadata": {
    "id": "yiQCaERuFul6"
   },
   "outputs": [],
   "source": [
    "jnt_df['home_ownership']=jnt_df['home_ownership'].map({\"NONE\":0,'OWN':1,'RENT':2,'MORTGAGE':3})"
   ]
  },
  {
   "cell_type": "code",
   "execution_count": 76,
   "metadata": {
    "colab": {
     "base_uri": "https://localhost:8080/"
    },
    "id": "hKJHuGNDGAIU",
    "outputId": "eeb0c014-6785-4fa3-c61e-57a27902e2be"
   },
   "outputs": [
    {
     "data": {
      "text/plain": [
       "Not Verified       16727\n",
       "Source Verified     7504\n",
       "Verified            5353\n",
       "Name: verification_status_joint, dtype: int64"
      ]
     },
     "execution_count": 76,
     "metadata": {},
     "output_type": "execute_result"
    }
   ],
   "source": [
    "jnt_df['verification_status_joint'].value_counts()"
   ]
  },
  {
   "cell_type": "code",
   "execution_count": 77,
   "metadata": {
    "id": "jMdN9p34GLnE"
   },
   "outputs": [],
   "source": [
    "jnt_df['verification_status_joint']=jnt_df['verification_status_joint'].map({\"Source Verified\":0,\"Verified\":1,\"Not Verified\":2})"
   ]
  },
  {
   "cell_type": "code",
   "execution_count": 78,
   "metadata": {
    "colab": {
     "base_uri": "https://localhost:8080/"
    },
    "id": "4rXiNKlKGbXR",
    "outputId": "486b1d44-83dc-46cf-94c2-06b9a233dcfe"
   },
   "outputs": [
    {
     "name": "stdout",
     "output_type": "stream",
     "text": [
      "Feature term\n",
      "mapping {' 36 months': 0, ' 60 months': 1}\n"
     ]
    }
   ],
   "source": [
    "# \"Fit\" is responsible to create dictionaries \n",
    "# \"Transform\" helps to map the variables and convert the categorical variables into numerical variables\n",
    "# For pre-processing the data\n",
    "\n",
    "from sklearn.preprocessing import LabelEncoder\n",
    "\n",
    "cols = ['term']\n",
    "\n",
    "le=LabelEncoder()\n",
    "\n",
    "for x in cols:\n",
    "    jnt_df[x]=le.fit_transform(jnt_df[x])\n",
    "\n",
    "le_name_mapping = dict(zip(le.classes_, le.transform(le.classes_))) # This is to check how each variable is getting converted\n",
    "print('Feature', x)\n",
    "print('mapping', le_name_mapping)"
   ]
  },
  {
   "cell_type": "code",
   "execution_count": 79,
   "metadata": {
    "colab": {
     "base_uri": "https://localhost:8080/"
    },
    "id": "HdqSn1CcGl8N",
    "outputId": "4931a354-fd6a-4dd8-93e7-cd373eeded9e"
   },
   "outputs": [
    {
     "data": {
      "text/plain": [
       "848"
      ]
     },
     "execution_count": 79,
     "metadata": {},
     "output_type": "execute_result"
    }
   ],
   "source": [
    "jnt_df['zip_code'].nunique()"
   ]
  },
  {
   "cell_type": "code",
   "execution_count": 80,
   "metadata": {
    "id": "96Klkj1bGl5G"
   },
   "outputs": [],
   "source": [
    "jnt_df['zip_code'] = jnt_df['zip_code'].str[:2]"
   ]
  },
  {
   "cell_type": "code",
   "execution_count": 81,
   "metadata": {
    "colab": {
     "base_uri": "https://localhost:8080/"
    },
    "id": "HAgFthFjGlzw",
    "outputId": "a4a62016-4c8f-489a-9df8-041490c6d85e"
   },
   "outputs": [
    {
     "data": {
      "text/plain": [
       "0        60\n",
       "1        91\n",
       "2        77\n",
       "3        64\n",
       "4        60\n",
       "         ..\n",
       "29579    83\n",
       "29580    10\n",
       "29581    72\n",
       "29582    98\n",
       "29583     6\n",
       "Name: zip_code, Length: 29584, dtype: int32"
      ]
     },
     "execution_count": 81,
     "metadata": {},
     "output_type": "execute_result"
    }
   ],
   "source": [
    "jnt_df['zip_code'].astype(int)"
   ]
  },
  {
   "cell_type": "code",
   "execution_count": 82,
   "metadata": {
    "id": "eJTEBtmnxkt4"
   },
   "outputs": [],
   "source": [
    "# converting the credit history column from categorical to numerical by removing days from the column\n",
    "jnt_df.credit_history=jnt_df.credit_history.apply(lambda x: str(x).split(\" \",1)[0]).astype(int)"
   ]
  },
  {
   "cell_type": "code",
   "execution_count": 83,
   "metadata": {
    "colab": {
     "base_uri": "https://localhost:8080/",
     "height": 223
    },
    "id": "sxxmA68KHD9e",
    "outputId": "1e1983c0-3f18-41bd-94dd-296b9ed76e34",
    "scrolled": true
   },
   "outputs": [
    {
     "data": {
      "text/html": [
       "<div>\n",
       "<style scoped>\n",
       "    .dataframe tbody tr th:only-of-type {\n",
       "        vertical-align: middle;\n",
       "    }\n",
       "\n",
       "    .dataframe tbody tr th {\n",
       "        vertical-align: top;\n",
       "    }\n",
       "\n",
       "    .dataframe thead th {\n",
       "        text-align: right;\n",
       "    }\n",
       "</style>\n",
       "<table border=\"1\" class=\"dataframe\">\n",
       "  <thead>\n",
       "    <tr style=\"text-align: right;\">\n",
       "      <th></th>\n",
       "      <th>total_annual_inc</th>\n",
       "      <th>fico_score</th>\n",
       "      <th>home_ownership</th>\n",
       "      <th>installment</th>\n",
       "      <th>loan_amnt</th>\n",
       "      <th>earliest_cr_line</th>\n",
       "      <th>issue_d</th>\n",
       "      <th>dti_jnt</th>\n",
       "      <th>mort_acc</th>\n",
       "      <th>term</th>\n",
       "      <th>verification_status_joint</th>\n",
       "      <th>zip_code</th>\n",
       "      <th>open_acc</th>\n",
       "      <th>total_acc</th>\n",
       "      <th>revol_util</th>\n",
       "      <th>credit_ratio</th>\n",
       "      <th>installment_ratio</th>\n",
       "      <th>target</th>\n",
       "      <th>credit_history</th>\n",
       "    </tr>\n",
       "  </thead>\n",
       "  <tbody>\n",
       "    <tr>\n",
       "      <th>0</th>\n",
       "      <td>134000.00</td>\n",
       "      <td>697.0</td>\n",
       "      <td>3</td>\n",
       "      <td>432.66</td>\n",
       "      <td>20000.0</td>\n",
       "      <td>082000</td>\n",
       "      <td>122015</td>\n",
       "      <td>12.32</td>\n",
       "      <td>5.0</td>\n",
       "      <td>1</td>\n",
       "      <td>2</td>\n",
       "      <td>60</td>\n",
       "      <td>6.0</td>\n",
       "      <td>18.0</td>\n",
       "      <td>56.2</td>\n",
       "      <td>0.333</td>\n",
       "      <td>0.022</td>\n",
       "      <td>0</td>\n",
       "      <td>5600</td>\n",
       "    </tr>\n",
       "    <tr>\n",
       "      <th>1</th>\n",
       "      <td>142000.00</td>\n",
       "      <td>667.0</td>\n",
       "      <td>3</td>\n",
       "      <td>498.15</td>\n",
       "      <td>15000.0</td>\n",
       "      <td>082004</td>\n",
       "      <td>122015</td>\n",
       "      <td>16.48</td>\n",
       "      <td>1.0</td>\n",
       "      <td>0</td>\n",
       "      <td>2</td>\n",
       "      <td>91</td>\n",
       "      <td>9.0</td>\n",
       "      <td>16.0</td>\n",
       "      <td>88.3</td>\n",
       "      <td>0.562</td>\n",
       "      <td>0.033</td>\n",
       "      <td>0</td>\n",
       "      <td>4139</td>\n",
       "    </tr>\n",
       "    <tr>\n",
       "      <th>2</th>\n",
       "      <td>156749.00</td>\n",
       "      <td>682.0</td>\n",
       "      <td>3</td>\n",
       "      <td>678.37</td>\n",
       "      <td>24000.0</td>\n",
       "      <td>071998</td>\n",
       "      <td>122015</td>\n",
       "      <td>30.57</td>\n",
       "      <td>1.0</td>\n",
       "      <td>1</td>\n",
       "      <td>2</td>\n",
       "      <td>77</td>\n",
       "      <td>13.0</td>\n",
       "      <td>22.0</td>\n",
       "      <td>73.1</td>\n",
       "      <td>0.591</td>\n",
       "      <td>0.028</td>\n",
       "      <td>0</td>\n",
       "      <td>6362</td>\n",
       "    </tr>\n",
       "    <tr>\n",
       "      <th>3</th>\n",
       "      <td>213000.00</td>\n",
       "      <td>677.0</td>\n",
       "      <td>3</td>\n",
       "      <td>551.50</td>\n",
       "      <td>24000.0</td>\n",
       "      <td>062001</td>\n",
       "      <td>122015</td>\n",
       "      <td>22.73</td>\n",
       "      <td>2.0</td>\n",
       "      <td>1</td>\n",
       "      <td>2</td>\n",
       "      <td>64</td>\n",
       "      <td>13.0</td>\n",
       "      <td>24.0</td>\n",
       "      <td>53.3</td>\n",
       "      <td>0.542</td>\n",
       "      <td>0.023</td>\n",
       "      <td>0</td>\n",
       "      <td>5296</td>\n",
       "    </tr>\n",
       "    <tr>\n",
       "      <th>4</th>\n",
       "      <td>123872.64</td>\n",
       "      <td>682.0</td>\n",
       "      <td>2</td>\n",
       "      <td>320.70</td>\n",
       "      <td>8750.0</td>\n",
       "      <td>081998</td>\n",
       "      <td>122015</td>\n",
       "      <td>31.89</td>\n",
       "      <td>0.0</td>\n",
       "      <td>0</td>\n",
       "      <td>2</td>\n",
       "      <td>60</td>\n",
       "      <td>9.0</td>\n",
       "      <td>12.0</td>\n",
       "      <td>96.5</td>\n",
       "      <td>0.750</td>\n",
       "      <td>0.037</td>\n",
       "      <td>1</td>\n",
       "      <td>6331</td>\n",
       "    </tr>\n",
       "  </tbody>\n",
       "</table>\n",
       "</div>"
      ],
      "text/plain": [
       "   total_annual_inc  fico_score  home_ownership  installment  loan_amnt  \\\n",
       "0         134000.00       697.0               3       432.66    20000.0   \n",
       "1         142000.00       667.0               3       498.15    15000.0   \n",
       "2         156749.00       682.0               3       678.37    24000.0   \n",
       "3         213000.00       677.0               3       551.50    24000.0   \n",
       "4         123872.64       682.0               2       320.70     8750.0   \n",
       "\n",
       "  earliest_cr_line  issue_d  dti_jnt  mort_acc  term  \\\n",
       "0           082000   122015    12.32       5.0     1   \n",
       "1           082004   122015    16.48       1.0     0   \n",
       "2           071998   122015    30.57       1.0     1   \n",
       "3           062001   122015    22.73       2.0     1   \n",
       "4           081998   122015    31.89       0.0     0   \n",
       "\n",
       "   verification_status_joint zip_code  open_acc  total_acc  revol_util  \\\n",
       "0                          2       60       6.0       18.0        56.2   \n",
       "1                          2       91       9.0       16.0        88.3   \n",
       "2                          2       77      13.0       22.0        73.1   \n",
       "3                          2       64      13.0       24.0        53.3   \n",
       "4                          2       60       9.0       12.0        96.5   \n",
       "\n",
       "   credit_ratio  installment_ratio  target  credit_history  \n",
       "0         0.333              0.022       0            5600  \n",
       "1         0.562              0.033       0            4139  \n",
       "2         0.591              0.028       0            6362  \n",
       "3         0.542              0.023       0            5296  \n",
       "4         0.750              0.037       1            6331  "
      ]
     },
     "execution_count": 83,
     "metadata": {},
     "output_type": "execute_result"
    }
   ],
   "source": [
    "jnt_df.head()"
   ]
  },
  {
   "cell_type": "code",
   "execution_count": 84,
   "metadata": {},
   "outputs": [],
   "source": [
    "jnt_df_train=jnt_df.drop(\"target\",axis=1)\n",
    "jnt_df_train.to_csv(\"jnt_train.csv\")"
   ]
  },
  {
   "cell_type": "markdown",
   "metadata": {
    "id": "qKRf7N72JmbV"
   },
   "source": [
    "# **Train- Test Split for Individual Acc**"
   ]
  },
  {
   "cell_type": "code",
   "execution_count": 85,
   "metadata": {
    "id": "TnIsssNLJn_o"
   },
   "outputs": [],
   "source": [
    "Y = ind_df['target']\n",
    "X = ind_df.drop('target',axis=1)"
   ]
  },
  {
   "cell_type": "code",
   "execution_count": 86,
   "metadata": {
    "colab": {
     "base_uri": "https://localhost:8080/"
    },
    "id": "KZ8TXD7aJxgD",
    "outputId": "848e3816-fb54-49e1-b941-fd19cbe95e70"
   },
   "outputs": [
    {
     "data": {
      "text/plain": [
       "(1352767, 18)"
      ]
     },
     "execution_count": 86,
     "metadata": {},
     "output_type": "execute_result"
    }
   ],
   "source": [
    "X.shape"
   ]
  },
  {
   "cell_type": "code",
   "execution_count": 87,
   "metadata": {
    "colab": {
     "base_uri": "https://localhost:8080/"
    },
    "id": "LaoYRbboJyjH",
    "outputId": "5820633c-0b1b-495f-c6e6-cc5265190221"
   },
   "outputs": [
    {
     "data": {
      "text/plain": [
       "(1352767,)"
      ]
     },
     "execution_count": 87,
     "metadata": {},
     "output_type": "execute_result"
    }
   ],
   "source": [
    "Y.shape"
   ]
  },
  {
   "cell_type": "code",
   "execution_count": 88,
   "metadata": {
    "id": "MsLGrxbuKw9e"
   },
   "outputs": [],
   "source": [
    "Y=Y.astype('int')"
   ]
  },
  {
   "cell_type": "code",
   "execution_count": 89,
   "metadata": {
    "colab": {
     "base_uri": "https://localhost:8080/"
    },
    "id": "x2UnknhfJ57j",
    "outputId": "67d75cf0-1902-422a-c760-7adb8ccc846e"
   },
   "outputs": [
    {
     "name": "stdout",
     "output_type": "stream",
     "text": [
      "[[-0.50387911 -1.45615205 -0.69581122 ...  0.20454552  0.66881904\n",
      "  -0.5200595 ]\n",
      " [-0.21848311 -0.23472166  0.71709966 ...  0.44067977  0.41388263\n",
      "  -0.03190449]\n",
      " [ 0.90691893  0.88562483  0.01064422 ... -0.91853203 -0.86079944\n",
      "   0.16787814]\n",
      " ...\n",
      " [ 2.37862047 -0.92305484  1.4235551  ...  1.58679481 -1.88054509\n",
      "  -1.45189238]\n",
      " [ 2.20738287 -0.69320932 -1.04903894 ... -0.42322603 -1.88054509\n",
      "   0.38989936]\n",
      " [ 1.06579888  0.03483539 -1.2256528  ... -1.03371947 -1.88054509\n",
      "   0.13506713]]\n"
     ]
    }
   ],
   "source": [
    "from sklearn.preprocessing import StandardScaler\n",
    "\n",
    "scaler = StandardScaler()\n",
    "\n",
    "scaler.fit(X)\n",
    "\n",
    "X = scaler.transform(X)\n",
    "print(X)"
   ]
  },
  {
   "cell_type": "markdown",
   "metadata": {
    "id": "DTl9IWN7J_iW"
   },
   "source": [
    "***Splitting the data into training and testing.***"
   ]
  },
  {
   "cell_type": "code",
   "execution_count": 90,
   "metadata": {
    "id": "EhdKnJVhKAy7"
   },
   "outputs": [],
   "source": [
    "#Split the data into test and train\n",
    "\n",
    "from sklearn.model_selection import train_test_split\n",
    "\n",
    "X_train, X_test, Y_train, Y_test = train_test_split(X, Y, test_size=0.3,\n",
    "                                                    random_state=44)"
   ]
  },
  {
   "cell_type": "markdown",
   "metadata": {
    "id": "9snau-_kKFjs"
   },
   "source": [
    "**<h3><font color='blue'>Modelling - Random Forest for indvidual acc**"
   ]
  },
  {
   "cell_type": "markdown",
   "metadata": {
    "id": "xsyFGaRWRCrn"
   },
   "source": [
    "**Random forest classifier creates a set of decision trees from randomly selected subset of training set. It then aggregates the votes from different decision trees to decide the final class of the test object.**"
   ]
  },
  {
   "cell_type": "code",
   "execution_count": 91,
   "metadata": {
    "id": "GHDThlMOKIzH"
   },
   "outputs": [],
   "source": [
    "# Predicting using the Random Forest Classifier\n",
    "from sklearn.ensemble import RandomForestClassifier\n",
    "\n",
    "model_RandomForest=RandomForestClassifier(n_estimators=25, random_state=10,max_depth=6)\n",
    "\n",
    "# Fit the model on the data and predict the values\n",
    "\n",
    "model_RandomForest.fit(X_train,Y_train)\n",
    "\n",
    "Y_pred=model_RandomForest.predict(X_test)"
   ]
  },
  {
   "cell_type": "code",
   "execution_count": 92,
   "metadata": {
    "colab": {
     "base_uri": "https://localhost:8080/"
    },
    "id": "bZ8DZPmLKQt1",
    "outputId": "38a066f5-3fb9-4a20-8c11-2607404da426"
   },
   "outputs": [
    {
     "name": "stdout",
     "output_type": "stream",
     "text": [
      "[[316331   1213]\n",
      " [ 86369   1918]]\n",
      "Classification report: \n",
      "              precision    recall  f1-score   support\n",
      "\n",
      "           0       0.79      1.00      0.88    317544\n",
      "           1       0.61      0.02      0.04     88287\n",
      "\n",
      "    accuracy                           0.78    405831\n",
      "   macro avg       0.70      0.51      0.46    405831\n",
      "weighted avg       0.75      0.78      0.70    405831\n",
      "\n",
      "Accuracy of the model:  0.7841909563340406\n"
     ]
    }
   ],
   "source": [
    "# Checking the accuracy and the type 1 and type 2 error with confusion matrix.\n",
    "from sklearn.metrics import confusion_matrix, accuracy_score, classification_report\n",
    "\n",
    "cfm=confusion_matrix(Y_test,Y_pred)\n",
    "print(cfm)\n",
    "\n",
    "print(\"Classification report: \")\n",
    "\n",
    "print(classification_report(Y_test,Y_pred))\n",
    "\n",
    "acc=accuracy_score(Y_test, Y_pred)\n",
    "print(\"Accuracy of the model: \",acc)"
   ]
  },
  {
   "cell_type": "markdown",
   "metadata": {
    "id": "hvVgK4T_ytTM"
   },
   "source": [
    "**The accuracy is 78.3% . And the precision and recall for value 0 for Fully paid is good i.e. 79% and 62%  and  for Default the precision, recall are not that good.This can be because of the target variable imbalance.**"
   ]
  },
  {
   "cell_type": "markdown",
   "metadata": {
    "id": "ullbxyS5L0su"
   },
   "source": [
    "Since our target varible is imbalanced so to fix this lets we are using oversampling method to balance the minority value i.e. here default value to make balance in target column"
   ]
  },
  {
   "cell_type": "code",
   "execution_count": 93,
   "metadata": {
    "id": "1T16U7XzIkjy"
   },
   "outputs": [],
   "source": [
    "from imblearn import under_sampling, over_sampling\n",
    "from imblearn.over_sampling import SMOTE"
   ]
  },
  {
   "cell_type": "code",
   "execution_count": 94,
   "metadata": {
    "id": "IbHdXZC_LQX6"
   },
   "outputs": [],
   "source": [
    "smote=SMOTE(\"minority\")\n",
    "X_sm,Y_sm=smote.fit_resample(X_train,Y_train)"
   ]
  },
  {
   "cell_type": "code",
   "execution_count": 95,
   "metadata": {
    "colab": {
     "base_uri": "https://localhost:8080/"
    },
    "id": "eEUnjXpOLYWi",
    "outputId": "91f41c9a-5ed6-40fa-cf2c-427ee6873eb5"
   },
   "outputs": [
    {
     "data": {
      "text/plain": [
       "0.7126938659089342"
      ]
     },
     "execution_count": 95,
     "metadata": {},
     "output_type": "execute_result"
    }
   ],
   "source": [
    "# fitting the model\n",
    "clf = RandomForestClassifier(n_estimators=25, random_state=10, max_depth=6)\n",
    "clf.fit(X_sm,Y_sm)\n",
    "    \n",
    "# Predict using model\n",
    "y_pred = clf.predict(X_sm)\n",
    "    \n",
    "accuracy_score(Y_sm,y_pred)"
   ]
  },
  {
   "cell_type": "code",
   "execution_count": 96,
   "metadata": {
    "colab": {
     "base_uri": "https://localhost:8080/"
    },
    "id": "TqKy4GdhQe93",
    "outputId": "e306759f-53c5-4f2f-aa61-bb89f4cfd05d"
   },
   "outputs": [
    {
     "name": "stdout",
     "output_type": "stream",
     "text": [
      "              precision    recall  f1-score   support\n",
      "\n",
      "           0      0.710     0.718     0.714    739751\n",
      "           1      0.715     0.707     0.711    739751\n",
      "\n",
      "    accuracy                          0.713   1479502\n",
      "   macro avg      0.713     0.713     0.713   1479502\n",
      "weighted avg      0.713     0.713     0.713   1479502\n",
      "\n"
     ]
    }
   ],
   "source": [
    "from sklearn import metrics\n",
    "print(metrics.classification_report(Y_sm, y_pred,digits=3))"
   ]
  },
  {
   "cell_type": "markdown",
   "metadata": {
    "id": "PAk_bg8SQjHl"
   },
   "source": [
    "**The precision and recall value is improved for target value 1 i.e. Default from 62% to 70% and accuracy dropped from 78.3% to 71% but it is acceptable.**"
   ]
  },
  {
   "cell_type": "markdown",
   "metadata": {
    "id": "fnUCBf-6Qt4V"
   },
   "source": [
    "**Validating the model on test dataset**"
   ]
  },
  {
   "cell_type": "code",
   "execution_count": 97,
   "metadata": {
    "id": "LzsSXpezQjsY"
   },
   "outputs": [],
   "source": [
    "# predicting the values from test data\n",
    "y_test_pred = clf.predict(X_test)"
   ]
  },
  {
   "cell_type": "code",
   "execution_count": 98,
   "metadata": {
    "colab": {
     "base_uri": "https://localhost:8080/"
    },
    "id": "rle1PHoJQ0A_",
    "outputId": "a0173193-5fd6-4e85-d918-b991cab7eedc"
   },
   "outputs": [
    {
     "data": {
      "text/plain": [
       "0.6814117206423363"
      ]
     },
     "execution_count": 98,
     "metadata": {},
     "output_type": "execute_result"
    }
   ],
   "source": [
    "# checking the accuracy for test data set\n",
    "accuracy_score(Y_test,y_test_pred)"
   ]
  },
  {
   "cell_type": "markdown",
   "metadata": {
    "id": "9J5Ikj3_RBai"
   },
   "source": [
    "**accuracy for test dataset is 66 which is almost close to train dataset i.e. 69%**"
   ]
  },
  {
   "cell_type": "code",
   "execution_count": 99,
   "metadata": {
    "colab": {
     "base_uri": "https://localhost:8080/"
    },
    "id": "hZLybag0RCeA",
    "outputId": "13b121ff-b41e-41de-fe02-29cc2a58aeb1"
   },
   "outputs": [
    {
     "data": {
      "text/plain": [
       "array([[228122,  89422],\n",
       "       [ 39871,  48416]], dtype=int64)"
      ]
     },
     "execution_count": 99,
     "metadata": {},
     "output_type": "execute_result"
    }
   ],
   "source": [
    "# confusion metrics for test dataset\n",
    "confusion = metrics.confusion_matrix(Y_test, y_test_pred )\n",
    "confusion"
   ]
  },
  {
   "cell_type": "code",
   "execution_count": 100,
   "metadata": {
    "colab": {
     "base_uri": "https://localhost:8080/"
    },
    "id": "UEz8l6cuREt1",
    "outputId": "065848a9-0e4b-477d-fe36-88fe028c198b"
   },
   "outputs": [
    {
     "name": "stdout",
     "output_type": "stream",
     "text": [
      "              precision    recall  f1-score   support\n",
      "\n",
      "           0      0.851     0.718     0.779    317544\n",
      "           1      0.351     0.548     0.428     88287\n",
      "\n",
      "    accuracy                          0.681    405831\n",
      "   macro avg      0.601     0.633     0.604    405831\n",
      "weighted avg      0.742     0.681     0.703    405831\n",
      "\n"
     ]
    }
   ],
   "source": [
    "# classification report for test dataset\n",
    "print(metrics.classification_report(Y_test, y_test_pred,digits=3))"
   ]
  },
  {
   "cell_type": "markdown",
   "metadata": {
    "id": "NZcOo9sUNNJP"
   },
   "source": [
    "# **Train- Test Split for Joint Account**"
   ]
  },
  {
   "cell_type": "code",
   "execution_count": 101,
   "metadata": {
    "id": "rvlf0UKwcDDv"
   },
   "outputs": [],
   "source": [
    "y_j = jnt_df['target']\n",
    "x_j = jnt_df.drop('target',axis=1)"
   ]
  },
  {
   "cell_type": "code",
   "execution_count": 102,
   "metadata": {
    "colab": {
     "base_uri": "https://localhost:8080/"
    },
    "id": "cIJhKy4ccPy7",
    "outputId": "427d17f7-cd11-4461-c75e-7b8f0d6833f0"
   },
   "outputs": [
    {
     "data": {
      "text/plain": [
       "(29584, 18)"
      ]
     },
     "execution_count": 102,
     "metadata": {},
     "output_type": "execute_result"
    }
   ],
   "source": [
    "x_j.shape"
   ]
  },
  {
   "cell_type": "code",
   "execution_count": 103,
   "metadata": {
    "colab": {
     "base_uri": "https://localhost:8080/"
    },
    "id": "Y4nZZr6FcW-D",
    "outputId": "8b62cae4-b7b0-4ffe-fb01-df38b40dd69b"
   },
   "outputs": [
    {
     "data": {
      "text/plain": [
       "(29584,)"
      ]
     },
     "execution_count": 103,
     "metadata": {},
     "output_type": "execute_result"
    }
   ],
   "source": [
    "y_j.shape"
   ]
  },
  {
   "cell_type": "code",
   "execution_count": 104,
   "metadata": {
    "id": "7YyB8PofcdFQ"
   },
   "outputs": [],
   "source": [
    "y_j=y_j.astype('int')"
   ]
  },
  {
   "cell_type": "code",
   "execution_count": 105,
   "metadata": {
    "colab": {
     "base_uri": "https://localhost:8080/"
    },
    "id": "Zd_2RX9ucnm8",
    "outputId": "63261c1a-4ae4-4f24-b8f1-415466f15746"
   },
   "outputs": [
    {
     "name": "stdout",
     "output_type": "stream",
     "text": [
      "[[-0.51956992 -0.23678042  0.65315817 ... -1.03022355 -1.6699117\n",
      "  -0.14026631]\n",
      " [-0.40347571 -1.09171566  0.65315817 ...  0.29277685  0.49537837\n",
      "  -0.65238113]\n",
      " [-0.18944151 -0.66424804  0.65315817 ...  0.46031838 -0.48884439\n",
      "   0.1268326 ]\n",
      " ...\n",
      " [ 0.2785778  -0.23678042  0.65315817 ... -0.18096128 -1.2762226\n",
      "  -0.18267965]\n",
      " [ 1.07672553 -1.09171566  0.65315817 ... -1.0822192  -1.2762226\n",
      "   0.0626868 ]\n",
      " [-0.02616951  0.90313324  0.65315817 ... -0.75291342 -1.86675625\n",
      "  -0.17216394]]\n"
     ]
    }
   ],
   "source": [
    "scaler.fit(x_j)\n",
    "\n",
    "x_j = scaler.transform(x_j)\n",
    "print(x_j)"
   ]
  },
  {
   "cell_type": "markdown",
   "metadata": {
    "id": "IxdguphUnfsS"
   },
   "source": [
    "**Splitting the data into training and testing for Joint Account.**"
   ]
  },
  {
   "cell_type": "code",
   "execution_count": 106,
   "metadata": {
    "id": "k223W0Y5czaa"
   },
   "outputs": [],
   "source": [
    "x_j_train, x_j_test, y_j_train, y_j_test = train_test_split(x_j, y_j, test_size=0.3,\n",
    "                                                    random_state=44)"
   ]
  },
  {
   "cell_type": "markdown",
   "metadata": {
    "id": "h3C-Oercl_oh"
   },
   "source": [
    "**<h3><font color='green'>Modelling - Random Forest for Joint acc**"
   ]
  },
  {
   "cell_type": "code",
   "execution_count": 107,
   "metadata": {
    "id": "Ki1nnB4_hzVd"
   },
   "outputs": [],
   "source": [
    "# Predicting using the Random Forest Classifier\n",
    "from sklearn.ensemble import RandomForestClassifier\n",
    "\n",
    "model_RandomForest=RandomForestClassifier(n_estimators=25, random_state=10,max_depth=6)\n",
    "\n",
    "# Fit the model on the data and predict the values\n",
    "\n",
    "model_RandomForest.fit(x_j_train,y_j_train)\n",
    "\n",
    "y_j_pred =model_RandomForest.predict(x_j_test)"
   ]
  },
  {
   "cell_type": "code",
   "execution_count": 108,
   "metadata": {
    "colab": {
     "base_uri": "https://localhost:8080/"
    },
    "id": "IdUzPX27Bjbx",
    "outputId": "85eff0f5-4b5f-46b9-e9a2-59934a7e11a9"
   },
   "outputs": [
    {
     "name": "stdout",
     "output_type": "stream",
     "text": [
      "[[5544  300]\n",
      " [2608  424]]\n",
      "Classification report: \n",
      "              precision    recall  f1-score   support\n",
      "\n",
      "           0       0.68      0.95      0.79      5844\n",
      "           1       0.59      0.14      0.23      3032\n",
      "\n",
      "    accuracy                           0.67      8876\n",
      "   macro avg       0.63      0.54      0.51      8876\n",
      "weighted avg       0.65      0.67      0.60      8876\n",
      "\n"
     ]
    },
    {
     "data": {
      "text/plain": [
       "0.6723749436683191"
      ]
     },
     "execution_count": 108,
     "metadata": {},
     "output_type": "execute_result"
    }
   ],
   "source": [
    "# Checking the accuracy and the type 1 and type 2 error with confusion matrix.\n",
    "from sklearn.metrics import confusion_matrix, accuracy_score, classification_report\n",
    "\n",
    "cfm=confusion_matrix(y_j_test,y_j_pred)\n",
    "print(cfm)\n",
    "\n",
    "print(\"Classification report: \")\n",
    "\n",
    "print(classification_report(y_j_test,y_j_pred))\n",
    "\n",
    "accuracy_score(y_j_test,y_j_pred)"
   ]
  },
  {
   "cell_type": "markdown",
   "metadata": {
    "id": "ld0Edk8Qzyf-"
   },
   "source": [
    "**The accuracy for the Joint account type is 67.2% which is not doing so well,**\n",
    "**and here also the precision and recall is not good for the default class.**"
   ]
  },
  {
   "cell_type": "markdown",
   "metadata": {
    "id": "HegmU3l_NO64"
   },
   "source": [
    "**Since our target varible is imbalance so to fix this lets use oversampling method to balance the minority value i.e. here default value to make balance in target column.**"
   ]
  },
  {
   "cell_type": "code",
   "execution_count": 109,
   "metadata": {
    "id": "_jV6Q67JNPab"
   },
   "outputs": [],
   "source": [
    "from imblearn import under_sampling, over_sampling\n",
    "from imblearn.over_sampling import SMOTE"
   ]
  },
  {
   "cell_type": "code",
   "execution_count": 110,
   "metadata": {
    "id": "UPLh6G-wCYb4"
   },
   "outputs": [],
   "source": [
    "smote=SMOTE(\"minority\")\n",
    "X_j_sm,Y_j_sm = smote.fit_resample(x_j_train,y_j_train)"
   ]
  },
  {
   "cell_type": "code",
   "execution_count": 111,
   "metadata": {
    "colab": {
     "base_uri": "https://localhost:8080/"
    },
    "id": "DFii_EW2FawH",
    "outputId": "e040c1cf-147a-4f49-9caa-9e1308c71ab2"
   },
   "outputs": [
    {
     "data": {
      "text/plain": [
       "0.697289156626506"
      ]
     },
     "execution_count": 111,
     "metadata": {},
     "output_type": "execute_result"
    }
   ],
   "source": [
    "# fitting the model\n",
    "clf_rf = RandomForestClassifier(n_estimators=25, random_state=10, max_depth=6)\n",
    "clf_rf.fit(X_j_sm,Y_j_sm)\n",
    "    \n",
    "# Predict using model\n",
    "y_j_pred = clf_rf.predict(X_j_sm)\n",
    "    \n",
    "accuracy_score(Y_j_sm,y_j_pred)"
   ]
  },
  {
   "cell_type": "code",
   "execution_count": 112,
   "metadata": {
    "colab": {
     "base_uri": "https://localhost:8080/"
    },
    "id": "Tka-luesNrjn",
    "outputId": "13cfe6db-d814-415f-dd1f-6f57df9b9bd3"
   },
   "outputs": [
    {
     "name": "stdout",
     "output_type": "stream",
     "text": [
      "              precision    recall  f1-score   support\n",
      "\n",
      "           0      0.699     0.694     0.696     13612\n",
      "           1      0.696     0.701     0.698     13612\n",
      "\n",
      "    accuracy                          0.697     27224\n",
      "   macro avg      0.697     0.697     0.697     27224\n",
      "weighted avg      0.697     0.697     0.697     27224\n",
      "\n"
     ]
    }
   ],
   "source": [
    "from sklearn import metrics\n",
    "print(metrics.classification_report(Y_j_sm, y_j_pred,digits=3))"
   ]
  },
  {
   "cell_type": "markdown",
   "metadata": {
    "id": "dH868-n3ORiE"
   },
   "source": [
    "**The precision and recall value is improved for target value 1 i.e. Default. Now precision improved from 59% to 69% and recall improved from 14% to 71%.**"
   ]
  },
  {
   "cell_type": "markdown",
   "metadata": {
    "id": "PS_J4QqaO7Qx"
   },
   "source": [
    "**Validating the model on test dataset**"
   ]
  },
  {
   "cell_type": "code",
   "execution_count": 113,
   "metadata": {
    "id": "PeAiYbmiO41o"
   },
   "outputs": [],
   "source": [
    "# predicting the values from test data\n",
    "y_j_test_pred = clf_rf.predict(x_j_test)"
   ]
  },
  {
   "cell_type": "code",
   "execution_count": 114,
   "metadata": {
    "colab": {
     "base_uri": "https://localhost:8080/"
    },
    "id": "ybgFYCdrPC6T",
    "outputId": "980d2f6d-ac78-43b0-f5b7-ab009f256bdb"
   },
   "outputs": [
    {
     "data": {
      "text/plain": [
       "0.6324921135646687"
      ]
     },
     "execution_count": 114,
     "metadata": {},
     "output_type": "execute_result"
    }
   ],
   "source": [
    "# checking the accuracy for test data set\n",
    "accuracy_score(y_j_test,y_j_test_pred)"
   ]
  },
  {
   "cell_type": "markdown",
   "metadata": {
    "id": "JIa1XsYWPSP5"
   },
   "source": [
    "**Accuracy for test dataset is 63% which is close to train dataset i.e. 69%**"
   ]
  },
  {
   "cell_type": "code",
   "execution_count": 115,
   "metadata": {
    "colab": {
     "base_uri": "https://localhost:8080/"
    },
    "id": "-wco2t_IPPvg",
    "outputId": "4fc3c4ae-a49f-46c9-c4a8-b2a6188c4d6b"
   },
   "outputs": [
    {
     "data": {
      "text/plain": [
       "array([[3987, 1857],\n",
       "       [1405, 1627]], dtype=int64)"
      ]
     },
     "execution_count": 115,
     "metadata": {},
     "output_type": "execute_result"
    }
   ],
   "source": [
    "# confusion metrics for test dataset\n",
    "confusion = metrics.confusion_matrix(y_j_test, y_j_test_pred )\n",
    "confusion"
   ]
  },
  {
   "cell_type": "code",
   "execution_count": 116,
   "metadata": {
    "colab": {
     "base_uri": "https://localhost:8080/"
    },
    "id": "FvmOa4rJPgPV",
    "outputId": "dbb7e7f2-1e57-40c4-a622-8c952b5fc26b"
   },
   "outputs": [
    {
     "name": "stdout",
     "output_type": "stream",
     "text": [
      "              precision    recall  f1-score   support\n",
      "\n",
      "           0      0.739     0.682     0.710      5844\n",
      "           1      0.467     0.537     0.499      3032\n",
      "\n",
      "    accuracy                          0.632      8876\n",
      "   macro avg      0.603     0.609     0.605      8876\n",
      "weighted avg      0.646     0.632     0.638      8876\n",
      "\n"
     ]
    }
   ],
   "source": [
    "# classification report for test dataset\n",
    "print(metrics.classification_report(y_j_test, y_j_test_pred,digits=3))"
   ]
  },
  {
   "cell_type": "markdown",
   "metadata": {
    "id": "rAx65A812VZ1"
   },
   "source": [
    "# **Conclusion**"
   ]
  },
  {
   "cell_type": "markdown",
   "metadata": {
    "id": "V3orFeDN2o7G"
   },
   "source": [
    "***We have successfully built an machine learning algorithm to predict preventing investing on the bad loans and also have balanced the target variable .***"
   ]
  },
  {
   "cell_type": "code",
   "execution_count": 117,
   "metadata": {},
   "outputs": [],
   "source": [
    "import pickle"
   ]
  },
  {
   "cell_type": "code",
   "execution_count": 118,
   "metadata": {},
   "outputs": [],
   "source": [
    "pickle.dump(clf,open('indi_model.pkl','wb'))"
   ]
  },
  {
   "cell_type": "code",
   "execution_count": 119,
   "metadata": {},
   "outputs": [],
   "source": [
    "pickle.dump(clf_rf,open('jnt_model.pkl','wb'))"
   ]
  },
  {
   "cell_type": "code",
   "execution_count": null,
   "metadata": {},
   "outputs": [],
   "source": [
    "fdghjjkjkjkjk"
   ]
  },
  {
   "cell_type": "code",
   "execution_count": 129,
   "metadata": {},
   "outputs": [],
   "source": [
    "row1=ind_df[ind_df.target==0].head(3)"
   ]
  },
  {
   "cell_type": "code",
   "execution_count": 130,
   "metadata": {},
   "outputs": [],
   "source": [
    "row1.drop('target',axis=1,inplace=True)"
   ]
  },
  {
   "cell_type": "code",
   "execution_count": 131,
   "metadata": {},
   "outputs": [
    {
     "data": {
      "text/html": [
       "<div>\n",
       "<style scoped>\n",
       "    .dataframe tbody tr th:only-of-type {\n",
       "        vertical-align: middle;\n",
       "    }\n",
       "\n",
       "    .dataframe tbody tr th {\n",
       "        vertical-align: top;\n",
       "    }\n",
       "\n",
       "    .dataframe thead th {\n",
       "        text-align: right;\n",
       "    }\n",
       "</style>\n",
       "<table border=\"1\" class=\"dataframe\">\n",
       "  <thead>\n",
       "    <tr style=\"text-align: right;\">\n",
       "      <th></th>\n",
       "      <th>annual_inc</th>\n",
       "      <th>dti</th>\n",
       "      <th>fico_score</th>\n",
       "      <th>home_ownership</th>\n",
       "      <th>installment</th>\n",
       "      <th>loan_amnt</th>\n",
       "      <th>earliest_cr_line</th>\n",
       "      <th>issue_d</th>\n",
       "      <th>mort_acc</th>\n",
       "      <th>term</th>\n",
       "      <th>verification_status</th>\n",
       "      <th>zip_code</th>\n",
       "      <th>open_acc</th>\n",
       "      <th>total_acc</th>\n",
       "      <th>revol_util</th>\n",
       "      <th>credit_ratio</th>\n",
       "      <th>installment_ratio</th>\n",
       "      <th>credit_history</th>\n",
       "    </tr>\n",
       "  </thead>\n",
       "  <tbody>\n",
       "    <tr>\n",
       "      <th>0</th>\n",
       "      <td>55000.0</td>\n",
       "      <td>5.91</td>\n",
       "      <td>677.0</td>\n",
       "      <td>6</td>\n",
       "      <td>123.03</td>\n",
       "      <td>3600.0</td>\n",
       "      <td>082003</td>\n",
       "      <td>11970</td>\n",
       "      <td>1.0</td>\n",
       "      <td>0</td>\n",
       "      <td>2</td>\n",
       "      <td>19</td>\n",
       "      <td>7.0</td>\n",
       "      <td>13.0</td>\n",
       "      <td>29.7</td>\n",
       "      <td>0.538</td>\n",
       "      <td>0.034</td>\n",
       "      <td>4505</td>\n",
       "    </tr>\n",
       "    <tr>\n",
       "      <th>1</th>\n",
       "      <td>65000.0</td>\n",
       "      <td>16.06</td>\n",
       "      <td>717.0</td>\n",
       "      <td>6</td>\n",
       "      <td>820.28</td>\n",
       "      <td>24700.0</td>\n",
       "      <td>121999</td>\n",
       "      <td>11970</td>\n",
       "      <td>4.0</td>\n",
       "      <td>0</td>\n",
       "      <td>2</td>\n",
       "      <td>57</td>\n",
       "      <td>22.0</td>\n",
       "      <td>38.0</td>\n",
       "      <td>19.2</td>\n",
       "      <td>0.579</td>\n",
       "      <td>0.033</td>\n",
       "      <td>5844</td>\n",
       "    </tr>\n",
       "    <tr>\n",
       "      <th>2</th>\n",
       "      <td>104433.0</td>\n",
       "      <td>25.37</td>\n",
       "      <td>697.0</td>\n",
       "      <td>6</td>\n",
       "      <td>289.91</td>\n",
       "      <td>10400.0</td>\n",
       "      <td>061998</td>\n",
       "      <td>11970</td>\n",
       "      <td>5.0</td>\n",
       "      <td>1</td>\n",
       "      <td>0</td>\n",
       "      <td>17</td>\n",
       "      <td>12.0</td>\n",
       "      <td>35.0</td>\n",
       "      <td>64.5</td>\n",
       "      <td>0.343</td>\n",
       "      <td>0.028</td>\n",
       "      <td>6392</td>\n",
       "    </tr>\n",
       "  </tbody>\n",
       "</table>\n",
       "</div>"
      ],
      "text/plain": [
       "   annual_inc    dti  fico_score  home_ownership  installment  loan_amnt  \\\n",
       "0     55000.0   5.91       677.0               6       123.03     3600.0   \n",
       "1     65000.0  16.06       717.0               6       820.28    24700.0   \n",
       "2    104433.0  25.37       697.0               6       289.91    10400.0   \n",
       "\n",
       "  earliest_cr_line  issue_d  mort_acc  term  verification_status zip_code  \\\n",
       "0           082003    11970       1.0     0                    2       19   \n",
       "1           121999    11970       4.0     0                    2       57   \n",
       "2           061998    11970       5.0     1                    0       17   \n",
       "\n",
       "   open_acc  total_acc  revol_util  credit_ratio  installment_ratio  \\\n",
       "0       7.0       13.0        29.7         0.538              0.034   \n",
       "1      22.0       38.0        19.2         0.579              0.033   \n",
       "2      12.0       35.0        64.5         0.343              0.028   \n",
       "\n",
       "   credit_history  \n",
       "0            4505  \n",
       "1            5844  \n",
       "2            6392  "
      ]
     },
     "execution_count": 131,
     "metadata": {},
     "output_type": "execute_result"
    }
   ],
   "source": [
    "row1"
   ]
  },
  {
   "cell_type": "code",
   "execution_count": 201,
   "metadata": {},
   "outputs": [],
   "source": [
    "row1=scaler.transform(row1)"
   ]
  },
  {
   "cell_type": "code",
   "execution_count": 202,
   "metadata": {},
   "outputs": [],
   "source": [
    "predict=clf_rf.predict(row1)"
   ]
  },
  {
   "cell_type": "code",
   "execution_count": 203,
   "metadata": {},
   "outputs": [
    {
     "data": {
      "text/plain": [
       "array([1])"
      ]
     },
     "execution_count": 203,
     "metadata": {},
     "output_type": "execute_result"
    }
   ],
   "source": [
    "predict"
   ]
  },
  {
   "cell_type": "code",
   "execution_count": 139,
   "metadata": {},
   "outputs": [],
   "source": [
    "row2=jnt_df[jnt_df.target==0].head(5)"
   ]
  },
  {
   "cell_type": "code",
   "execution_count": 140,
   "metadata": {},
   "outputs": [],
   "source": [
    "row2.drop('target',axis=1,inplace=True)"
   ]
  },
  {
   "cell_type": "code",
   "execution_count": 134,
   "metadata": {},
   "outputs": [],
   "source": [
    "row2=scaler.transform(row2)"
   ]
  },
  {
   "cell_type": "code",
   "execution_count": 207,
   "metadata": {},
   "outputs": [
    {
     "data": {
      "text/plain": [
       "array([1])"
      ]
     },
     "execution_count": 207,
     "metadata": {},
     "output_type": "execute_result"
    }
   ],
   "source": [
    "predict2=clf_rf.predict(row2)\n",
    "predict2"
   ]
  },
  {
   "cell_type": "code",
   "execution_count": null,
   "metadata": {},
   "outputs": [],
   "source": []
  },
  {
   "cell_type": "code",
   "execution_count": 141,
   "metadata": {},
   "outputs": [
    {
     "data": {
      "text/html": [
       "<div>\n",
       "<style scoped>\n",
       "    .dataframe tbody tr th:only-of-type {\n",
       "        vertical-align: middle;\n",
       "    }\n",
       "\n",
       "    .dataframe tbody tr th {\n",
       "        vertical-align: top;\n",
       "    }\n",
       "\n",
       "    .dataframe thead th {\n",
       "        text-align: right;\n",
       "    }\n",
       "</style>\n",
       "<table border=\"1\" class=\"dataframe\">\n",
       "  <thead>\n",
       "    <tr style=\"text-align: right;\">\n",
       "      <th></th>\n",
       "      <th>total_annual_inc</th>\n",
       "      <th>fico_score</th>\n",
       "      <th>home_ownership</th>\n",
       "      <th>installment</th>\n",
       "      <th>loan_amnt</th>\n",
       "      <th>earliest_cr_line</th>\n",
       "      <th>issue_d</th>\n",
       "      <th>dti_jnt</th>\n",
       "      <th>mort_acc</th>\n",
       "      <th>term</th>\n",
       "      <th>verification_status_joint</th>\n",
       "      <th>zip_code</th>\n",
       "      <th>open_acc</th>\n",
       "      <th>total_acc</th>\n",
       "      <th>revol_util</th>\n",
       "      <th>credit_ratio</th>\n",
       "      <th>installment_ratio</th>\n",
       "      <th>credit_history</th>\n",
       "    </tr>\n",
       "  </thead>\n",
       "  <tbody>\n",
       "    <tr>\n",
       "      <th>0</th>\n",
       "      <td>134000.00</td>\n",
       "      <td>697.0</td>\n",
       "      <td>3</td>\n",
       "      <td>432.66</td>\n",
       "      <td>20000.0</td>\n",
       "      <td>082000</td>\n",
       "      <td>122015</td>\n",
       "      <td>12.32</td>\n",
       "      <td>5.0</td>\n",
       "      <td>1</td>\n",
       "      <td>2</td>\n",
       "      <td>60</td>\n",
       "      <td>6.0</td>\n",
       "      <td>18.0</td>\n",
       "      <td>56.2</td>\n",
       "      <td>0.333</td>\n",
       "      <td>0.022</td>\n",
       "      <td>5600</td>\n",
       "    </tr>\n",
       "    <tr>\n",
       "      <th>1</th>\n",
       "      <td>142000.00</td>\n",
       "      <td>667.0</td>\n",
       "      <td>3</td>\n",
       "      <td>498.15</td>\n",
       "      <td>15000.0</td>\n",
       "      <td>082004</td>\n",
       "      <td>122015</td>\n",
       "      <td>16.48</td>\n",
       "      <td>1.0</td>\n",
       "      <td>0</td>\n",
       "      <td>2</td>\n",
       "      <td>91</td>\n",
       "      <td>9.0</td>\n",
       "      <td>16.0</td>\n",
       "      <td>88.3</td>\n",
       "      <td>0.562</td>\n",
       "      <td>0.033</td>\n",
       "      <td>4139</td>\n",
       "    </tr>\n",
       "    <tr>\n",
       "      <th>2</th>\n",
       "      <td>156749.00</td>\n",
       "      <td>682.0</td>\n",
       "      <td>3</td>\n",
       "      <td>678.37</td>\n",
       "      <td>24000.0</td>\n",
       "      <td>071998</td>\n",
       "      <td>122015</td>\n",
       "      <td>30.57</td>\n",
       "      <td>1.0</td>\n",
       "      <td>1</td>\n",
       "      <td>2</td>\n",
       "      <td>77</td>\n",
       "      <td>13.0</td>\n",
       "      <td>22.0</td>\n",
       "      <td>73.1</td>\n",
       "      <td>0.591</td>\n",
       "      <td>0.028</td>\n",
       "      <td>6362</td>\n",
       "    </tr>\n",
       "    <tr>\n",
       "      <th>3</th>\n",
       "      <td>213000.00</td>\n",
       "      <td>677.0</td>\n",
       "      <td>3</td>\n",
       "      <td>551.50</td>\n",
       "      <td>24000.0</td>\n",
       "      <td>062001</td>\n",
       "      <td>122015</td>\n",
       "      <td>22.73</td>\n",
       "      <td>2.0</td>\n",
       "      <td>1</td>\n",
       "      <td>2</td>\n",
       "      <td>64</td>\n",
       "      <td>13.0</td>\n",
       "      <td>24.0</td>\n",
       "      <td>53.3</td>\n",
       "      <td>0.542</td>\n",
       "      <td>0.023</td>\n",
       "      <td>5296</td>\n",
       "    </tr>\n",
       "    <tr>\n",
       "      <th>5</th>\n",
       "      <td>98900.88</td>\n",
       "      <td>682.0</td>\n",
       "      <td>3</td>\n",
       "      <td>518.88</td>\n",
       "      <td>15000.0</td>\n",
       "      <td>111990</td>\n",
       "      <td>122015</td>\n",
       "      <td>25.33</td>\n",
       "      <td>4.0</td>\n",
       "      <td>0</td>\n",
       "      <td>2</td>\n",
       "      <td>92</td>\n",
       "      <td>13.0</td>\n",
       "      <td>28.0</td>\n",
       "      <td>45.0</td>\n",
       "      <td>0.464</td>\n",
       "      <td>0.035</td>\n",
       "      <td>9161</td>\n",
       "    </tr>\n",
       "  </tbody>\n",
       "</table>\n",
       "</div>"
      ],
      "text/plain": [
       "   total_annual_inc  fico_score  home_ownership  installment  loan_amnt  \\\n",
       "0         134000.00       697.0               3       432.66    20000.0   \n",
       "1         142000.00       667.0               3       498.15    15000.0   \n",
       "2         156749.00       682.0               3       678.37    24000.0   \n",
       "3         213000.00       677.0               3       551.50    24000.0   \n",
       "5          98900.88       682.0               3       518.88    15000.0   \n",
       "\n",
       "  earliest_cr_line  issue_d  dti_jnt  mort_acc  term  \\\n",
       "0           082000   122015    12.32       5.0     1   \n",
       "1           082004   122015    16.48       1.0     0   \n",
       "2           071998   122015    30.57       1.0     1   \n",
       "3           062001   122015    22.73       2.0     1   \n",
       "5           111990   122015    25.33       4.0     0   \n",
       "\n",
       "   verification_status_joint zip_code  open_acc  total_acc  revol_util  \\\n",
       "0                          2       60       6.0       18.0        56.2   \n",
       "1                          2       91       9.0       16.0        88.3   \n",
       "2                          2       77      13.0       22.0        73.1   \n",
       "3                          2       64      13.0       24.0        53.3   \n",
       "5                          2       92      13.0       28.0        45.0   \n",
       "\n",
       "   credit_ratio  installment_ratio  credit_history  \n",
       "0         0.333              0.022            5600  \n",
       "1         0.562              0.033            4139  \n",
       "2         0.591              0.028            6362  \n",
       "3         0.542              0.023            5296  \n",
       "5         0.464              0.035            9161  "
      ]
     },
     "execution_count": 141,
     "metadata": {},
     "output_type": "execute_result"
    }
   ],
   "source": [
    "row2.head(5)"
   ]
  },
  {
   "cell_type": "code",
   "execution_count": null,
   "metadata": {},
   "outputs": [],
   "source": []
  }
 ],
 "metadata": {
  "colab": {
   "collapsed_sections": [],
   "machine_shape": "hm",
   "name": " Team B - Random Forest .ipynb",
   "provenance": []
  },
  "kernelspec": {
   "display_name": "Python 3",
   "language": "python",
   "name": "python3"
  },
  "language_info": {
   "codemirror_mode": {
    "name": "ipython",
    "version": 3
   },
   "file_extension": ".py",
   "mimetype": "text/x-python",
   "name": "python",
   "nbconvert_exporter": "python",
   "pygments_lexer": "ipython3",
   "version": "3.8.8"
  }
 },
 "nbformat": 4,
 "nbformat_minor": 1
}
