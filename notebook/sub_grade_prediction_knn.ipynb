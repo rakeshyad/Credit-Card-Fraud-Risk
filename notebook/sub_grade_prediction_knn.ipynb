{
 "cells": [
  {
   "cell_type": "code",
   "execution_count": 1,
   "id": "ea024d4f",
   "metadata": {},
   "outputs": [],
   "source": [
    "import numpy as np\n",
    "import pandas as pd\n",
    "from sklearn.neighbors import KNeighborsRegressor\n",
    "import pickle\n"
   ]
  },
  {
   "cell_type": "code",
   "execution_count": 2,
   "id": "8865b60d",
   "metadata": {},
   "outputs": [],
   "source": [
    "sub_grad=pd.read_csv(\"grade_to_fico.csv\")\n",
    "grad=pd.read_csv(\"grade_to_apr.csv\")"
   ]
  },
  {
   "cell_type": "code",
   "execution_count": 3,
   "id": "f4ec7ac5",
   "metadata": {},
   "outputs": [
    {
     "data": {
      "text/html": [
       "<div>\n",
       "<style scoped>\n",
       "    .dataframe tbody tr th:only-of-type {\n",
       "        vertical-align: middle;\n",
       "    }\n",
       "\n",
       "    .dataframe tbody tr th {\n",
       "        vertical-align: top;\n",
       "    }\n",
       "\n",
       "    .dataframe thead th {\n",
       "        text-align: right;\n",
       "    }\n",
       "</style>\n",
       "<table border=\"1\" class=\"dataframe\">\n",
       "  <thead>\n",
       "    <tr style=\"text-align: right;\">\n",
       "      <th></th>\n",
       "      <th>sub_grade</th>\n",
       "      <th>score</th>\n",
       "      <th>value</th>\n",
       "    </tr>\n",
       "  </thead>\n",
       "  <tbody>\n",
       "    <tr>\n",
       "      <th>0</th>\n",
       "      <td>A1</td>\n",
       "      <td>789</td>\n",
       "      <td>0</td>\n",
       "    </tr>\n",
       "    <tr>\n",
       "      <th>1</th>\n",
       "      <td>A2</td>\n",
       "      <td>780</td>\n",
       "      <td>1</td>\n",
       "    </tr>\n",
       "    <tr>\n",
       "      <th>2</th>\n",
       "      <td>A3</td>\n",
       "      <td>769</td>\n",
       "      <td>2</td>\n",
       "    </tr>\n",
       "    <tr>\n",
       "      <th>3</th>\n",
       "      <td>A4</td>\n",
       "      <td>761</td>\n",
       "      <td>3</td>\n",
       "    </tr>\n",
       "    <tr>\n",
       "      <th>4</th>\n",
       "      <td>A5</td>\n",
       "      <td>741</td>\n",
       "      <td>4</td>\n",
       "    </tr>\n",
       "  </tbody>\n",
       "</table>\n",
       "</div>"
      ],
      "text/plain": [
       "  sub_grade  score   value\n",
       "0        A1     789      0\n",
       "1        A2     780      1\n",
       "2        A3     769      2\n",
       "3        A4     761      3\n",
       "4        A5     741      4"
      ]
     },
     "execution_count": 3,
     "metadata": {},
     "output_type": "execute_result"
    }
   ],
   "source": [
    "sub_grad.head()"
   ]
  },
  {
   "cell_type": "code",
   "execution_count": 4,
   "id": "bbc4da01",
   "metadata": {},
   "outputs": [
    {
     "data": {
      "text/html": [
       "<div>\n",
       "<style scoped>\n",
       "    .dataframe tbody tr th:only-of-type {\n",
       "        vertical-align: middle;\n",
       "    }\n",
       "\n",
       "    .dataframe tbody tr th {\n",
       "        vertical-align: top;\n",
       "    }\n",
       "\n",
       "    .dataframe thead th {\n",
       "        text-align: right;\n",
       "    }\n",
       "</style>\n",
       "<table border=\"1\" class=\"dataframe\">\n",
       "  <thead>\n",
       "    <tr style=\"text-align: right;\">\n",
       "      <th></th>\n",
       "      <th>grade_num</th>\n",
       "      <th>loan_grade</th>\n",
       "      <th>apr</th>\n",
       "      <th>36_mo</th>\n",
       "      <th>60_mo</th>\n",
       "    </tr>\n",
       "  </thead>\n",
       "  <tbody>\n",
       "    <tr>\n",
       "      <th>0</th>\n",
       "      <td>0</td>\n",
       "      <td>A1</td>\n",
       "      <td>6.03</td>\n",
       "      <td>6.78</td>\n",
       "      <td>7.30</td>\n",
       "    </tr>\n",
       "    <tr>\n",
       "      <th>1</th>\n",
       "      <td>1</td>\n",
       "      <td>A2</td>\n",
       "      <td>6.97</td>\n",
       "      <td>7.99</td>\n",
       "      <td>8.26</td>\n",
       "    </tr>\n",
       "    <tr>\n",
       "      <th>2</th>\n",
       "      <td>2</td>\n",
       "      <td>A3</td>\n",
       "      <td>7.62</td>\n",
       "      <td>8.99</td>\n",
       "      <td>8.91</td>\n",
       "    </tr>\n",
       "    <tr>\n",
       "      <th>3</th>\n",
       "      <td>3</td>\n",
       "      <td>A4</td>\n",
       "      <td>8.60</td>\n",
       "      <td>9.98</td>\n",
       "      <td>9.91</td>\n",
       "    </tr>\n",
       "    <tr>\n",
       "      <th>4</th>\n",
       "      <td>4</td>\n",
       "      <td>A5</td>\n",
       "      <td>9.25</td>\n",
       "      <td>10.99</td>\n",
       "      <td>10.56</td>\n",
       "    </tr>\n",
       "  </tbody>\n",
       "</table>\n",
       "</div>"
      ],
      "text/plain": [
       "   grade_num loan_grade   apr  36_mo  60_mo\n",
       "0          0         A1  6.03   6.78   7.30\n",
       "1          1         A2  6.97   7.99   8.26\n",
       "2          2         A3  7.62   8.99   8.91\n",
       "3          3         A4  8.60   9.98   9.91\n",
       "4          4         A5  9.25  10.99  10.56"
      ]
     },
     "execution_count": 4,
     "metadata": {},
     "output_type": "execute_result"
    }
   ],
   "source": [
    "grad.head()"
   ]
  },
  {
   "cell_type": "code",
   "execution_count": 5,
   "id": "abf8578e",
   "metadata": {},
   "outputs": [],
   "source": [
    "x=sub_grad['score ']"
   ]
  },
  {
   "cell_type": "code",
   "execution_count": 6,
   "id": "65a095eb",
   "metadata": {},
   "outputs": [],
   "source": [
    "y=sub_grad['value']"
   ]
  },
  {
   "cell_type": "code",
   "execution_count": 7,
   "id": "1ded2cef",
   "metadata": {},
   "outputs": [
    {
     "data": {
      "text/plain": [
       "array([[789, 780, 769, 761, 741, 736, 733, 724, 719, 704, 696, 698, 689,\n",
       "        689, 680, 679, 680, 675, 669, 670, 660, 660, 660, 659, 657, 665,\n",
       "        662, 664, 658, 652, 654, 652, 648, 649, 652]], dtype=int64)"
      ]
     },
     "execution_count": 7,
     "metadata": {},
     "output_type": "execute_result"
    }
   ],
   "source": [
    "np.reshape(x.values,(1,-1))"
   ]
  },
  {
   "cell_type": "code",
   "execution_count": 8,
   "id": "9e3381e0",
   "metadata": {},
   "outputs": [
    {
     "data": {
      "text/plain": [
       "array([789, 780, 769, 761, 741, 736, 733, 724, 719, 704, 696, 698, 689,\n",
       "       689, 680, 679, 680, 675, 669, 670, 660, 660, 660, 659, 657, 665,\n",
       "       662, 664, 658, 652, 654, 652, 648, 649, 652], dtype=int64)"
      ]
     },
     "execution_count": 8,
     "metadata": {},
     "output_type": "execute_result"
    }
   ],
   "source": [
    "x.values"
   ]
  },
  {
   "cell_type": "code",
   "execution_count": 9,
   "id": "46205fa6",
   "metadata": {},
   "outputs": [
    {
     "data": {
      "text/plain": [
       "0    0\n",
       "1    1\n",
       "2    2\n",
       "3    3\n",
       "4    4\n",
       "Name: value, dtype: int64"
      ]
     },
     "execution_count": 9,
     "metadata": {},
     "output_type": "execute_result"
    }
   ],
   "source": [
    "y.head()"
   ]
  },
  {
   "cell_type": "code",
   "execution_count": 10,
   "id": "e038d7c5",
   "metadata": {},
   "outputs": [
    {
     "data": {
      "text/plain": [
       "KNeighborsRegressor(n_neighbors=1)"
      ]
     },
     "execution_count": 10,
     "metadata": {},
     "output_type": "execute_result"
    }
   ],
   "source": [
    "# initializing knn object\n",
    "knn_sg = KNeighborsRegressor(n_neighbors=1)\n",
    "\n",
    "#fiting to the data\n",
    "knn_sg.fit(np.reshape(x.values, (-1, 1)), y)\n"
   ]
  },
  {
   "cell_type": "code",
   "execution_count": 11,
   "id": "71f54042",
   "metadata": {},
   "outputs": [
    {
     "data": {
      "text/plain": [
       "5.0"
      ]
     },
     "execution_count": 11,
     "metadata": {},
     "output_type": "execute_result"
    }
   ],
   "source": [
    "# getting prediction for sample value\n",
    "sub_grad_pred=knn_sg.predict(np.reshape([735],(1,-1)))[0]\n",
    "sub_grad_pred"
   ]
  },
  {
   "cell_type": "code",
   "execution_count": 12,
   "id": "010c7d21",
   "metadata": {},
   "outputs": [
    {
     "data": {
      "text/plain": [
       "12.46"
      ]
     },
     "execution_count": 12,
     "metadata": {},
     "output_type": "execute_result"
    }
   ],
   "source": [
    "grad[grad['grade_num']==int(sub_grad_pred)]['36_mo'].values[0]"
   ]
  },
  {
   "cell_type": "code",
   "execution_count": 13,
   "id": "e564e8fd",
   "metadata": {},
   "outputs": [],
   "source": [
    "pickle.dump(knn_sg,open('knn_sg.pkl','wb'))"
   ]
  }
 ],
 "metadata": {
  "kernelspec": {
   "display_name": "Python 3",
   "language": "python",
   "name": "python3"
  },
  "language_info": {
   "codemirror_mode": {
    "name": "ipython",
    "version": 3
   },
   "file_extension": ".py",
   "mimetype": "text/x-python",
   "name": "python",
   "nbconvert_exporter": "python",
   "pygments_lexer": "ipython3",
   "version": "3.8.8"
  }
 },
 "nbformat": 4,
 "nbformat_minor": 5
}
